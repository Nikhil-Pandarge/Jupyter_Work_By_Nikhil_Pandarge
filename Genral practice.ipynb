{
 "cells": [
  {
   "cell_type": "code",
   "execution_count": 8,
   "metadata": {},
   "outputs": [
    {
     "ename": "TypeError",
     "evalue": "not all arguments converted during string formatting",
     "output_type": "error",
     "traceback": [
      "\u001b[1;31m---------------------------------------------------------------------------\u001b[0m",
      "\u001b[1;31mTypeError\u001b[0m                                 Traceback (most recent call last)",
      "\u001b[1;32md:\\17L plus\\Rough files and notes\\Genral practice.ipynb Cell 1'\u001b[0m in \u001b[0;36m<cell line: 2>\u001b[1;34m()\u001b[0m\n\u001b[0;32m      <a href='vscode-notebook-cell:/d%3A/17L%20plus/Rough%20files%20and%20notes/Genral%20practice.ipynb#ch0000000?line=0'>1</a>\u001b[0m List1\u001b[39m=\u001b[39m[]\n\u001b[0;32m      <a href='vscode-notebook-cell:/d%3A/17L%20plus/Rough%20files%20and%20notes/Genral%20practice.ipynb#ch0000000?line=1'>2</a>\u001b[0m \u001b[39mfor\u001b[39;00m i \u001b[39min\u001b[39;00m \u001b[39mstr\u001b[39m(\u001b[39minput\u001b[39m):\n\u001b[1;32m----> <a href='vscode-notebook-cell:/d%3A/17L%20plus/Rough%20files%20and%20notes/Genral%20practice.ipynb#ch0000000?line=2'>3</a>\u001b[0m    \u001b[39mif\u001b[39;00m(i\u001b[39m%\u001b[39;49m\u001b[39m2\u001b[39;49m\u001b[39m==\u001b[39m\u001b[39m0\u001b[39m):\n\u001b[0;32m      <a href='vscode-notebook-cell:/d%3A/17L%20plus/Rough%20files%20and%20notes/Genral%20practice.ipynb#ch0000000?line=3'>4</a>\u001b[0m        List1\u001b[39m.\u001b[39mappend(\u001b[39mint\u001b[39m(i))\n\u001b[0;32m      <a href='vscode-notebook-cell:/d%3A/17L%20plus/Rough%20files%20and%20notes/Genral%20practice.ipynb#ch0000000?line=4'>5</a>\u001b[0m \u001b[39mprint\u001b[39m(\u001b[39msum\u001b[39m(List1))\n",
      "\u001b[1;31mTypeError\u001b[0m: not all arguments converted during string formatting"
     ]
    }
   ],
   "source": [
    "List1=[]\n",
    "for i in str(input):\n",
    "   if(i%2==0):\n",
    "       List1.append(int(i))\n",
    "print(sum(List1))"
   ]
  },
  {
   "cell_type": "code",
   "execution_count": null,
   "metadata": {},
   "outputs": [],
   "source": [
    "evens = []\n",
    "odds = []\n",
    "\n",
    "for i in range(6):\n",
    "  number = int(input('Enter a value: '))\n",
    "  if number%2==0:\n",
    "    evens.append(number)\n",
    "  else:\n",
    "    odds.append(number)\n",
    "\n",
    "print(sum(evens))"
   ]
  },
  {
   "cell_type": "code",
   "execution_count": 1,
   "metadata": {},
   "outputs": [
    {
     "name": "stdout",
     "output_type": "stream",
     "text": [
      "y\n"
     ]
    }
   ],
   "source": []
  }
 ],
 "metadata": {
  "kernelspec": {
   "display_name": "Python 3.8.10 64-bit (windows store)",
   "language": "python",
   "name": "python3"
  },
  "language_info": {
   "codemirror_mode": {
    "name": "ipython",
    "version": 3
   },
   "file_extension": ".py",
   "mimetype": "text/x-python",
   "name": "python",
   "nbconvert_exporter": "python",
   "pygments_lexer": "ipython3",
   "version": "3.8.10"
  },
  "orig_nbformat": 4,
  "vscode": {
   "interpreter": {
    "hash": "670f4d9e814692fdd1e38c88fb8eb85288c8edead8c9a7859d67782047275738"
   }
  }
 },
 "nbformat": 4,
 "nbformat_minor": 2
}
