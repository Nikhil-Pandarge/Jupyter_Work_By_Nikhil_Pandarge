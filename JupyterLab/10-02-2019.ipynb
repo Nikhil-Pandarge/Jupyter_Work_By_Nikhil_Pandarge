{
 "cells": [
  {
   "cell_type": "code",
   "execution_count": 8,
   "metadata": {},
   "outputs": [
    {
     "name": "stdout",
     "output_type": "stream",
     "text": [
      "Hens my chicken bills:\n",
      "Hens 160\n",
      "Mine: 11.25\n"
     ]
    }
   ],
   "source": [
    "print(\"Hens my chicken bills:\")\n",
    "print(\"Hens\",25*6+10)\n",
    "print(\"Mine:\",30-25 * 3/4)"
   ]
  },
  {
   "cell_type": "code",
   "execution_count": 9,
   "metadata": {},
   "outputs": [
    {
     "name": "stdout",
     "output_type": "stream",
     "text": [
      "True\n"
     ]
    }
   ],
   "source": [
    "print(3+5 < 9)"
   ]
  },
  {
   "cell_type": "code",
   "execution_count": 13,
   "metadata": {},
   "outputs": [
    {
     "name": "stdout",
     "output_type": "stream",
     "text": [
      "what will be if 5-7, -2\n"
     ]
    }
   ],
   "source": [
    "print(\"what will be if 5-7,\",5 -7 )"
   ]
  },
  {
   "cell_type": "code",
   "execution_count": 15,
   "metadata": {},
   "outputs": [
    {
     "data": {
      "text/plain": [
       "1.75"
      ]
     },
     "execution_count": 15,
     "metadata": {},
     "output_type": "execute_result"
    }
   ],
   "source": [
    "7 / 4"
   ]
  },
  {
   "cell_type": "code",
   "execution_count": 34,
   "metadata": {},
   "outputs": [
    {
     "name": "stdout",
     "output_type": "stream",
     "text": [
      " There is 10 types of people \n"
     ]
    }
   ],
   "source": [
    "x = \" There is %s types of people \" % 10\n",
    "print(x)"
   ]
  },
  {
   "cell_type": "code",
   "execution_count": 24,
   "metadata": {},
   "outputs": [
    {
     "name": "stdout",
     "output_type": "stream",
     "text": [
      "I said that:' There is 10 types of people '\n"
     ]
    }
   ],
   "source": [
    "print(\"I said that:%r\"%x)"
   ]
  },
  {
   "cell_type": "code",
   "execution_count": 26,
   "metadata": {},
   "outputs": [
    {
     "name": "stdout",
     "output_type": "stream",
     "text": [
      "i want jump and high thanks.\n"
     ]
    }
   ],
   "source": [
    "print(\"i want %s and %s thanks.\"%(\"jump\",\"high\"))"
   ]
  },
  {
   "cell_type": "code",
   "execution_count": 27,
   "metadata": {},
   "outputs": [
    {
     "name": "stdout",
     "output_type": "stream",
     "text": [
      "i want 'jump' and 'high' thanks.\n"
     ]
    }
   ],
   "source": [
    "print(\"i want %r and %r thanks.\"%(\"jump\",\"high\"))"
   ]
  },
  {
   "cell_type": "code",
   "execution_count": 35,
   "metadata": {},
   "outputs": [
    {
     "name": "stdout",
     "output_type": "stream",
     "text": [
      "i want 10 and 20 thanks.\n"
     ]
    }
   ],
   "source": [
    "print(\"i want %d and %d thanks.\"%(10,20))"
   ]
  },
  {
   "cell_type": "code",
   "execution_count": 42,
   "metadata": {},
   "outputs": [
    {
     "name": "stdout",
     "output_type": "stream",
     "text": [
      "isn't that joke is funny, False\n"
     ]
    }
   ],
   "source": [
    "var_name = False\n",
    "another_var_name = \"isn't that joke is funny, %s\" %var_name\n",
    "print(another_var_name)"
   ]
  },
  {
   "cell_type": "code",
   "execution_count": 46,
   "metadata": {},
   "outputs": [
    {
     "name": "stdout",
     "output_type": "stream",
     "text": [
      "2019-02-10\n"
     ]
    },
    {
     "data": {
      "text/plain": [
       "'datetime.date(2019, 2, 10)'"
      ]
     },
     "execution_count": 46,
     "metadata": {},
     "output_type": "execute_result"
    }
   ],
   "source": [
    "import datetime\n",
    "d = datetime.date.today()\n",
    "print(str(d))\n",
    "repr(d)"
   ]
  },
  {
   "cell_type": "code",
   "execution_count": 52,
   "metadata": {},
   "outputs": [
    {
     "name": "stdout",
     "output_type": "stream",
     "text": [
      "To do List:\t\n",
      " * Lata \t\n",
      " * Nagesh \t\n",
      " * Nikhil \t\n",
      " * Nishant\n"
     ]
    }
   ],
   "source": [
    "table_format = \"To do List:\\t\\n * Lata \\t\\n * Nagesh \\t\\n * Nikhil \\t\\n * Nishant\"\n",
    "print(table_format)"
   ]
  },
  {
   "cell_type": "code",
   "execution_count": 64,
   "metadata": {},
   "outputs": [
    {
     "name": "stdout",
     "output_type": "stream",
     "text": [
      "I am \\anyone \n"
     ]
    }
   ],
   "source": [
    "print(\"I am \\\\or\\b\\banyone \")"
   ]
  },
  {
   "cell_type": "code",
   "execution_count": 65,
   "metadata": {},
   "outputs": [
    {
     "name": "stdout",
     "output_type": "stream",
     "text": [
      "01-12-2018.ipynb\n",
      "02-02-2019.ipynb\n",
      "02-12-2018.ipynb\n",
      "03-02-2019.ipynb\n",
      "03-12-2018.ipynb\n",
      "03_Numpy_Notebook.ipynb\n",
      "04-12-2018.ipynb\n",
      "05-12-2018.ipynb\n",
      "05a_Matplotlib_Notebook.ipynb\n",
      "05b_Exploring Indicator's Across Countries.ipynb\n",
      "05c_Folium_Notebook.ipynb\n",
      "06-01-2019.ipynb\n",
      "07-01-2019.ipynb\n",
      "07-12-2018.ipynb\n",
      "08-01-2019.ipynb\n",
      "08-02-2019.ipynb\n",
      "08-12-2018.ipynb\n",
      "09-01-2019.ipynb\n",
      "10-01-2019.ipynb\n",
      "10-02-2019.ipynb\n",
      "11-01-2019.ipynb\n",
      "11-12-2018.ipynb\n",
      "12-01-2019.ipynb\n",
      "12-12-2018.ipynb\n",
      "13-01-2019.ipynb\n",
      "14-01-2019.ipynb\n",
      "15-01-2019.ipynb\n",
      "16-01-2019.ipynb\n",
      "18-01-2019.ipynb\n",
      "19-01-2019.ipynb\n",
      "20-01-2019(Book Day-1).ipynb\n",
      "21-01-2019(Book Day-2).ipynb\n",
      "21-01-2019_01(Book Day-2).ipynb\n",
      "22-01-2019(Book Day-3).ipynb\n",
      "23-01-2019(Book Day-4).ipynb\n",
      "25-01-2019.ipynb\n",
      "27-01-2019.ipynb\n",
      "28-01-2019.ipynb\n",
      "30-11-2018.ipynb\n",
      "31-01-2019.ipynb\n",
      "98-0.txt\n",
      "AAPL.csv\n",
      "Book1.twb\n",
      "CancerDetection.ipynb\n",
      "Exploring 67 years of LEGO\n",
      "Hierarchical_Indices_and_Pandas_Banner_vlrypg.png\n",
      "ISSN_D_tot.csv\n",
      "Indicators.csv\n",
      "Introduction to Pandas.ipynb\n",
      "LICENSE-CODE\n",
      "LICENSE-TEXT\n",
      "MOD02_1-3.1_Intro_Python.ipynb\n",
      "MOD02_1-3.2_Intro_Python.ipynb\n",
      "MOD03_1-4.1_Intro_Python.ipynb\n",
      "MOD03_1-4.2_Intro_Python.ipynb\n",
      "MOD03_1-4.3_Intro_Python.ipynb\n",
      "MOD03_1-5.1_Intro_Python(30-11-2018).ipynb\n",
      "MOD03_1-5.2_Intro_Python(30-11-2018).ipynb\n",
      "New Text Document.txt\n",
      "Practice_MOD01_1-1_IntroPy.ipynb\n",
      "Practice_MOD01_1-2_IntroPy.ipynb\n",
      "Practice_MOD02_1-3_IntroPy.ipynb\n",
      "Python For Data Science(31-01-2019).ipynb\n",
      "Python for data science(01-02-2019).ipynb\n",
      "README.md\n",
      "R_Installation proceed-11-01-2019.ipynb\n",
      "Required_Code_MOD2_IntroPy.ipynb\n",
      "Satellite Image Analysis using numpy.ipynb\n",
      "Sequence.ipynb\n",
      "String_format.ipynb\n",
      "The Evolution of the Jupyter Notebook.ipynb\n",
      "Trial.ipynb\n",
      "Week-3-Numpy\n",
      "Week-4-Pandas\n",
      "__MACOSX\n",
      "all_stocks_5yr.csv\n",
      "an_array.npy\n",
      "appl_nikihl.png\n",
      "array.txt\n",
      "asteroids\n",
      "atlassian-git-cheatsheet.pdf\n",
      "census.sqlite\n",
      "environment.yml\n",
      "file.txt\n",
      "getSandP.py\n",
      "google-python-exercises.zip\n",
      "iris.csv\n",
      "jupyterlab_Documentation.pdf\n",
      "mnist.txt\n",
      "notebooks\n",
      "padding and aligment of string.ipynb\n",
      "pydatadc_2018-tidy-master\n",
      "requirements.txt\n",
      "sales-feb-2015.csv\n",
      "seaslug.txt\n",
      "sunspots.csv\n",
      "titanic_corrupt.txt\n",
      "tweets.csv\n",
      "typing.txt\n",
      "updated.txt\n",
      "wifire\n",
      "word_cloud.py\n",
      "world-countries.json\n",
      "world_ind_pop_data.csv\n"
     ]
    }
   ],
   "source": [
    "! ls"
   ]
  },
  {
   "cell_type": "code",
   "execution_count": 1,
   "metadata": {},
   "outputs": [],
   "source": [
    "import pandas as pd"
   ]
  },
  {
   "cell_type": "code",
   "execution_count": 12,
   "metadata": {},
   "outputs": [
    {
     "name": "stdout",
     "output_type": "stream",
     "text": [
      "['bdonly']\n"
     ]
    },
    {
     "data": {
      "text/html": [
       "<div>\n",
       "<style scoped>\n",
       "    .dataframe tbody tr th:only-of-type {\n",
       "        vertical-align: middle;\n",
       "    }\n",
       "\n",
       "    .dataframe tbody tr th {\n",
       "        vertical-align: top;\n",
       "    }\n",
       "\n",
       "    .dataframe thead th {\n",
       "        text-align: right;\n",
       "    }\n",
       "</style>\n",
       "<table border=\"1\" class=\"dataframe\">\n",
       "  <thead>\n",
       "    <tr style=\"text-align: right;\">\n",
       "      <th></th>\n",
       "      <th>id</th>\n",
       "      <th>year</th>\n",
       "      <th>bdeadlow</th>\n",
       "      <th>bdeadhig</th>\n",
       "      <th>bdeadbes</th>\n",
       "      <th>annualdata</th>\n",
       "      <th>source</th>\n",
       "      <th>bdversion</th>\n",
       "      <th>location</th>\n",
       "      <th>sidea</th>\n",
       "      <th>...</th>\n",
       "      <th>epend</th>\n",
       "      <th>ependdate</th>\n",
       "      <th>ependprec</th>\n",
       "      <th>gwnoa</th>\n",
       "      <th>gwnoa2nd</th>\n",
       "      <th>gwnob</th>\n",
       "      <th>gwnob2nd</th>\n",
       "      <th>gwnoloc</th>\n",
       "      <th>region</th>\n",
       "      <th>version</th>\n",
       "    </tr>\n",
       "  </thead>\n",
       "  <tbody>\n",
       "    <tr>\n",
       "      <th>0</th>\n",
       "      <td>1</td>\n",
       "      <td>1946</td>\n",
       "      <td>1000</td>\n",
       "      <td>9999</td>\n",
       "      <td>1000</td>\n",
       "      <td>2</td>\n",
       "      <td>1</td>\n",
       "      <td>3</td>\n",
       "      <td>Bolivia</td>\n",
       "      <td>Bolivia</td>\n",
       "      <td>...</td>\n",
       "      <td>1</td>\n",
       "      <td>1946-07-21</td>\n",
       "      <td>-99.0</td>\n",
       "      <td>145</td>\n",
       "      <td>NaN</td>\n",
       "      <td>NaN</td>\n",
       "      <td>NaN</td>\n",
       "      <td>145</td>\n",
       "      <td>5</td>\n",
       "      <td>2009-4</td>\n",
       "    </tr>\n",
       "    <tr>\n",
       "      <th>1</th>\n",
       "      <td>1</td>\n",
       "      <td>1952</td>\n",
       "      <td>450</td>\n",
       "      <td>3000</td>\n",
       "      <td>-999</td>\n",
       "      <td>2</td>\n",
       "      <td>1</td>\n",
       "      <td>3</td>\n",
       "      <td>Bolivia</td>\n",
       "      <td>Bolivia</td>\n",
       "      <td>...</td>\n",
       "      <td>1</td>\n",
       "      <td>1952-04-12</td>\n",
       "      <td>-99.0</td>\n",
       "      <td>145</td>\n",
       "      <td>NaN</td>\n",
       "      <td>NaN</td>\n",
       "      <td>NaN</td>\n",
       "      <td>145</td>\n",
       "      <td>5</td>\n",
       "      <td>2009-4</td>\n",
       "    </tr>\n",
       "    <tr>\n",
       "      <th>2</th>\n",
       "      <td>1</td>\n",
       "      <td>1967</td>\n",
       "      <td>25</td>\n",
       "      <td>999</td>\n",
       "      <td>82</td>\n",
       "      <td>2</td>\n",
       "      <td>1</td>\n",
       "      <td>3</td>\n",
       "      <td>Bolivia</td>\n",
       "      <td>Bolivia</td>\n",
       "      <td>...</td>\n",
       "      <td>1</td>\n",
       "      <td>1967-10-16</td>\n",
       "      <td>-99.0</td>\n",
       "      <td>145</td>\n",
       "      <td>NaN</td>\n",
       "      <td>NaN</td>\n",
       "      <td>NaN</td>\n",
       "      <td>145</td>\n",
       "      <td>5</td>\n",
       "      <td>2009-4</td>\n",
       "    </tr>\n",
       "    <tr>\n",
       "      <th>3</th>\n",
       "      <td>2</td>\n",
       "      <td>1946</td>\n",
       "      <td>25</td>\n",
       "      <td>999</td>\n",
       "      <td>-999</td>\n",
       "      <td>0</td>\n",
       "      <td>0</td>\n",
       "      <td>3</td>\n",
       "      <td>Cambodia</td>\n",
       "      <td>France</td>\n",
       "      <td>...</td>\n",
       "      <td>0</td>\n",
       "      <td>NaT</td>\n",
       "      <td>NaN</td>\n",
       "      <td>220</td>\n",
       "      <td>NaN</td>\n",
       "      <td>NaN</td>\n",
       "      <td>NaN</td>\n",
       "      <td>811</td>\n",
       "      <td>3</td>\n",
       "      <td>2009-4</td>\n",
       "    </tr>\n",
       "    <tr>\n",
       "      <th>4</th>\n",
       "      <td>2</td>\n",
       "      <td>1947</td>\n",
       "      <td>25</td>\n",
       "      <td>999</td>\n",
       "      <td>-999</td>\n",
       "      <td>0</td>\n",
       "      <td>0</td>\n",
       "      <td>3</td>\n",
       "      <td>Cambodia</td>\n",
       "      <td>France</td>\n",
       "      <td>...</td>\n",
       "      <td>0</td>\n",
       "      <td>NaT</td>\n",
       "      <td>NaN</td>\n",
       "      <td>220</td>\n",
       "      <td>NaN</td>\n",
       "      <td>NaN</td>\n",
       "      <td>NaN</td>\n",
       "      <td>811</td>\n",
       "      <td>3</td>\n",
       "      <td>2009-4</td>\n",
       "    </tr>\n",
       "  </tbody>\n",
       "</table>\n",
       "<p>5 rows × 32 columns</p>\n",
       "</div>"
      ],
      "text/plain": [
       "   id  year  bdeadlow  bdeadhig  bdeadbes  annualdata  source  bdversion  \\\n",
       "0   1  1946      1000      9999      1000           2       1          3   \n",
       "1   1  1952       450      3000      -999           2       1          3   \n",
       "2   1  1967        25       999        82           2       1          3   \n",
       "3   2  1946        25       999      -999           0       0          3   \n",
       "4   2  1947        25       999      -999           0       0          3   \n",
       "\n",
       "   location    sidea   ...    epend  ependdate ependprec  gwnoa gwnoa2nd  \\\n",
       "0   Bolivia  Bolivia   ...        1 1946-07-21     -99.0    145      NaN   \n",
       "1   Bolivia  Bolivia   ...        1 1952-04-12     -99.0    145      NaN   \n",
       "2   Bolivia  Bolivia   ...        1 1967-10-16     -99.0    145      NaN   \n",
       "3  Cambodia   France   ...        0        NaT       NaN    220      NaN   \n",
       "4  Cambodia   France   ...        0        NaT       NaN    220      NaN   \n",
       "\n",
       "   gwnob  gwnob2nd  gwnoloc region  version  \n",
       "0    NaN       NaN      145      5   2009-4  \n",
       "1    NaN       NaN      145      5   2009-4  \n",
       "2    NaN       NaN      145      5   2009-4  \n",
       "3    NaN       NaN      811      3   2009-4  \n",
       "4    NaN       NaN      811      3   2009-4  \n",
       "\n",
       "[5 rows x 32 columns]"
      ]
     },
     "execution_count": 12,
     "metadata": {},
     "output_type": "execute_result"
    }
   ],
   "source": [
    "file = 'PRIO Battle Deaths Dataset 3.0.xls'\n",
    "data_xl_file = pd.ExcelFile(file)\n",
    "print(data_xl_file.sheet_names)\n",
    "df1 = data_xl_file.parse('bdonly')\n",
    "df1.head()"
   ]
  },
  {
   "cell_type": "code",
   "execution_count": 14,
   "metadata": {},
   "outputs": [
    {
     "data": {
      "text/html": [
       "<div>\n",
       "<style scoped>\n",
       "    .dataframe tbody tr th:only-of-type {\n",
       "        vertical-align: middle;\n",
       "    }\n",
       "\n",
       "    .dataframe tbody tr th {\n",
       "        vertical-align: top;\n",
       "    }\n",
       "\n",
       "    .dataframe thead th {\n",
       "        text-align: right;\n",
       "    }\n",
       "</style>\n",
       "<table border=\"1\" class=\"dataframe\">\n",
       "  <thead>\n",
       "    <tr style=\"text-align: right;\">\n",
       "      <th></th>\n",
       "      <th>id</th>\n",
       "      <th>year</th>\n",
       "      <th>bdeadlow</th>\n",
       "      <th>bdeadhig</th>\n",
       "      <th>bdeadbes</th>\n",
       "      <th>annualdata</th>\n",
       "      <th>source</th>\n",
       "      <th>bdversion</th>\n",
       "      <th>location</th>\n",
       "      <th>sidea</th>\n",
       "      <th>...</th>\n",
       "      <th>epend</th>\n",
       "      <th>ependdate</th>\n",
       "      <th>ependprec</th>\n",
       "      <th>gwnoa</th>\n",
       "      <th>gwnoa2nd</th>\n",
       "      <th>gwnob</th>\n",
       "      <th>gwnob2nd</th>\n",
       "      <th>gwnoloc</th>\n",
       "      <th>region</th>\n",
       "      <th>version</th>\n",
       "    </tr>\n",
       "  </thead>\n",
       "  <tbody>\n",
       "    <tr>\n",
       "      <th>1952</th>\n",
       "      <td>257</td>\n",
       "      <td>2007</td>\n",
       "      <td>30</td>\n",
       "      <td>100</td>\n",
       "      <td>56</td>\n",
       "      <td>2</td>\n",
       "      <td>1</td>\n",
       "      <td>3</td>\n",
       "      <td>Russia (Soviet Union)</td>\n",
       "      <td>Russia (Soviet Union)</td>\n",
       "      <td>...</td>\n",
       "      <td>0</td>\n",
       "      <td>NaT</td>\n",
       "      <td>NaN</td>\n",
       "      <td>365</td>\n",
       "      <td>NaN</td>\n",
       "      <td>NaN</td>\n",
       "      <td>NaN</td>\n",
       "      <td>365</td>\n",
       "      <td>1</td>\n",
       "      <td>2009-4</td>\n",
       "    </tr>\n",
       "    <tr>\n",
       "      <th>1953</th>\n",
       "      <td>257</td>\n",
       "      <td>2008</td>\n",
       "      <td>237</td>\n",
       "      <td>503</td>\n",
       "      <td>339</td>\n",
       "      <td>2</td>\n",
       "      <td>1</td>\n",
       "      <td>3</td>\n",
       "      <td>Russia (Soviet Union)</td>\n",
       "      <td>Russia (Soviet Union)</td>\n",
       "      <td>...</td>\n",
       "      <td>0</td>\n",
       "      <td>NaT</td>\n",
       "      <td>NaN</td>\n",
       "      <td>365</td>\n",
       "      <td>NaN</td>\n",
       "      <td>NaN</td>\n",
       "      <td>NaN</td>\n",
       "      <td>365</td>\n",
       "      <td>1</td>\n",
       "      <td>2009-4</td>\n",
       "    </tr>\n",
       "    <tr>\n",
       "      <th>1954</th>\n",
       "      <td>258</td>\n",
       "      <td>2008</td>\n",
       "      <td>35</td>\n",
       "      <td>61</td>\n",
       "      <td>61</td>\n",
       "      <td>2</td>\n",
       "      <td>1</td>\n",
       "      <td>3</td>\n",
       "      <td>India</td>\n",
       "      <td>India</td>\n",
       "      <td>...</td>\n",
       "      <td>0</td>\n",
       "      <td>NaT</td>\n",
       "      <td>NaN</td>\n",
       "      <td>750</td>\n",
       "      <td>NaN</td>\n",
       "      <td>NaN</td>\n",
       "      <td>NaN</td>\n",
       "      <td>750</td>\n",
       "      <td>3</td>\n",
       "      <td>2009-4</td>\n",
       "    </tr>\n",
       "    <tr>\n",
       "      <th>1955</th>\n",
       "      <td>259</td>\n",
       "      <td>2008</td>\n",
       "      <td>24</td>\n",
       "      <td>35</td>\n",
       "      <td>33</td>\n",
       "      <td>2</td>\n",
       "      <td>1</td>\n",
       "      <td>3</td>\n",
       "      <td>India</td>\n",
       "      <td>India</td>\n",
       "      <td>...</td>\n",
       "      <td>0</td>\n",
       "      <td>NaT</td>\n",
       "      <td>NaN</td>\n",
       "      <td>750</td>\n",
       "      <td>NaN</td>\n",
       "      <td>NaN</td>\n",
       "      <td>NaN</td>\n",
       "      <td>750</td>\n",
       "      <td>3</td>\n",
       "      <td>2009-4</td>\n",
       "    </tr>\n",
       "    <tr>\n",
       "      <th>1956</th>\n",
       "      <td>260</td>\n",
       "      <td>2008</td>\n",
       "      <td>25</td>\n",
       "      <td>999</td>\n",
       "      <td>-999</td>\n",
       "      <td>0</td>\n",
       "      <td>0</td>\n",
       "      <td>3</td>\n",
       "      <td>Djibouti, Eritrea</td>\n",
       "      <td>Djibouti</td>\n",
       "      <td>...</td>\n",
       "      <td>0</td>\n",
       "      <td>NaT</td>\n",
       "      <td>NaN</td>\n",
       "      <td>522</td>\n",
       "      <td>NaN</td>\n",
       "      <td>531.0</td>\n",
       "      <td>NaN</td>\n",
       "      <td>522531</td>\n",
       "      <td>4</td>\n",
       "      <td>2009-4</td>\n",
       "    </tr>\n",
       "  </tbody>\n",
       "</table>\n",
       "<p>5 rows × 32 columns</p>\n",
       "</div>"
      ],
      "text/plain": [
       "       id  year  bdeadlow  bdeadhig  bdeadbes  annualdata  source  bdversion  \\\n",
       "1952  257  2007        30       100        56           2       1          3   \n",
       "1953  257  2008       237       503       339           2       1          3   \n",
       "1954  258  2008        35        61        61           2       1          3   \n",
       "1955  259  2008        24        35        33           2       1          3   \n",
       "1956  260  2008        25       999      -999           0       0          3   \n",
       "\n",
       "                   location                  sidea   ...    epend ependdate  \\\n",
       "1952  Russia (Soviet Union)  Russia (Soviet Union)   ...        0       NaT   \n",
       "1953  Russia (Soviet Union)  Russia (Soviet Union)   ...        0       NaT   \n",
       "1954                  India                  India   ...        0       NaT   \n",
       "1955                  India                  India   ...        0       NaT   \n",
       "1956      Djibouti, Eritrea               Djibouti   ...        0       NaT   \n",
       "\n",
       "     ependprec  gwnoa gwnoa2nd  gwnob  gwnob2nd  gwnoloc region  version  \n",
       "1952       NaN    365      NaN    NaN       NaN      365      1   2009-4  \n",
       "1953       NaN    365      NaN    NaN       NaN      365      1   2009-4  \n",
       "1954       NaN    750      NaN    NaN       NaN      750      3   2009-4  \n",
       "1955       NaN    750      NaN    NaN       NaN      750      3   2009-4  \n",
       "1956       NaN    522      NaN  531.0       NaN   522531      4   2009-4  \n",
       "\n",
       "[5 rows x 32 columns]"
      ]
     },
     "execution_count": 14,
     "metadata": {},
     "output_type": "execute_result"
    }
   ],
   "source": [
    "df1.tail()"
   ]
  },
  {
   "cell_type": "code",
   "execution_count": 15,
   "metadata": {},
   "outputs": [
    {
     "data": {
      "text/plain": [
       "-1"
      ]
     },
     "execution_count": 15,
     "metadata": {},
     "output_type": "execute_result"
    }
   ],
   "source": [
    "a = \"Python\"\n",
    "a.find(\"learn\")"
   ]
  },
  {
   "cell_type": "code",
   "execution_count": 16,
   "metadata": {},
   "outputs": [
    {
     "data": {
      "text/html": [
       "<div>\n",
       "<style scoped>\n",
       "    .dataframe tbody tr th:only-of-type {\n",
       "        vertical-align: middle;\n",
       "    }\n",
       "\n",
       "    .dataframe tbody tr th {\n",
       "        vertical-align: top;\n",
       "    }\n",
       "\n",
       "    .dataframe thead th {\n",
       "        text-align: right;\n",
       "    }\n",
       "</style>\n",
       "<table border=\"1\" class=\"dataframe\">\n",
       "  <thead>\n",
       "    <tr style=\"text-align: right;\">\n",
       "      <th></th>\n",
       "      <th>id</th>\n",
       "      <th>year</th>\n",
       "      <th>bdeadlow</th>\n",
       "      <th>bdeadhig</th>\n",
       "      <th>bdeadbes</th>\n",
       "      <th>annualdata</th>\n",
       "      <th>source</th>\n",
       "      <th>bdversion</th>\n",
       "      <th>location</th>\n",
       "      <th>sidea</th>\n",
       "      <th>...</th>\n",
       "      <th>epend</th>\n",
       "      <th>ependdate</th>\n",
       "      <th>ependprec</th>\n",
       "      <th>gwnoa</th>\n",
       "      <th>gwnoa2nd</th>\n",
       "      <th>gwnob</th>\n",
       "      <th>gwnob2nd</th>\n",
       "      <th>gwnoloc</th>\n",
       "      <th>region</th>\n",
       "      <th>version</th>\n",
       "    </tr>\n",
       "  </thead>\n",
       "  <tbody>\n",
       "    <tr>\n",
       "      <th>0</th>\n",
       "      <td>1</td>\n",
       "      <td>1946</td>\n",
       "      <td>1000</td>\n",
       "      <td>9999</td>\n",
       "      <td>1000</td>\n",
       "      <td>2</td>\n",
       "      <td>1</td>\n",
       "      <td>3</td>\n",
       "      <td>Bolivia</td>\n",
       "      <td>Bolivia</td>\n",
       "      <td>...</td>\n",
       "      <td>1</td>\n",
       "      <td>1946-07-21</td>\n",
       "      <td>-99.0</td>\n",
       "      <td>145</td>\n",
       "      <td>NaN</td>\n",
       "      <td>NaN</td>\n",
       "      <td>NaN</td>\n",
       "      <td>145</td>\n",
       "      <td>5</td>\n",
       "      <td>2009-4</td>\n",
       "    </tr>\n",
       "    <tr>\n",
       "      <th>1</th>\n",
       "      <td>1</td>\n",
       "      <td>1952</td>\n",
       "      <td>450</td>\n",
       "      <td>3000</td>\n",
       "      <td>-999</td>\n",
       "      <td>2</td>\n",
       "      <td>1</td>\n",
       "      <td>3</td>\n",
       "      <td>Bolivia</td>\n",
       "      <td>Bolivia</td>\n",
       "      <td>...</td>\n",
       "      <td>1</td>\n",
       "      <td>1952-04-12</td>\n",
       "      <td>-99.0</td>\n",
       "      <td>145</td>\n",
       "      <td>NaN</td>\n",
       "      <td>NaN</td>\n",
       "      <td>NaN</td>\n",
       "      <td>145</td>\n",
       "      <td>5</td>\n",
       "      <td>2009-4</td>\n",
       "    </tr>\n",
       "    <tr>\n",
       "      <th>2</th>\n",
       "      <td>1</td>\n",
       "      <td>1967</td>\n",
       "      <td>25</td>\n",
       "      <td>999</td>\n",
       "      <td>82</td>\n",
       "      <td>2</td>\n",
       "      <td>1</td>\n",
       "      <td>3</td>\n",
       "      <td>Bolivia</td>\n",
       "      <td>Bolivia</td>\n",
       "      <td>...</td>\n",
       "      <td>1</td>\n",
       "      <td>1967-10-16</td>\n",
       "      <td>-99.0</td>\n",
       "      <td>145</td>\n",
       "      <td>NaN</td>\n",
       "      <td>NaN</td>\n",
       "      <td>NaN</td>\n",
       "      <td>145</td>\n",
       "      <td>5</td>\n",
       "      <td>2009-4</td>\n",
       "    </tr>\n",
       "    <tr>\n",
       "      <th>3</th>\n",
       "      <td>2</td>\n",
       "      <td>1946</td>\n",
       "      <td>25</td>\n",
       "      <td>999</td>\n",
       "      <td>-999</td>\n",
       "      <td>0</td>\n",
       "      <td>0</td>\n",
       "      <td>3</td>\n",
       "      <td>Cambodia</td>\n",
       "      <td>France</td>\n",
       "      <td>...</td>\n",
       "      <td>0</td>\n",
       "      <td>NaT</td>\n",
       "      <td>NaN</td>\n",
       "      <td>220</td>\n",
       "      <td>NaN</td>\n",
       "      <td>NaN</td>\n",
       "      <td>NaN</td>\n",
       "      <td>811</td>\n",
       "      <td>3</td>\n",
       "      <td>2009-4</td>\n",
       "    </tr>\n",
       "    <tr>\n",
       "      <th>4</th>\n",
       "      <td>2</td>\n",
       "      <td>1947</td>\n",
       "      <td>25</td>\n",
       "      <td>999</td>\n",
       "      <td>-999</td>\n",
       "      <td>0</td>\n",
       "      <td>0</td>\n",
       "      <td>3</td>\n",
       "      <td>Cambodia</td>\n",
       "      <td>France</td>\n",
       "      <td>...</td>\n",
       "      <td>0</td>\n",
       "      <td>NaT</td>\n",
       "      <td>NaN</td>\n",
       "      <td>220</td>\n",
       "      <td>NaN</td>\n",
       "      <td>NaN</td>\n",
       "      <td>NaN</td>\n",
       "      <td>811</td>\n",
       "      <td>3</td>\n",
       "      <td>2009-4</td>\n",
       "    </tr>\n",
       "  </tbody>\n",
       "</table>\n",
       "<p>5 rows × 32 columns</p>\n",
       "</div>"
      ],
      "text/plain": [
       "   id  year  bdeadlow  bdeadhig  bdeadbes  annualdata  source  bdversion  \\\n",
       "0   1  1946      1000      9999      1000           2       1          3   \n",
       "1   1  1952       450      3000      -999           2       1          3   \n",
       "2   1  1967        25       999        82           2       1          3   \n",
       "3   2  1946        25       999      -999           0       0          3   \n",
       "4   2  1947        25       999      -999           0       0          3   \n",
       "\n",
       "   location    sidea   ...    epend  ependdate ependprec  gwnoa gwnoa2nd  \\\n",
       "0   Bolivia  Bolivia   ...        1 1946-07-21     -99.0    145      NaN   \n",
       "1   Bolivia  Bolivia   ...        1 1952-04-12     -99.0    145      NaN   \n",
       "2   Bolivia  Bolivia   ...        1 1967-10-16     -99.0    145      NaN   \n",
       "3  Cambodia   France   ...        0        NaT       NaN    220      NaN   \n",
       "4  Cambodia   France   ...        0        NaT       NaN    220      NaN   \n",
       "\n",
       "   gwnob  gwnob2nd  gwnoloc region  version  \n",
       "0    NaN       NaN      145      5   2009-4  \n",
       "1    NaN       NaN      145      5   2009-4  \n",
       "2    NaN       NaN      145      5   2009-4  \n",
       "3    NaN       NaN      811      3   2009-4  \n",
       "4    NaN       NaN      811      3   2009-4  \n",
       "\n",
       "[5 rows x 32 columns]"
      ]
     },
     "execution_count": 16,
     "metadata": {},
     "output_type": "execute_result"
    }
   ],
   "source": [
    "df1 = data_xl_file.parse()\n",
    "df1.head()"
   ]
  },
  {
   "cell_type": "code",
   "execution_count": 20,
   "metadata": {},
   "outputs": [
    {
     "name": "stdout",
     "output_type": "stream",
     "text": [
      "     YEAR     P           S\n",
      "0  1950.0  12.9  181.899994\n",
      "1  1951.0  11.9  245.000000\n",
      "2  1952.0  10.7  250.199997\n",
      "3  1953.0  11.3  265.899994\n",
      "4  1954.0  11.2  248.500000\n"
     ]
    },
    {
     "data": {
      "image/png": "[encoded data removed]",
      "text/plain": [
       "<Figure size 432x288 with 1 Axes>"
      ]
     },
     "metadata": {
      "needs_background": "light"
     },
     "output_type": "display_data"
    }
   ],
   "source": [
    "# Import sas7bdat package\n",
    "from sas7bdat import SAS7BDAT\n",
    "import pandas as pd\n",
    "import matplotlib.pyplot as plt\n",
    "# Save file to a DataFrame: df_sas\n",
    "with SAS7BDAT('sales.sas7bdat') as file:\n",
    "    df_sas = file.to_data_frame()\n",
    "\n",
    "# Print head of DataFrame\n",
    "print(df_sas.head())\n",
    "\n",
    "# Plot histogram of DataFrame features (pandas and pyplot already imported)\n",
    "pd.DataFrame.hist(df_sas[['P']])\n",
    "plt.ylabel('count')\n",
    "plt.show()"
   ]
  },
  {
   "cell_type": "code",
   "execution_count": null,
   "metadata": {},
   "outputs": [],
   "source": []
  },
  {
   "cell_type": "code",
   "execution_count": null,
   "metadata": {},
   "outputs": [],
   "source": []
  }
 ],
 "metadata": {
  "kernelspec": {
   "display_name": "Python 3",
   "language": "python",
   "name": "python3"
  },
  "language_info": {
   "codemirror_mode": {
    "name": "ipython",
    "version": 3
   },
   "file_extension": ".py",
   "mimetype": "text/x-python",
   "name": "python",
   "nbconvert_exporter": "python",
   "pygments_lexer": "ipython3",
   "version": "3.7.0"
  }
 },
 "nbformat": 4,
 "nbformat_minor": 2
}
