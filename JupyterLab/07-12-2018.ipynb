{
 "cells": [
  {
   "cell_type": "code",
   "execution_count": 9,
   "metadata": {},
   "outputs": [
    {
     "name": "stdout",
     "output_type": "stream",
     "text": [
      "[15.78083575  5.88111741 33.04911098 14.29837856]\n"
     ]
    }
   ],
   "source": [
    "import numpy as np\n",
    "height=np.array([1.78,3.45,1.23,1.87])\n",
    "weight=np.array([50,70,50,50])\n",
    "BMI=weight/(height ** 2)\n",
    "print(BMI)"
   ]
  },
  {
   "cell_type": "code",
   "execution_count": 11,
   "metadata": {},
   "outputs": [
    {
     "name": "stdout",
     "output_type": "stream",
     "text": [
      "15.780835753061481\n",
      "5.881117412308337\n",
      "33.04911097891467\n",
      "14.298378563870855\n"
     ]
    },
    {
     "data": {
      "text/plain": [
       "array([ True, False,  True,  True])"
      ]
     },
     "execution_count": 11,
     "metadata": {},
     "output_type": "execute_result"
    }
   ],
   "source": [
    "print(BMI[0])\n",
    "print(BMI[1])\n",
    "print(BMI[2])\n",
    "print(BMI[3])\n",
    "BMI > 13"
   ]
  },
  {
   "cell_type": "markdown",
   "metadata": {},
   "source": [
    "## 2 Dimensional array:-"
   ]
  },
  {
   "cell_type": "code",
   "execution_count": 51,
   "metadata": {},
   "outputs": [
    {
     "name": "stdout",
     "output_type": "stream",
     "text": [
      "[['12' '23' '45' '54']\n",
      " ['21' '32' '44' '32']]\n",
      "(2, 4)\n"
     ]
    },
    {
     "data": {
      "text/plain": [
       "('54', '32')"
      ]
     },
     "execution_count": 51,
     "metadata": {},
     "output_type": "execute_result"
    }
   ],
   "source": [
    "two_d_array=np.array([[12,23,45,54],[21,32,44,\"32\"]])\n",
    "print(two_d_array)\n",
    "print(two_d_array.shape)\n",
    "(two_d_array[0][3],two_d_array[1][3])"
   ]
  },
  {
   "cell_type": "code",
   "execution_count": 35,
   "metadata": {},
   "outputs": [
    {
     "name": "stdout",
     "output_type": "stream",
     "text": [
      "[['12' '23' '45']\n",
      " ['21' '32' '44']]\n"
     ]
    }
   ],
   "source": [
    "print(two_d_array[0:3,:3])"
   ]
  },
  {
   "cell_type": "code",
   "execution_count": 37,
   "metadata": {},
   "outputs": [
    {
     "name": "stdout",
     "output_type": "stream",
     "text": [
      "['21' '32' '44' '32']\n"
     ]
    }
   ],
   "source": [
    "print(two_d_array[1,:])"
   ]
  },
  {
   "cell_type": "code",
   "execution_count": 43,
   "metadata": {},
   "outputs": [
    {
     "name": "stdout",
     "output_type": "stream",
     "text": [
      "[[12, 23, 45], [46, 54, 40], [4, 22, 21]]\n",
      "\n",
      "[[12 23 45]\n",
      " [46 54 40]\n",
      " [ 4 22 21]]\n"
     ]
    }
   ],
   "source": [
    "baseball=[[12,23,45],[46,54,40],[4,22,21]]\n",
    "print(baseball)\n",
    "print()\n",
    "np_array=np.array(baseball)\n",
    "print(np_array)"
   ]
  },
  {
   "cell_type": "code",
   "execution_count": 60,
   "metadata": {},
   "outputs": [
    {
     "data": {
      "text/plain": [
       "array([46])"
      ]
     },
     "execution_count": 60,
     "metadata": {},
     "output_type": "execute_result"
    }
   ],
   "source": [
    "np_array[1:2,0]"
   ]
  }
 ],
 "metadata": {
  "kernelspec": {
   "display_name": "Python 3",
   "language": "python",
   "name": "python3"
  },
  "language_info": {
   "codemirror_mode": {
    "name": "ipython",
    "version": 3
   },
   "file_extension": ".py",
   "mimetype": "text/x-python",
   "name": "python",
   "nbconvert_exporter": "python",
   "pygments_lexer": "ipython3",
   "version": "3.7.0"
  }
 },
 "nbformat": 4,
 "nbformat_minor": 2
}
