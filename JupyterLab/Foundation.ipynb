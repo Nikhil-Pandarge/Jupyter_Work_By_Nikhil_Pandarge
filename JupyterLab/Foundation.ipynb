{
 "cells": [
  {
   "cell_type": "code",
   "execution_count": 1,
   "metadata": {},
   "outputs": [
    {
     "name": "stdout",
     "output_type": "stream",
     "text": [
      "1\n",
      "2\n",
      "3\n",
      "4\n"
     ]
    }
   ],
   "source": [
    "list = [1,2,3,4]\n",
    "for i in list:\n",
    "    print(i)"
   ]
  },
  {
   "cell_type": "code",
   "execution_count": 8,
   "metadata": {},
   "outputs": [
    {
     "data": {
      "text/plain": [
       "<bound method PrintList.Print_List of <__main__.PrintList object at 0x000001C8A1CB9240>>"
      ]
     },
     "execution_count": 8,
     "metadata": {},
     "output_type": "execute_result"
    }
   ],
   "source": [
    "class PrintList:\n",
    "    def __init__(self,number):\n",
    "        self.number = number\n",
    "    def Print_List(self):\n",
    "        for item in self.number:\n",
    "            print(f\"Item {item}\")\n",
    "A = PrintList([1,2,3,4])\n",
    "A.Print_List"
   ]
  },
  {
   "cell_type": "markdown",
   "metadata": {},
   "source": [
    "- For this, we will create a simple function average_numbers() which averages a list of numbers. Remember that lists are a basic data type in Python that we can build using the [] bracket notation."
   ]
  },
  {
   "cell_type": "code",
   "execution_count": 14,
   "metadata": {},
   "outputs": [
    {
     "name": "stdout",
     "output_type": "stream",
     "text": [
      "2.0\n"
     ]
    }
   ],
   "source": [
    "def avg_numbers(numbers):\n",
    "    avg = sum(numbers) / float(len(numbers))\n",
    "    #print(avg)\n",
    "    return avg\n",
    "a = avg_numbers([1,2,3])\n",
    "print(a)"
   ]
  },
  {
   "cell_type": "code",
   "execution_count": 15,
   "metadata": {},
   "outputs": [],
   "source": [
    "import numpy as np"
   ]
  },
  {
   "cell_type": "code",
   "execution_count": 21,
   "metadata": {},
   "outputs": [
    {
     "name": "stdout",
     "output_type": "stream",
     "text": [
      "3\n"
     ]
    },
    {
     "data": {
      "text/plain": [
       "array([1, 2, 3])"
      ]
     },
     "execution_count": 21,
     "metadata": {},
     "output_type": "execute_result"
    }
   ],
   "source": [
    "our_array = np.array([1,2,3])\n",
    "print(len(our_array))\n",
    "our_array"
   ]
  },
  {
   "cell_type": "code",
   "execution_count": 24,
   "metadata": {
    "collapsed": true
   },
   "outputs": [
    {
     "name": "stdout",
     "output_type": "stream",
     "text": [
      "length: 3\n",
      "Type: <class 'numpy.ndarray'>\n",
      "[list([1, 2, 3]) list([4, 5, 6]) list([7, 8, 9, 10])]\n"
     ]
    }
   ],
   "source": [
    "mul_array = np.array([[1,2,3],[4,5,6],[7,8,9,10]])\n",
    "print(\"length:\",len(mul_array))\n",
    "print(\"Type:\",type(mul_array))\n",
    "print(mul_array)"
   ]
  },
  {
   "cell_type": "markdown",
   "metadata": {},
   "source": [
    "## Class:\n",
    "###  The reusable chunk of code that has methods and variables\n",
    "### class is blueprint of object.\n",
    "### class is template of object,"
   ]
  },
  {
   "cell_type": "code",
   "execution_count": 1,
   "metadata": {},
   "outputs": [],
   "source": [
    "class dataShell:\n",
    "    pass"
   ]
  },
  {
   "cell_type": "code",
   "execution_count": 2,
   "metadata": {},
   "outputs": [],
   "source": [
    "import pandas as pd"
   ]
  },
  {
   "cell_type": "code",
   "execution_count": 4,
   "metadata": {},
   "outputs": [],
   "source": [
    "dataSet = pd.read_csv(\"Desktop/LifeLine/DataSets/mtcars.csv.txt\")"
   ]
  },
  {
   "cell_type": "code",
   "execution_count": 5,
   "metadata": {
    "collapsed": true
   },
   "outputs": [
    {
     "data": {
      "text/html": [
       "<div>\n",
       "<style scoped>\n",
       "    .dataframe tbody tr th:only-of-type {\n",
       "        vertical-align: middle;\n",
       "    }\n",
       "\n",
       "    .dataframe tbody tr th {\n",
       "        vertical-align: top;\n",
       "    }\n",
       "\n",
       "    .dataframe thead th {\n",
       "        text-align: right;\n",
       "    }\n",
       "</style>\n",
       "<table border=\"1\" class=\"dataframe\">\n",
       "  <thead>\n",
       "    <tr style=\"text-align: right;\">\n",
       "      <th></th>\n",
       "      <th>model</th>\n",
       "      <th>mpg</th>\n",
       "      <th>cyl</th>\n",
       "      <th>disp</th>\n",
       "      <th>hp</th>\n",
       "      <th>drat</th>\n",
       "      <th>wt</th>\n",
       "      <th>qsec</th>\n",
       "      <th>vs</th>\n",
       "      <th>am</th>\n",
       "      <th>gear</th>\n",
       "      <th>carb</th>\n",
       "    </tr>\n",
       "  </thead>\n",
       "  <tbody>\n",
       "    <tr>\n",
       "      <th>0</th>\n",
       "      <td>Mazda RX4</td>\n",
       "      <td>21.0</td>\n",
       "      <td>6</td>\n",
       "      <td>160.0</td>\n",
       "      <td>110</td>\n",
       "      <td>3.90</td>\n",
       "      <td>2.620</td>\n",
       "      <td>16.46</td>\n",
       "      <td>0</td>\n",
       "      <td>1</td>\n",
       "      <td>4</td>\n",
       "      <td>4</td>\n",
       "    </tr>\n",
       "    <tr>\n",
       "      <th>1</th>\n",
       "      <td>Mazda RX4 Wag</td>\n",
       "      <td>21.0</td>\n",
       "      <td>6</td>\n",
       "      <td>160.0</td>\n",
       "      <td>110</td>\n",
       "      <td>3.90</td>\n",
       "      <td>2.875</td>\n",
       "      <td>17.02</td>\n",
       "      <td>0</td>\n",
       "      <td>1</td>\n",
       "      <td>4</td>\n",
       "      <td>4</td>\n",
       "    </tr>\n",
       "    <tr>\n",
       "      <th>2</th>\n",
       "      <td>Datsun 710</td>\n",
       "      <td>22.8</td>\n",
       "      <td>4</td>\n",
       "      <td>108.0</td>\n",
       "      <td>93</td>\n",
       "      <td>3.85</td>\n",
       "      <td>2.320</td>\n",
       "      <td>18.61</td>\n",
       "      <td>1</td>\n",
       "      <td>1</td>\n",
       "      <td>4</td>\n",
       "      <td>1</td>\n",
       "    </tr>\n",
       "    <tr>\n",
       "      <th>3</th>\n",
       "      <td>Hornet 4 Drive</td>\n",
       "      <td>21.4</td>\n",
       "      <td>6</td>\n",
       "      <td>258.0</td>\n",
       "      <td>110</td>\n",
       "      <td>3.08</td>\n",
       "      <td>3.215</td>\n",
       "      <td>19.44</td>\n",
       "      <td>1</td>\n",
       "      <td>0</td>\n",
       "      <td>3</td>\n",
       "      <td>1</td>\n",
       "    </tr>\n",
       "    <tr>\n",
       "      <th>4</th>\n",
       "      <td>Hornet Sportabout</td>\n",
       "      <td>18.7</td>\n",
       "      <td>8</td>\n",
       "      <td>360.0</td>\n",
       "      <td>175</td>\n",
       "      <td>3.15</td>\n",
       "      <td>3.440</td>\n",
       "      <td>17.02</td>\n",
       "      <td>0</td>\n",
       "      <td>0</td>\n",
       "      <td>3</td>\n",
       "      <td>2</td>\n",
       "    </tr>\n",
       "  </tbody>\n",
       "</table>\n",
       "</div>"
      ],
      "text/plain": [
       "               model   mpg  cyl   disp   hp  drat     wt   qsec  vs  am  gear  \\\n",
       "0          Mazda RX4  21.0    6  160.0  110  3.90  2.620  16.46   0   1     4   \n",
       "1      Mazda RX4 Wag  21.0    6  160.0  110  3.90  2.875  17.02   0   1     4   \n",
       "2         Datsun 710  22.8    4  108.0   93  3.85  2.320  18.61   1   1     4   \n",
       "3     Hornet 4 Drive  21.4    6  258.0  110  3.08  3.215  19.44   1   0     3   \n",
       "4  Hornet Sportabout  18.7    8  360.0  175  3.15  3.440  17.02   0   0     3   \n",
       "\n",
       "   carb  \n",
       "0     4  \n",
       "1     4  \n",
       "2     1  \n",
       "3     1  \n",
       "4     2  "
      ]
     },
     "execution_count": 5,
     "metadata": {},
     "output_type": "execute_result"
    }
   ],
   "source": [
    "dataSet.head()"
   ]
  },
  {
   "cell_type": "code",
   "execution_count": 1,
   "metadata": {},
   "outputs": [],
   "source": [
    "import keyword"
   ]
  },
  {
   "cell_type": "code",
   "execution_count": 3,
   "metadata": {
    "collapsed": true
   },
   "outputs": [
    {
     "name": "stdout",
     "output_type": "stream",
     "text": [
      "['False', 'None', 'True', 'and', 'as', 'assert', 'async', 'await', 'break', 'class', 'continue', 'def', 'del', 'elif', 'else', 'except', 'finally', 'for', 'from', 'global', 'if', 'import', 'in', 'is', 'lambda', 'nonlocal', 'not', 'or', 'pass', 'raise', 'return', 'try', 'while', 'with', 'yield']\n"
     ]
    }
   ],
   "source": [
    "print(keyword.kwlist)"
   ]
  },
  {
   "cell_type": "markdown",
   "metadata": {},
   "source": [
    "- Create a class called DataShell.\n",
    "- Include the __init__() method, and pass it the self argument.\n",
    "- In the body of the __init__() method, include the pass statement.\n",
    "- Instantiate the DataShell class and assign the newly created object to the my_data_shell variable. Then print my_data_shell and explore its contents.\n"
   ]
  },
  {
   "cell_type": "code",
   "execution_count": 4,
   "metadata": {
    "collapsed": true
   },
   "outputs": [
    {
     "name": "stdout",
     "output_type": "stream",
     "text": [
      "<__main__.DataShell object at 0x0000021135118CC0>\n"
     ]
    }
   ],
   "source": [
    "class DataShell:\n",
    "    def __init__(self):\n",
    "        pass\n",
    "my_data_shell = DataShell()\n",
    "print(my_data_shell)"
   ]
  },
  {
   "cell_type": "markdown",
   "metadata": {},
   "source": [
    "- Create a class called DataShell.\n",
    "- In the class definition, include the __init__() method, and pass it the self and integerInput arguments. In the body of the     __init__() method, set the data as the instance variable.\n",
    "- Create an instance of DataShell called my_data_shell. Pass x as an argument to the constructor function.\n",
    "- Print the my_data_shell.data and explore its contents."
   ]
  },
  {
   "cell_type": "code",
   "execution_count": 8,
   "metadata": {
    "collapsed": true
   },
   "outputs": [
    {
     "name": "stdout",
     "output_type": "stream",
     "text": [
      "10\n"
     ]
    }
   ],
   "source": [
    "class DataShell:\n",
    "    def __init__(self,integerInput):\n",
    "        self.data = integerInput\n",
    "x = 10\n",
    "my_data_shell = DataShell(x)\n",
    "print(my_data_shell.data)"
   ]
  },
  {
   "cell_type": "markdown",
   "metadata": {},
   "source": [
    "- Create a class called DataShell.\n",
    "- Initialize the class with the self, identifier, and data arguments. Set identifier and data to be instance variables.\n",
    "- Create an instance of DataShell called my_data_shell passing x and y to the constructor function.\n",
    "- Print the my_data_shell.identifier and my_data_shell.data and explore their contents."
   ]
  },
  {
   "cell_type": "code",
   "execution_count": 10,
   "metadata": {
    "collapsed": true
   },
   "outputs": [
    {
     "name": "stdout",
     "output_type": "stream",
     "text": [
      "Enter value for a:10\n",
      "Enter value for b:20\n",
      "10 20\n"
     ]
    }
   ],
   "source": [
    "class DataShell:\n",
    "    def __init__(self,identifier,data):\n",
    "        self.x = identifier\n",
    "        self.y = data\n",
    "a = input(\"Enter value for a:\")\n",
    "b = input(\"Enter value for b:\")\n",
    "my_data_shell = DataShell(a,b)\n",
    "print(my_data_shell.x,my_data_shell.y)"
   ]
  },
  {
   "cell_type": "markdown",
   "metadata": {},
   "source": [
    "- Create a class called DataShell with its initialization method.\n",
    "- Define a method called print_static that only takes the argument self. Inside of this method's body print the string \"You       just executed a class method!\".\n",
    "- Create an instance of DataShell called my_data_shell passing no arguments to the constructor.\n",
    "- Call the print_static method and explore its output!"
   ]
  },
  {
   "cell_type": "code",
   "execution_count": 14,
   "metadata": {
    "collapsed": true
   },
   "outputs": [
    {
     "name": "stdout",
     "output_type": "stream",
     "text": [
      "You just executed a class method!\n"
     ]
    }
   ],
   "source": [
    "class DataShell():\n",
    "    def __init__(self):\n",
    "        pass\n",
    "    def print_static(self):\n",
    "        print(\"You just executed a class method!\")\n",
    "my_data_shell = DataShell()\n",
    "my_data_shell.print_static()"
   ]
  },
  {
   "cell_type": "markdown",
   "metadata": {},
   "source": [
    "- Create a class called DataShell.\n",
    "- Declare a class variable called family and assign it the value of \"DataShell\".\n",
    "- Create an instance of DataShell called my_data_shell, passing x to the initializer method.\n",
    "- Print the my_data_shell.family to explore its contents."
   ]
  },
  {
   "cell_type": "code",
   "execution_count": 17,
   "metadata": {
    "collapsed": true
   },
   "outputs": [
    {
     "name": "stdout",
     "output_type": "stream",
     "text": [
      "100\n",
      "DataShell\n"
     ]
    }
   ],
   "source": [
    "class DataShell():\n",
    "    family = \"DataShell\"\n",
    "    def __init__(self,identifier):\n",
    "        self.identifier = identifier\n",
    "x = 100\n",
    "my_data_shell = DataShell(x)\n",
    "print(my_data_shell.identifier)\n",
    "print(my_data_shell.family)"
   ]
  },
  {
   "cell_type": "markdown",
   "metadata": {},
   "source": [
    "- Create a class called DataShell.\n",
    "- Declare a class variable called family and assign it the value of \"DataShell\".\n",
    "- Create an instance of DataShell called my_data_shell passing x to the initializer method, then print the my_data_shell.family   to explore its contents.\n",
    "- Override the class variable my_data_shell.family by assigning it the value \"NotDataShell\" to explore its contents."
   ]
  },
  {
   "cell_type": "code",
   "execution_count": 2,
   "metadata": {},
   "outputs": [
    {
     "name": "stdout",
     "output_type": "stream",
     "text": [
      "DataShell\n",
      "100\n",
      "NotDataShell\n"
     ]
    }
   ],
   "source": [
    "class DataShell():\n",
    "    family = \"DataShell\"\n",
    "    def __init__(self,idetifier):\n",
    "        self.idetifier = idetifier\n",
    "x = 100\n",
    "my_data_shell = DataShell(x)\n",
    "print(my_data_shell.family)\n",
    "my_data_shell.family = \"NotDataShell\"\n",
    "print(my_data_shell.idetifier)\n",
    "print(my_data_shell.family)"
   ]
  },
  {
   "cell_type": "markdown",
   "metadata": {},
   "source": [
    "- Create a class called DataShell with its initialization method, taking self and dataList as arguments. Declare data as an       instance variable and assign it the value of dataList.\n",
    "- Define show() as a class method, taking self as an argument. Inside of the method print the instance variable data.\n",
    "- Declare a list called integer_list with integers 1 to 10. Then create an instance of DataShell called my_data_shell with - -   integer_list as an argument to the constructor.\n",
    "- Call your object's show() method and explore its output."
   ]
  },
  {
   "cell_type": "code",
   "execution_count": 3,
   "metadata": {},
   "outputs": [
    {
     "name": "stdout",
     "output_type": "stream",
     "text": [
      "[1, 2, 3, 4, 5, 6, 7, 8, 9, 10]\n"
     ]
    }
   ],
   "source": [
    "# Create class: DataShell\n",
    "class DataShell:\n",
    "  \n",
    "\t# Initialize class with self and dataList as arguments\n",
    "    def __init__(self, dataList):\n",
    "      \t# Set data as instance variable, and assign it the value of dataList\n",
    "        self.data = dataList\n",
    "        \n",
    "\t# Define class method which takes self argument: show\n",
    "    def show(self):\n",
    "        # Print the instance variable data\n",
    "        print(self.data)\n",
    "\n",
    "# Declare variable with list of integers from 1 to 10: integer_list   \n",
    "integer_list = [1, 2, 3, 4, 5, 6, 7, 8, 9, 10]\n",
    "        \n",
    "# Instantiate DataShell taking integer_list as argument: my_data_shell\n",
    "my_data_shell = DataShell(integer_list)\n",
    "\n",
    "# Call the show method of your newly created object\n",
    "my_data_shell.show()"
   ]
  },
  {
   "cell_type": "markdown",
   "metadata": {},
   "source": [
    "- Create a class called DataShell with its initialization method, taking self and dataList as arguments. Declare data as an instance variable and assign it the value of the input argument dataList.\n",
    "- Define show() as a class method, taking self as an argument. Inside of the method's body, print the instance variable data.\n",
    "- Define avg() as a class method, taking self as an argument. Inside of the method's body, declare the variable avg and assign it the value of the average of the instance variable data. Then print it out.\n",
    "- Instantiate DataShell as my_data_shell passing integer_list as an argument to the constructor. Then call your object's show() and avg() methods and explore their output."
   ]
  },
  {
   "cell_type": "code",
   "execution_count": 4,
   "metadata": {},
   "outputs": [
    {
     "name": "stdout",
     "output_type": "stream",
     "text": [
      "[1, 2, 3, 4, 5, 6, 7, 8, 9, 10]\n",
      "5.5\n"
     ]
    }
   ],
   "source": [
    "# Create class: DataShell\n",
    "class DataShell:\n",
    "  \n",
    "\t# Initialize class with self and dataList as arguments\n",
    "    def __init__(self, dataList):\n",
    "      \t# Set data as instance variable, and assign it the value of dataList\n",
    "        self.data = dataList\n",
    "        \n",
    "\t# Define method that prints data: show\n",
    "    def show(self):\n",
    "        print(self.data)\n",
    "        \n",
    "    # Define method that prints average of data: avg \n",
    "    def avg(self):\n",
    "        \n",
    "        # Declare avg and assign it the average of data\n",
    "        avg = sum(self.data)/float(len(self.data))\n",
    "        # Print avg\n",
    "        print(avg)\n",
    "        \n",
    "# Instantiate DataShell taking integer_list as argument: my_data_shell\n",
    "my_data_shell = DataShell(integer_list)\n",
    "\n",
    "# Call the show and avg methods of your newly created object\n",
    "my_data_shell.show()\n",
    "my_data_shell.avg()"
   ]
  },
  {
   "cell_type": "markdown",
   "metadata": {},
   "source": [
    "- Create a class called DataShell with its initialization method, taking self and dataList as arguments. Declare data as an instance variable and assign it the value of the input argument dataList.\n",
    "- Define show() as a class method, taking self as an argument. Inside of the method's body, return the instance variable data.\n",
    "- Define avg() as a class method, taking self as an argument. Inside of the method's body, declare the variable avg and assign it the value of the average of the instance variable data. Then return avg.\n",
    "- Instantiate DataShell as my_data_shell passing integer_list as an argument to the constructor. Then print the output of your object's show() and avg() methods.\n"
   ]
  },
  {
   "cell_type": "code",
   "execution_count": 5,
   "metadata": {},
   "outputs": [
    {
     "name": "stdout",
     "output_type": "stream",
     "text": [
      "[1, 2, 3, 4, 5, 6, 7, 8, 9, 10]\n",
      "5.5\n"
     ]
    }
   ],
   "source": [
    "# Create class: DataShell\n",
    "class DataShell():\n",
    "  \n",
    "\t# Initialize class with self and dataList as arguments\n",
    "    def __init__(self, dataList):\n",
    "      \t# Set data as instance variable, and assign it the value of dataList\n",
    "        self.data = dataList\n",
    "        \n",
    "\t# Define method that returns data: show\n",
    "    def show(self):\n",
    "        return self.data\n",
    "        \n",
    "    # Define method that prints average of data: avg \n",
    "    def avg(self):\n",
    "        # Declare avg and assign it the average of data\n",
    "        avg = sum(self.data)/float(len(self.data))\n",
    "        # Return avg\n",
    "        return avg\n",
    "integer_list = [1,2,3,4,5,6,7,8,9,10]\n",
    "# Instantiate DataShell taking integer_list as argument: my_data_shell\n",
    "my_data_shell = DataShell(integer_list)\n",
    "\n",
    "# Print output of your object's show method\n",
    "print(my_data_shell.show())\n",
    "\n",
    "# Print output of your object's avg method\n",
    "print(my_data_shell.avg())"
   ]
  },
  {
   "cell_type": "markdown",
   "metadata": {},
   "source": [
    "- Import the numpy and pandas packages as np and pd, respectively.\n",
    "- Create a class called DataShell with its initialization method, taking self and inputFile as arguments. Declare file as an instance variable and assign to it the value of the input argument inputFile.\n",
    "- Define a method called generate_csv(), taking self as argument. In the body of this method, declare an instance variable called data_as_csv and assign it to the value of pd.read_csv(self.file). Finally, have generate_csv() return the value of data_as_csv.\n",
    "- Instantiate DataShell as data_shell passing us_life_expectancy as an argument to the constructor. Declare a variable called df and assign to it the value of data_shell.generate_csv(). Finally, print the value of df."
   ]
  },
  {
   "cell_type": "code",
   "execution_count": 9,
   "metadata": {},
   "outputs": [
    {
     "name": "stdout",
     "output_type": "stream",
     "text": [
      "               model   mpg  cyl   disp   hp  drat     wt   qsec  vs  am  gear  \\\n",
      "0          Mazda RX4  21.0    6  160.0  110  3.90  2.620  16.46   0   1     4   \n",
      "1      Mazda RX4 Wag  21.0    6  160.0  110  3.90  2.875  17.02   0   1     4   \n",
      "2         Datsun 710  22.8    4  108.0   93  3.85  2.320  18.61   1   1     4   \n",
      "3     Hornet 4 Drive  21.4    6  258.0  110  3.08  3.215  19.44   1   0     3   \n",
      "4  Hornet Sportabout  18.7    8  360.0  175  3.15  3.440  17.02   0   0     3   \n",
      "\n",
      "   carb  \n",
      "0     4  \n",
      "1     4  \n",
      "2     1  \n",
      "3     1  \n",
      "4     2  \n"
     ]
    }
   ],
   "source": [
    "# Load numpy as np and pandas as pd\n",
    "import numpy as np\n",
    "import pandas as pd\n",
    "\n",
    "# Create class: DataShell\n",
    "class DataShell:\n",
    "  \n",
    "    # Initialize class with self and inputFile\n",
    "    def __init__(self, inputFile):\n",
    "        self.file = inputFile\n",
    "        \n",
    "    # Define generate_csv method, with self argument\n",
    "    def generate_csv(self):\n",
    "        self.data_as_csv = pd.read_csv(self.file)\n",
    "        return self.data_as_csv\n",
    "mtcars = \"Desktop/LifeLine/DataSets/mtcars.csv.txt\"\n",
    "# Instantiate DataShell with us_life_expectancy as input argument\n",
    "data_shell = DataShell(mtcars)\n",
    "\n",
    "# Call data_shell's generate_csv method, assign it to df\n",
    "df = data_shell.generate_csv()\n",
    "\n",
    "# Print df\n",
    "print(df.head())"
   ]
  },
  {
   "cell_type": "code",
   "execution_count": 18,
   "metadata": {},
   "outputs": [
    {
     "data": {
      "text/plain": [
       "pandas.core.frame.DataFrame"
      ]
     },
     "execution_count": 18,
     "metadata": {},
     "output_type": "execute_result"
    }
   ],
   "source": [
    "import pandas as pd\n",
    "class DataShell():\n",
    "    def __init__(self,inputfile):\n",
    "        self.file = inputfile\n",
    "    def generate_csv(self):\n",
    "        self.data_csv = pd.read_csv(self.file)\n",
    "        return self.data_csv\n",
    "mtcars = \"Desktop/LifeLine/DataSets/mtcars.csv.txt\"\n",
    "my_data = DataShell(mtcars)\n",
    "type(my_data.generate_csv())"
   ]
  },
  {
   "cell_type": "markdown",
   "metadata": {},
   "source": [
    "- ## Enumeration in python"
   ]
  },
  {
   "cell_type": "code",
   "execution_count": 9,
   "metadata": {},
   "outputs": [
    {
     "name": "stdout",
     "output_type": "stream",
     "text": [
      "<class 'enumerate'>\n",
      "[(0, 'Nikhil'), (1, 'Nagesh'), (2, 'Pandarge')]\n"
     ]
    }
   ],
   "source": [
    "l1 = ['Nikhil','Nagesh','Pandarge']\n",
    "obj = enumerate(l1)\n",
    "print (type(obj))\n",
    "print(list(obj))"
   ]
  },
  {
   "cell_type": "code",
   "execution_count": 13,
   "metadata": {},
   "outputs": [
    {
     "name": "stdout",
     "output_type": "stream",
     "text": [
      "100 Pradip\n",
      "101 Prasad\n",
      "102 Nikhil\n",
      "103 Vivek\n"
     ]
    }
   ],
   "source": [
    "l1 = ['Pradip','Prasad','Nikhil','Vivek']\n",
    "for count,ele in enumerate(l1,100):\n",
    "    print(count,ele)"
   ]
  },
  {
   "cell_type": "markdown",
   "metadata": {},
   "source": [
    "- Import the numpy and pandas packages as np and pd.\n",
    "- Create a DataShell class with its initialization method, taking self and filepath as arguments.\n",
    "- Set filepath as an instance variable, and assign it the value of the filepath parameter. Also set data_as_csv as an instance variable, assign it the value of pd.read_csv(filepath).\n",
    "- Instantiate DataShell as us_data_shell, passing the us_life_expectancy as input argument for the filepath parameter. Then print your objects' data_as_csv output."
   ]
  },
  {
   "cell_type": "code",
   "execution_count": 14,
   "metadata": {},
   "outputs": [],
   "source": [
    "import pandas as pd\n",
    "import numpy as np"
   ]
  },
  {
   "cell_type": "code",
   "execution_count": 23,
   "metadata": {},
   "outputs": [
    {
     "name": "stdout",
     "output_type": "stream",
     "text": [
      "                  model   mpg  cyl   disp   hp  drat     wt   qsec  vs  am  \\\n",
      "0             Mazda RX4  21.0    6  160.0  110  3.90  2.620  16.46   0   1   \n",
      "1         Mazda RX4 Wag  21.0    6  160.0  110  3.90  2.875  17.02   0   1   \n",
      "2            Datsun 710  22.8    4  108.0   93  3.85  2.320  18.61   1   1   \n",
      "3        Hornet 4 Drive  21.4    6  258.0  110  3.08  3.215  19.44   1   0   \n",
      "4     Hornet Sportabout  18.7    8  360.0  175  3.15  3.440  17.02   0   0   \n",
      "5               Valiant  18.1    6  225.0  105  2.76  3.460  20.22   1   0   \n",
      "6            Duster 360  14.3    8  360.0  245  3.21  3.570  15.84   0   0   \n",
      "7             Merc 240D  24.4    4  146.7   62  3.69  3.190  20.00   1   0   \n",
      "8              Merc 230  22.8    4  140.8   95  3.92  3.150  22.90   1   0   \n",
      "9              Merc 280  19.2    6  167.6  123  3.92  3.440  18.30   1   0   \n",
      "10            Merc 280C  17.8    6  167.6  123  3.92  3.440  18.90   1   0   \n",
      "11           Merc 450SE  16.4    8  275.8  180  3.07  4.070  17.40   0   0   \n",
      "12           Merc 450SL  17.3    8  275.8  180  3.07  3.730  17.60   0   0   \n",
      "13          Merc 450SLC  15.2    8  275.8  180  3.07  3.780  18.00   0   0   \n",
      "14   Cadillac Fleetwood  10.4    8  472.0  205  2.93  5.250  17.98   0   0   \n",
      "15  Lincoln Continental  10.4    8  460.0  215  3.00  5.424  17.82   0   0   \n",
      "16    Chrysler Imperial  14.7    8  440.0  230  3.23  5.345  17.42   0   0   \n",
      "17             Fiat 128  32.4    4   78.7   66  4.08  2.200  19.47   1   1   \n",
      "18          Honda Civic  30.4    4   75.7   52  4.93  1.615  18.52   1   1   \n",
      "19       Toyota Corolla  33.9    4   71.1   65  4.22  1.835  19.90   1   1   \n",
      "20        Toyota Corona  21.5    4  120.1   97  3.70  2.465  20.01   1   0   \n",
      "21     Dodge Challenger  15.5    8  318.0  150  2.76  3.520  16.87   0   0   \n",
      "22          AMC Javelin  15.2    8  304.0  150  3.15  3.435  17.30   0   0   \n",
      "23           Camaro Z28  13.3    8  350.0  245  3.73  3.840  15.41   0   0   \n",
      "24     Pontiac Firebird  19.2    8  400.0  175  3.08  3.845  17.05   0   0   \n",
      "25            Fiat X1-9  27.3    4   79.0   66  4.08  1.935  18.90   1   1   \n",
      "26        Porsche 914-2  26.0    4  120.3   91  4.43  2.140  16.70   0   1   \n",
      "27         Lotus Europa  30.4    4   95.1  113  3.77  1.513  16.90   1   1   \n",
      "28       Ford Pantera L  15.8    8  351.0  264  4.22  3.170  14.50   0   1   \n",
      "29         Ferrari Dino  19.7    6  145.0  175  3.62  2.770  15.50   0   1   \n",
      "30        Maserati Bora  15.0    8  301.0  335  3.54  3.570  14.60   0   1   \n",
      "31           Volvo 142E  21.4    4  121.0  109  4.11  2.780  18.60   1   1   \n",
      "\n",
      "    gear  carb  \n",
      "0      4     4  \n",
      "1      4     4  \n",
      "2      4     1  \n",
      "3      3     1  \n",
      "4      3     2  \n",
      "5      3     1  \n",
      "6      3     4  \n",
      "7      4     2  \n",
      "8      4     2  \n",
      "9      4     4  \n",
      "10     4     4  \n",
      "11     3     3  \n",
      "12     3     3  \n",
      "13     3     3  \n",
      "14     3     4  \n",
      "15     3     4  \n",
      "16     3     4  \n",
      "17     4     1  \n",
      "18     4     2  \n",
      "19     4     1  \n",
      "20     3     1  \n",
      "21     3     2  \n",
      "22     3     2  \n",
      "23     3     4  \n",
      "24     3     2  \n",
      "25     4     1  \n",
      "26     5     2  \n",
      "27     5     2  \n",
      "28     5     4  \n",
      "29     5     6  \n",
      "30     5     8  \n",
      "31     4     2  \n"
     ]
    }
   ],
   "source": [
    "class DataShell():\n",
    "    def __init__(self,filepath):\n",
    "        self.path = filepath\n",
    "        self.data_csv = pd.read_csv(self.path)\n",
    "mtcars = \"Desktop/LifeLine/DataSets/mtcars.csv.txt\"\n",
    "my_data = DataShell(mtcars)\n",
    "print(my_data.data_csv)"
   ]
  },
  {
   "cell_type": "markdown",
   "metadata": {},
   "source": [
    "- Create class DataShell, with initialization method, taking self and filepath as arguments. Set filepath and data_as_csv as instance variables.\n",
    "- Define method rename_column, with arguments self, column_name, and new_column_name. Replace the column name of column_name with that of new_column_name, this is already done for you.\n",
    "- Instantiate DataShell as us_data_shell, taking us_life_expectancy as input to the constructor. Print your print the data type of your object's dataascsv attribute. You can do this by passing us_data_shell.data_as_csv.dtypes into the print() function.\n",
    "- Using your new method, rename your object's column 'code' to 'country_code'. Once again, print the data type of your object's data_as_csv attribute."
   ]
  },
  {
   "cell_type": "code",
   "execution_count": 42,
   "metadata": {},
   "outputs": [
    {
     "name": "stdout",
     "output_type": "stream",
     "text": [
      "               model   mpg  cyl   disp   hp  drat     wt   qsec  vs  am  gear  \\\n",
      "0          Mazda RX4  21.0    6  160.0  110  3.90  2.620  16.46   0   1     4   \n",
      "1      Mazda RX4 Wag  21.0    6  160.0  110  3.90  2.875  17.02   0   1     4   \n",
      "2         Datsun 710  22.8    4  108.0   93  3.85  2.320  18.61   1   1     4   \n",
      "3     Hornet 4 Drive  21.4    6  258.0  110  3.08  3.215  19.44   1   0     3   \n",
      "4  Hornet Sportabout  18.7    8  360.0  175  3.15  3.440  17.02   0   0     3   \n",
      "\n",
      "   carb  \n",
      "0     4  \n",
      "1     4  \n",
      "2     1  \n",
      "3     1  \n",
      "4     2  \n",
      "model     object\n",
      "mpg      float64\n",
      "cyl        int64\n",
      "disp     float64\n",
      "hp         int64\n",
      "drat     float64\n",
      "wt       float64\n",
      "qsec     float64\n",
      "vs         int64\n",
      "am         int64\n",
      "gear       int64\n",
      "carb       int64\n",
      "dtype: object\n",
      "|^\n",
      "model         object\n",
      "mpg          float64\n",
      "cylinders      int64\n",
      "disp         float64\n",
      "hp             int64\n",
      "drat         float64\n",
      "wt           float64\n",
      "qsec         float64\n",
      "vs             int64\n",
      "am             int64\n",
      "gear           int64\n",
      "carb           int64\n",
      "dtype: object\n"
     ]
    }
   ],
   "source": [
    "class DataShell():\n",
    "    def __init__(self,filepath):\n",
    "        self.filepath = filepath\n",
    "        self.data_as_csv = pd.read_csv(filepath)\n",
    "    def rename_column(self,column_name,new_column_name):\n",
    "        self.data_as_csv.columns = self.data_as_csv.columns.str.replace(column_name,new_column_name)\n",
    "\n",
    "mt_data_shell = DataShell(mtcars)\n",
    "\n",
    "print(mt_data_shell.data_as_csv.head())\n",
    "\n",
    "print(mt_data_shell.data_as_csv.dtypes)\n",
    "\n",
    "#mt_data_shell.data_as_csv.columns('cyl','clyinder')\n",
    "\n",
    "#print(mt_data_shell.data_as_csv)\n",
    "\n",
    "mtcars = mt_data_shell.rename_column('cyl','cylinders')\n",
    "print('|^')\n",
    "print(mt_data_shell.data_as_csv.dtypes)"
   ]
  },
  {
   "cell_type": "code",
   "execution_count": 44,
   "metadata": {},
   "outputs": [
    {
     "name": "stdout",
     "output_type": "stream",
     "text": [
      "             mpg        cyl        disp          hp       drat         wt  \\\n",
      "count  32.000000  32.000000   32.000000   32.000000  32.000000  32.000000   \n",
      "mean   20.090625   6.187500  230.721875  146.687500   3.596563   3.217250   \n",
      "std     6.026948   1.785922  123.938694   68.562868   0.534679   0.978457   \n",
      "min    10.400000   4.000000   71.100000   52.000000   2.760000   1.513000   \n",
      "25%    15.425000   4.000000  120.825000   96.500000   3.080000   2.581250   \n",
      "50%    19.200000   6.000000  196.300000  123.000000   3.695000   3.325000   \n",
      "75%    22.800000   8.000000  326.000000  180.000000   3.920000   3.610000   \n",
      "max    33.900000   8.000000  472.000000  335.000000   4.930000   5.424000   \n",
      "\n",
      "            qsec         vs         am       gear     carb  \n",
      "count  32.000000  32.000000  32.000000  32.000000  32.0000  \n",
      "mean   17.848750   0.437500   0.406250   3.687500   2.8125  \n",
      "std     1.786943   0.504016   0.498991   0.737804   1.6152  \n",
      "min    14.500000   0.000000   0.000000   3.000000   1.0000  \n",
      "25%    16.892500   0.000000   0.000000   3.000000   2.0000  \n",
      "50%    17.710000   0.000000   0.000000   4.000000   2.0000  \n",
      "75%    18.900000   1.000000   1.000000   4.000000   4.0000  \n",
      "max    22.900000   1.000000   1.000000   5.000000   8.0000  \n"
     ]
    }
   ],
   "source": [
    "# Create class DataShell\n",
    "class DataShell:\n",
    "\n",
    "    # Define initialization method\n",
    "    def __init__(self, filepath):\n",
    "        self.filepath = filepath\n",
    "        self.data_as_csv = pd.read_csv(filepath)\n",
    "\n",
    "    # Define method rename_column, with arguments self, column_name, and new_column_name\n",
    "    def rename_column(self, column_name, new_column_name):\n",
    "        self.data_as_csv.columns = self.data_as_csv.columns.str.replace(column_name, new_column_name)\n",
    "        \n",
    "    # Define get_stats method, with argument self\n",
    "    def get_stats(self):\n",
    "        # Return a description data_as_csv\n",
    "        return self.data_as_csv.describe()\n",
    "mtcars = \"Desktop/LifeLine/DataSets/mtcars.csv.txt\"  \n",
    "# Instantiate DataShell as us_data_shell\n",
    "us_data_shell = DataShell(mtcars)\n",
    "\n",
    "# Print the output of your objects get_stats method\n",
    "print(us_data_shell.get_stats())"
   ]
  },
  {
   "cell_type": "markdown",
   "metadata": {},
   "source": [
    "- ## Inheritance"
   ]
  },
  {
   "cell_type": "markdown",
   "metadata": {},
   "source": [
    "- Create a class called Animal with its initialization method, taking self and name as arguments. Declare name as an instance variable and assign it the value of the input argument name.\n",
    "- Create two classes Mammal and Reptile, which inherit from Animal. For both Mammal and Reptile, include the initialization method, taking self, name, and animal_type as arguments; then, animal_type as an instance variable and assign it the value of the input argument animal_type.\n",
    "- Instantiate Mammal as daisy, passing 'Daisy' as the first argument 'dog' and as the second argument. Then instantiate Reptile as stella, passing 'Stella' as the first argument 'alligator' and as the second argument.\n",
    "- Print both daisy and stella to explore their contents."
   ]
  },
  {
   "cell_type": "code",
   "execution_count": 2,
   "metadata": {},
   "outputs": [
    {
     "name": "stdout",
     "output_type": "stream",
     "text": [
      "dog\n",
      "alligator\n"
     ]
    }
   ],
   "source": [
    "class Animal():\n",
    "    def __init__(self,name):\n",
    "        self.name = name\n",
    "class Mammnal(Animal):\n",
    "    def __init__(self,name,animal_type):\n",
    "        self.animal_type = animal_type\n",
    "class Reptile(Animal):\n",
    "    def __init__(self,name,animal_type):\n",
    "        self.animal_type = animal_type\n",
    "daisy = Mammnal('Daisy','dog')\n",
    "stella = Reptile('Stella','alligator')\n",
    "\n",
    "print(daisy.animal_type)\n",
    "print(stella.animal_type)"
   ]
  },
  {
   "cell_type": "code",
   "execution_count": 7,
   "metadata": {},
   "outputs": [
    {
     "name": "stdout",
     "output_type": "stream",
     "text": [
      "dog\n",
      "alligator\n"
     ]
    }
   ],
   "source": [
    "# Create a class Animal\n",
    "class Animal():\n",
    "\tdef __init__(self, name):\n",
    "\t\tself.name = name\n",
    "\n",
    "# Create a class Mammal, which inherits from Animal\n",
    "class Mammal(Animal):\n",
    "\tdef __init__(self, name, animal_type):\n",
    "\t\tself.animal_type = animal_type\n",
    "\n",
    "# Create a class Reptile, which also inherits from Animal\n",
    "class Reptile(Animal):\n",
    "\tdef __init__(self, name, animal_type):\n",
    "\t\tself.animal_type = animal_type\n",
    "\n",
    "# Instantiate a mammal with name 'Daisy' and animal_type 'dog': daisy\n",
    "daisy = Mammal('Daisy', 'dog')\n",
    "\n",
    "# Instantiate a reptile with name 'Stella' and animal_type 'alligator': stella\n",
    "stella = Reptile('Stella', 'alligator')\n",
    "\n",
    "# Print both objects\n",
    "print(daisy.animal_type)\n",
    "print(stella.animal_type)"
   ]
  },
  {
   "cell_type": "markdown",
   "metadata": {},
   "source": [
    "- Create a class called Vertebrate with its initialization method, taking self and name as arguments. Declare spinal_cord as a class variable, and set it to True. Declare name as an instance variable and assign it the value of the input argument name.\n",
    "- Create two classes Mammal and Reptile, which inherit from Vertebrate. For both Mammal and Reptile, include the initialization method, taking self, name, and animal_type as arguments; then, animal_type as an instance variable and assign it the value of the input argument animal_type. Additionally, include the instance variable temperature_regulation, set it to True for class Mammal, and set it to False for class Reptile.\n",
    "- Instantiate Mammal as daisy, passing 'Daisy' as the first argument 'dog' and as the second argument. Then instantiate Reptile as stella, passing 'Stella' as the first argument 'alligator' and as the second argument.\n",
    "- Print both daisy and stella to explore their contents. Specifically, print their spinal_cord and temperature_regularization attributes.\n"
   ]
  },
  {
   "cell_type": "code",
   "execution_count": 8,
   "metadata": {},
   "outputs": [
    {
     "name": "stdout",
     "output_type": "stream",
     "text": [
      "<__main__.Mammal object at 0x0000016BDC283978>\n",
      "<__main__.Reptile object at 0x0000016BDC2839E8>\n",
      "True\n",
      "False\n"
     ]
    }
   ],
   "source": [
    "class Vertebrate():\n",
    "    spinal_cord = True\n",
    "    def __init__(self,name):\n",
    "        self.name = name\n",
    "class Mammal(Vertebrate):\n",
    "    temperature_regulation = True\n",
    "    def __init__(self,name,animal_type):\n",
    "        self.animal_type = animal_type\n",
    "class Reptile(Vertebrate):\n",
    "    temperature_regulation = False\n",
    "    def __init__(self,name,animal_type):\n",
    "        self.animal_type = animal_type\n",
    "daisy = Mammal('Daisy','dog')\n",
    "stella = Reptile('Stella','alligator')\n",
    "\n",
    "print(daisy)\n",
    "print(stella)\n",
    "\n",
    "print(daisy.spinal_cord)\n",
    "print(stella.temperature_regulation)"
   ]
  },
  {
   "cell_type": "code",
   "execution_count": 10,
   "metadata": {},
   "outputs": [
    {
     "name": "stdout",
     "output_type": "stream",
     "text": [
      "Stella Spinal cord:  True\n",
      "Stella temperature regularization: False\n",
      "Daisy Spinal cord: True\n",
      "Daisy temperature regularization: True\n"
     ]
    }
   ],
   "source": [
    "# Create a class Vertebrate\n",
    "class Vertebrate():\n",
    "    spinal_board = True \n",
    "    def __init__(self, name):\n",
    "        self.name = name\n",
    "\n",
    "# Create a class Mammal, which inherits from Vertebrate\n",
    "class Mammal(Vertebrate):\n",
    "    def __init__(self, name, animal_type):\n",
    "        self.animal_type = animal_type\n",
    "        self.temperature_regulation = True\n",
    "\n",
    "# Create a class Reptile, which also inherits from Vertebrate\n",
    "class Reptile(Vertebrate):\n",
    "    def __init__(self, name, animal_type):\n",
    "        self.animal_type = animal_type\n",
    "        self.temperature_regulation = False\n",
    "\n",
    "# Instantiate a mammal with name 'Daisy' and animal_type 'dog': daisy\n",
    "daisy = Mammal('Daisy', 'dog')\n",
    "\n",
    "# Instantiate a reptile with name 'Stella' and animal_type 'alligator': stella\n",
    "stella = Reptile('Stella', 'alligator')\n",
    "\n",
    "# Print stella's attributes spinal_cord and temperature_regulation\n",
    "print(\"Stella Spinal cord: \",stella.spinal_board)\n",
    "print(\"Stella temperature regularization: \" + str(stella.temperature_regulation))\n",
    "\n",
    "# Print daisy's attributes spinal_cord and temperature_regulation\n",
    "print(\"Daisy Spinal cord: \" + str(daisy.spinal_board))\n",
    "print(\"Daisy temperature regularization: \" + str(daisy.temperature_regulation))"
   ]
  },
  {
   "cell_type": "markdown",
   "metadata": {},
   "source": [
    "## Abstract Class DataShell I\n",
    "\n",
    "- We will now switch back to working on our DataShell class. Specifically, we will create an abstract class, such that we can create other classes that then inherit from it!\n",
    "\n",
    "- For this reason, our abstract DataShell class will not do much, resembling some of the earlier exercises in this course.\n",
    " \n",
    "- Import numpy as np and pandas as np.\n",
    "- Create class DataShell with initialization method and input arguments self and inputFile. In the method body, define the instance variable file, and set it to the value of inputFile.\n",
    "- Instantiate DataShell as my_data_shell, passing us_life_expectancy as input to the constructor.\n",
    "- Print my_data_shell to explore its contents."
   ]
  },
  {
   "cell_type": "code",
   "execution_count": 11,
   "metadata": {},
   "outputs": [],
   "source": [
    "import numpy as np"
   ]
  },
  {
   "cell_type": "code",
   "execution_count": 12,
   "metadata": {},
   "outputs": [],
   "source": [
    "import pandas as pd"
   ]
  },
  {
   "cell_type": "code",
   "execution_count": 13,
   "metadata": {},
   "outputs": [
    {
     "name": "stdout",
     "output_type": "stream",
     "text": [
      "<__main__.DataShell object at 0x0000016BDE6CDFD0>\n"
     ]
    }
   ],
   "source": [
    "class DataShell():\n",
    "    def __init__(self,inputFile):\n",
    "        self.file = inputFile\n",
    "mtcars = \"Desktop/LifeLine/DataSets/mtcars.csv.txt\"\n",
    "my_data = DataShell(mtcars)\n",
    "print(my_data)"
   ]
  },
  {
   "cell_type": "markdown",
   "metadata": {},
   "source": [
    "- Import numpy as np and pandas as np.\n",
    "- Create class DataShell with initialization method and input arguments self and inputFile. In the method body, define the instance variable file, and set it to the value of inputFile. All this is already done for you.\n",
    "- Create a second class, CsvDataShell, which inherits from DataShell. Add an initialization method, which takes as input arguments both self and inputFile. Declare an instance variable data and set it to the value of pd.read_csv(inputFile).\n",
    "- Instantiate CsvDataShell as us_data_shell, passing us_life_expectancy as input to the constructor, and print us_data_shell.data to explore its contents."
   ]
  },
  {
   "cell_type": "code",
   "execution_count": 15,
   "metadata": {},
   "outputs": [
    {
     "name": "stdout",
     "output_type": "stream",
     "text": [
      "               model   mpg  cyl   disp   hp  drat     wt   qsec  vs  am  gear  \\\n",
      "0          Mazda RX4  21.0    6  160.0  110  3.90  2.620  16.46   0   1     4   \n",
      "1      Mazda RX4 Wag  21.0    6  160.0  110  3.90  2.875  17.02   0   1     4   \n",
      "2         Datsun 710  22.8    4  108.0   93  3.85  2.320  18.61   1   1     4   \n",
      "3     Hornet 4 Drive  21.4    6  258.0  110  3.08  3.215  19.44   1   0     3   \n",
      "4  Hornet Sportabout  18.7    8  360.0  175  3.15  3.440  17.02   0   0     3   \n",
      "\n",
      "   carb  \n",
      "0     4  \n",
      "1     4  \n",
      "2     1  \n",
      "3     1  \n",
      "4     2  \n"
     ]
    }
   ],
   "source": [
    "class DataShell():\n",
    "    def __init__(self,inputFile):\n",
    "        self.file = inputFile\n",
    "class CsvDataShell(DataShell):\n",
    "    def __init__(self,inputFile):\n",
    "        self.data = pd.read_csv(inputFile)\n",
    "mtcars = \"Desktop/LifeLine/DataSets/mtcars.csv.txt\"\n",
    "my_cars = CsvDataShell(mtcars)\n",
    "print(my_cars.data.head())"
   ]
  },
  {
   "cell_type": "markdown",
   "metadata": {},
   "source": [
    "# Composition and Inheritance I\n",
    "\n",
    "- As you may have noticed, we have already been using composition in our classes, we just have not been explicit about it. More specifically, we have been relying on functionality from the pandas package.\n",
    "\n",
    "- In this exercise, we will combine inheritance and composition as we define a class that 1) inherits from another class, and 2) uses functionality from other classes.\n",
    "\n",
    "\n",
    "- Create abstract class DataShell, with class variable family set to 'DataShell', and with initialization method and instance variables; all this is already done for you.\n",
    "- Create a second class, CsvDataShell, which inherits from DataShell.\n",
    "- Define initialization method, with self, name, and filepath as input arguments. In the method body, declare data as instance variable and set it to pd.read_csv(filepath). Declare a second instance variable stats and set it to self.data.describe().\n",
    "- Instantiate CsvDataShell as us_data_shell, passing \"US\" and us_life_expectancy as inputs. Finally, print us_data_shell.stats to explore its contents."
   ]
  },
  {
   "cell_type": "code",
   "execution_count": 19,
   "metadata": {},
   "outputs": [
    {
     "name": "stdout",
     "output_type": "stream",
     "text": [
      "             mpg        cyl        disp          hp       drat         wt  \\\n",
      "count  32.000000  32.000000   32.000000   32.000000  32.000000  32.000000   \n",
      "mean   20.090625   6.187500  230.721875  146.687500   3.596563   3.217250   \n",
      "std     6.026948   1.785922  123.938694   68.562868   0.534679   0.978457   \n",
      "min    10.400000   4.000000   71.100000   52.000000   2.760000   1.513000   \n",
      "25%    15.425000   4.000000  120.825000   96.500000   3.080000   2.581250   \n",
      "50%    19.200000   6.000000  196.300000  123.000000   3.695000   3.325000   \n",
      "75%    22.800000   8.000000  326.000000  180.000000   3.920000   3.610000   \n",
      "max    33.900000   8.000000  472.000000  335.000000   4.930000   5.424000   \n",
      "\n",
      "            qsec         vs         am       gear     carb  \n",
      "count  32.000000  32.000000  32.000000  32.000000  32.0000  \n",
      "mean   17.848750   0.437500   0.406250   3.687500   2.8125  \n",
      "std     1.786943   0.504016   0.498991   0.737804   1.6152  \n",
      "min    14.500000   0.000000   0.000000   3.000000   1.0000  \n",
      "25%    16.892500   0.000000   0.000000   3.000000   2.0000  \n",
      "50%    17.710000   0.000000   0.000000   4.000000   2.0000  \n",
      "75%    18.900000   1.000000   1.000000   4.000000   4.0000  \n",
      "max    22.900000   1.000000   1.000000   5.000000   8.0000  \n"
     ]
    }
   ],
   "source": [
    "# Define abstract class DataShell\n",
    "class DataShell:\n",
    "    # Class variable family\n",
    "    family = 'DataShell'\n",
    "    # Initialization method with arguments, and instance variables\n",
    "    def __init__(self, name, filepath): \n",
    "        self.name = name\n",
    "        self.filepath = filepath\n",
    "\n",
    "# Define class CsvDataShell      \n",
    "class CsvDataShell(DataShell):\n",
    "    # Initialization method with arguments self, name, filepath\n",
    "    def __init__(self, name, filepath):\n",
    "        # Instance variable data\n",
    "        self.data = pd.read_csv(filepath)\n",
    "        # Instance variable stats\n",
    "        self.stats = self.data.describe()\n",
    "\n",
    "# Instantiate CsvDataShell as us_data_shell\n",
    "us_data_shell = CsvDataShell(\"US\", mtcars)\n",
    "\n",
    "# Print us_data_shell.stats\n",
    "print(us_data_shell.stats)"
   ]
  },
  {
   "cell_type": "code",
   "execution_count": 1,
   "metadata": {},
   "outputs": [
    {
     "name": "stdout",
     "output_type": "stream",
     "text": [
      "Akash\n"
     ]
    }
   ],
   "source": [
    "print(\"Akash\")"
   ]
  }
 ],
 "metadata": {
  "kernelspec": {
   "display_name": "Python 3",
   "language": "python",
   "name": "python3"
  },
  "language_info": {
   "codemirror_mode": {
    "name": "ipython",
    "version": 3
   },
   "file_extension": ".py",
   "mimetype": "text/x-python",
   "name": "python",
   "nbconvert_exporter": "python",
   "pygments_lexer": "ipython3",
   "version": "3.7.3"
  }
 },
 "nbformat": 4,
 "nbformat_minor": 2
}
