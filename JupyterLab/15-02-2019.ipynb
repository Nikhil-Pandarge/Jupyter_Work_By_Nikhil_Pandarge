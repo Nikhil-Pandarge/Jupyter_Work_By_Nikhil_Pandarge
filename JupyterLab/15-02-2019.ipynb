{
 "cells": [
  {
   "cell_type": "code",
   "execution_count": 3,
   "metadata": {},
   "outputs": [],
   "source": [
    "lovely_loveseat_description = \"Lovely Loveseat. Tufted polyester blend on wood. 32 inches high x 40 inches wide x 30 inches deep. Red or white.\"\n",
    "\n",
    "lovely_loveseat_price = 254.00\n",
    "\n",
    "stylish_settee_description = \"Stylish Settee. Faux leather on birch. 29.50 inches high x 54.75 inches wide x 28 inches deep. Black.\"\n",
    "\n",
    "stylish_settee_price = 180.50\n",
    "\n",
    "luxurious_lamp_description =\"Luxurious Lamp. Glass and iron. 36 inches tall. Brown with cream shade.\"\n",
    "\n",
    "luxurious_lamp_price = 52.15\n",
    "\n",
    "sales_tax = 0.088"
   ]
  },
  {
   "cell_type": "code",
   "execution_count": 4,
   "metadata": {},
   "outputs": [
    {
     "name": "stdout",
     "output_type": "stream",
     "text": [
      "Customer One Items:\n",
      "Lovely Loveseat. Tufted polyester blend on wood. 32 inches high x 40 inches wide x 30 inches deep. Red or white.Luxurious Lamp. Glass and iron. 36 inches tall. Brown with cream shade.\n",
      "Customer One Total:\n",
      "333.09119999999996\n"
     ]
    }
   ],
   "source": [
    "customer_one_total = 0\n",
    "\n",
    "customer_one_itemization = \"\"\n",
    "\n",
    "customer_one_total += lovely_loveseat_price\n",
    "\n",
    "customer_one_itemization += lovely_loveseat_description\n",
    "\n",
    "customer_one_total += luxurious_lamp_price\n",
    "\n",
    "customer_one_itemization += luxurious_lamp_description\n",
    "\n",
    "customer_one_tax = customer_one_total * sales_tax\n",
    "\n",
    "customer_one_total += customer_one_tax\n",
    "\n",
    "print(\"Customer One Items:\")\n",
    "\n",
    "print(customer_one_itemization)\n",
    "\n",
    "print(\"Customer One Total:\")\n",
    "\n",
    "print(customer_one_total)"
   ]
  },
  {
   "cell_type": "code",
   "execution_count": 1,
   "metadata": {},
   "outputs": [
    {
     "name": "stdout",
     "output_type": "stream",
     "text": [
      "End of the report\n",
      "The current time is: 3pm\n",
      "The mood is: good\n"
     ]
    }
   ],
   "source": [
    "time = '3pm'\n",
    "mood = 'good'\n",
    "def report():\n",
    "    print(\"The current time is:\",time)\n",
    "    print(\"The mood is:\",mood)\n",
    "print(\"End of the report\")\n",
    "report()"
   ]
  },
  {
   "cell_type": "code",
   "execution_count": null,
   "metadata": {},
   "outputs": [],
   "source": [
    "def update(new_value = 10):\n",
    "    old_value = new_value\n",
    "print(old_value)\n",
    "update(20)\n",
    "print(old_value)"
   ]
  },
  {
   "cell_type": "code",
   "execution_count": 4,
   "metadata": {},
   "outputs": [
    {
     "name": "stdout",
     "output_type": "stream",
     "text": [
      "50.5\n",
      "0.0\n"
     ]
    }
   ],
   "source": [
    "# Write your average function here:\n",
    "def average(num1,num2):\n",
    "    return ((num1+num2)/2)\n",
    "# Uncomment these function calls to test your average function:\n",
    "print(average(1, 100))\n",
    "# The average of 1 and 100 is 50.5\n",
    "print(average(1, -1))\n",
    "# The average of 1 and -1 is 0"
   ]
  },
  {
   "cell_type": "code",
   "execution_count": 5,
   "metadata": {},
   "outputs": [
    {
     "name": "stdout",
     "output_type": "stream",
     "text": [
      "1\n",
      "0\n",
      "1024\n"
     ]
    }
   ],
   "source": [
    "# Write your tenth_power function here:\n",
    "def tenth_power(num):return (num ** 10)\n",
    "# Uncomment these function calls to test your tenth_power function:\n",
    "print(tenth_power(1))\n",
    "# 1 to the 10th power is 1\n",
    "print(tenth_power(0))\n",
    "# 0 to the 10th power is 0\n",
    "print(tenth_power(2))\n",
    "# 2 to the 10th power is 1024"
   ]
  },
  {
   "cell_type": "markdown",
   "metadata": {},
   "source": [
    "- -------------------------------------\n",
    "- ##  Getting Ready for Physics Class"
   ]
  },
  {
   "cell_type": "code",
   "execution_count": 6,
   "metadata": {},
   "outputs": [
    {
     "name": "stdout",
     "output_type": "stream",
     "text": [
      "The GE train supplies 226800 Newtons of force.\n",
      "A 1kg bomb supplies 90000000000000000 Joules.\n",
      "The GE train does 22680000 Joules of work over 100 meters.\n"
     ]
    }
   ],
   "source": [
    "train_mass = 22680\n",
    "\n",
    "train_acceleration = 10\n",
    "\n",
    "train_distance = 100\n",
    "\n",
    "bomb_mass = 1\n",
    "\n",
    "def f_to_c(f_temp):\n",
    "    c_temp = (f_temp-32) * 5/9\n",
    "    return c_temp\n",
    "\n",
    "f100_in_celsius = f_to_c(100)\n",
    "\n",
    "def c_to_f(c_temp):\n",
    "    f_temp = c_temp * (9/5) + 32\n",
    "    return f_temp\n",
    "\n",
    "c0_in_fahrenheit = c_to_f(0)\n",
    "\n",
    "def get_force(mass,acceleration):\n",
    "    return mass * acceleration\n",
    "\n",
    "train_force = get_force(train_mass,train_acceleration)\n",
    "\n",
    "print(\"The GE train supplies\",train_force,\"Newtons of force.\")\n",
    "\n",
    "def get_energy(mass,c= 3*10**8):\n",
    "    return (mass *( c**2))\n",
    "\n",
    "bomb_energy = get_energy(bomb_mass)\n",
    "\n",
    "print( \"A 1kg bomb supplies\",bomb_energy, \"Joules.\")\n",
    "\n",
    "def get_work(mass,acceleration,distance):\n",
    "    force = get_force(mass,acceleration)\n",
    "    return (force * distance)\n",
    "\n",
    "train_work = get_work(train_mass,train_acceleration,train_distance)\n",
    "\n",
    "print(\"The GE train does\",train_work,\"Joules of work over\",train_distance,\"meters.\")"
   ]
  },
  {
   "cell_type": "code",
   "execution_count": 8,
   "metadata": {},
   "outputs": [
    {
     "data": {
      "text/plain": [
       "True"
      ]
     },
     "execution_count": 8,
     "metadata": {},
     "output_type": "execute_result"
    }
   ],
   "source": [
    "3 ** 2 + 1 == 30/3"
   ]
  },
  {
   "cell_type": "code",
   "execution_count": 10,
   "metadata": {},
   "outputs": [
    {
     "data": {
      "text/plain": [
       "10"
      ]
     },
     "execution_count": 10,
     "metadata": {},
     "output_type": "execute_result"
    }
   ],
   "source": [
    "30 // 3"
   ]
  },
  {
   "cell_type": "code",
   "execution_count": 11,
   "metadata": {},
   "outputs": [
    {
     "data": {
      "text/plain": [
       "10"
      ]
     },
     "execution_count": 11,
     "metadata": {},
     "output_type": "execute_result"
    }
   ],
   "source": [
    "3 ** 2 + 1"
   ]
  },
  {
   "cell_type": "markdown",
   "metadata": {},
   "source": [
    "- #### 1. Create a function named in_range() that has three parameters named num, lower, and upper.\n",
    "#### The function should return True if num is greater than or equal to lower and less than or equal to upper. Otherwise, return False."
   ]
  },
  {
   "cell_type": "code",
   "execution_count": 14,
   "metadata": {},
   "outputs": [
    {
     "name": "stdout",
     "output_type": "stream",
     "text": [
      "True\n",
      "False\n"
     ]
    }
   ],
   "source": [
    "# Write your in_range function here:\n",
    "def in_range(num,lower,upper):\n",
    "    if (num >= lower) and (num <= upper):\n",
    "        return True\n",
    "    else:\n",
    "        return False\n",
    "# Uncomment these function calls to test your in_range function:\n",
    "print(in_range(10, 10, 10))\n",
    "# should print True\n",
    "print(in_range(5, 10, 20))\n",
    "# should print False"
   ]
  },
  {
   "cell_type": "code",
   "execution_count": 16,
   "metadata": {},
   "outputs": [
    {
     "name": "stdout",
     "output_type": "stream",
     "text": [
      "10\n",
      "5\n",
      "-5\n",
      "It's a tie!\n"
     ]
    }
   ],
   "source": [
    "# Write your max_num function here:\n",
    "def max_num(num1, num2, num3):\n",
    "  if num1 > num2 and num1 > num3:\n",
    "    return num1\n",
    "  elif num2 > num1 and num2 > num3:\n",
    "    return num2\n",
    "  elif num3 > num1 and num3 > num2:\n",
    "    return num3\n",
    "  else:\n",
    "    return \"It's a tie!\"\n",
    "# Uncomment these function calls to test your max_num function:\n",
    "print(max_num(-10, 0, 10))\n",
    "# should print 10\n",
    "print(max_num(-10, 5, -30))\n",
    "# should print 5\n",
    "print(max_num(-5, -10, -10))\n",
    "# should print -5\n",
    "print(max_num(2, 3, 3))\n",
    "# should print \"It's a tie\"\n"
   ]
  },
  {
   "cell_type": "markdown",
   "metadata": {},
   "source": [
    "- ## Ground Shipping\n",
    "\n",
    "Weight of Package\tPrice per Pound\tFlat Charge\n",
    "\n",
    "2 lb or less\t$1.50\t$20.00\n",
    "\n",
    "Over 2 lb but less than or equal to 6 lb\t$3.00\t$20.00\n",
    "\n",
    "Over 6 lb but less than or equal to 10 lb\t$4.00\t$20.00\n",
    "\n",
    "Over 10 lb\t$4.75\t$20.00\n",
    "\n",
    "- ## Drone Shipping\n",
    "\n",
    "Weight of Package\tPrice per Pound\tFlat Charge\n",
    "\n",
    "2 lb or less\t$4.50\t$0.00\n",
    "\n",
    "Over 2 lb but less than or equal to 6 lb\t$9.00\t$0.00\n",
    "\n",
    "Over 6 lb but less than or equal to 10 lb\t$12.00\t$0.00\n",
    "\n",
    "Over 10 lb\t$14.25\t$0.00\n",
    "\n"
   ]
  },
  {
   "cell_type": "code",
   "execution_count": 18,
   "metadata": {},
   "outputs": [
    {
     "name": "stdout",
     "output_type": "stream",
     "text": [
      "53.6\n",
      "6.75\n"
     ]
    }
   ],
   "source": [
    "def ground_shipping(weight):\n",
    "  if weight <= 2:\n",
    "    return weight * 1.50 + 20.00\n",
    "  elif weight > 2 and weight <= 6:\n",
    "    return weight * 3.00 + 20.00\n",
    "  elif weight > 6 and weight <= 10:\n",
    "    return weight * 4.00 + 20.00\n",
    "  else:\n",
    "    return weight * 4.75 + 20.00\n",
    "\n",
    "print(ground_shipping(8.4))\n",
    "\n",
    "def drone_shipping(weight):\n",
    "  if weight <= 2:\n",
    "    return weight * 4.50 + 0.00\n",
    "  elif weight > 2 and weight <= 6:\n",
    "    return weight * 9.00 + 0.00\n",
    "  elif weight > 6 and weight <= 10:\n",
    "    return weight * 12.00 + 0.00\n",
    "  else:\n",
    "    return weight * 14.25 + 20.00\n",
    "\n",
    "premium_ground_shipping = 125.00\n",
    "\n",
    "print(drone_shipping(1.5))"
   ]
  },
  {
   "cell_type": "code",
   "execution_count": 1,
   "metadata": {},
   "outputs": [
    {
     "name": "stdout",
     "output_type": "stream",
     "text": [
      "We sell 7 different kinds of pizza!\n",
      "[(2, 'peppernoi'), (6, 'pineapple'), (1, 'cheese'), (3, 'sausage'), (2, 'olives'), (7, 'anchovies'), (2, 'mushrooms')]\n",
      "[(1, 'cheese'), (2, 'mushrooms'), (2, 'olives')]\n",
      "3\n"
     ]
    }
   ],
   "source": [
    "toppings = ['peppernoi', 'pineapple', 'cheese', 'sausage', 'olives', 'anchovies', 'mushrooms']\n",
    "\n",
    "prices = [2, 6, 1, 3, 2, 7, 2] \n",
    "\n",
    "num_pizzas = len(toppings)\n",
    "\n",
    "print(\"We sell\",num_pizzas,\"different kinds of pizza!\")\n",
    "\n",
    "pizzas = list(zip(prices,toppings))\n",
    "\n",
    "print(pizzas)\n",
    "\n",
    "pizzas.sort()\n",
    "\n",
    "cheapest_pizza = pizzas[0]\n",
    "\n",
    "priciest_pizza = pizzas[-1]\n",
    "\n",
    "three_cheapest = pizzas[0:3]\n",
    "\n",
    "print(three_cheapest)\n",
    "\n",
    "num_two_dollar_slices = prices.count(2)\n",
    "\n",
    "print(num_two_dollar_slices)"
   ]
  }
 ],
 "metadata": {
  "kernelspec": {
   "display_name": "Python 3",
   "language": "python",
   "name": "python3"
  },
  "language_info": {
   "codemirror_mode": {
    "name": "ipython",
    "version": 3
   },
   "file_extension": ".py",
   "mimetype": "text/x-python",
   "name": "python",
   "nbconvert_exporter": "python",
   "pygments_lexer": "ipython3",
   "version": "3.7.0"
  }
 },
 "nbformat": 4,
 "nbformat_minor": 2
}
