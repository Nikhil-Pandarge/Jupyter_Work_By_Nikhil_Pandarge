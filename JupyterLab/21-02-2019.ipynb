{
 "cells": [
  {
   "cell_type": "code",
   "execution_count": 5,
   "metadata": {},
   "outputs": [
    {
     "data": {
      "text/plain": [
       "list"
      ]
     },
     "execution_count": 5,
     "metadata": {},
     "output_type": "execute_result"
    }
   ],
   "source": [
    "cookies = [\"chocolate\",\"pie\",\"jaguar\",\"sugar\"]\n",
    "cookies.append('Tirrgel')\n",
    "type(cookies)"
   ]
  },
  {
   "cell_type": "code",
   "execution_count": 6,
   "metadata": {},
   "outputs": [
    {
     "name": "stdout",
     "output_type": "stream",
     "text": [
      "jaguar\n"
     ]
    }
   ],
   "source": [
    "print(cookies[2])"
   ]
  },
  {
   "cell_type": "code",
   "execution_count": 8,
   "metadata": {},
   "outputs": [
    {
     "name": "stdout",
     "output_type": "stream",
     "text": [
      "['chocolate', 'pie', 'jaguar', 'sugar', 'Tirrgel', 'strawberry', 'vanilla']\n"
     ]
    }
   ],
   "source": [
    "cakes = ['strawberry','vanilla']\n",
    "total_cakes = cookies + cakes\n",
    "print(total_cakes)"
   ]
  },
  {
   "cell_type": "code",
   "execution_count": 14,
   "metadata": {},
   "outputs": [
    {
     "data": {
      "text/plain": [
       "1"
      ]
     },
     "execution_count": 14,
     "metadata": {},
     "output_type": "execute_result"
    }
   ],
   "source": [
    "position = total_cakes.index('pie')\n",
    "position"
   ]
  },
  {
   "cell_type": "code",
   "execution_count": 16,
   "metadata": {},
   "outputs": [
    {
     "data": {
      "text/plain": [
       "['chocolate',\n",
       " 'pie',\n",
       " 'jaguar',\n",
       " 'sugar',\n",
       " 'Tirrgel',\n",
       " 'strawberry',\n",
       " 'vanilla',\n",
       " 'Nikhil',\n",
       " 'Pandarge']"
      ]
     },
     "execution_count": 16,
     "metadata": {},
     "output_type": "execute_result"
    }
   ],
   "source": [
    "total_cakes.extend(['Nikhil','Pandarge'])\n",
    "total_cakes"
   ]
  },
  {
   "cell_type": "code",
   "execution_count": 18,
   "metadata": {},
   "outputs": [
    {
     "name": "stdout",
     "output_type": "stream",
     "text": [
      "['Ximena', 'Aliza', 'Ayden', 'Calvin', 'Rowen', 'Sandeep']\n",
      "['Ximena', 'Ayden', 'Calvin', 'Rowen', 'Sandeep']\n"
     ]
    }
   ],
   "source": [
    "# Create a list containing the names: baby_names\n",
    "baby_names = ['Ximena','Aliza','Ayden','Calvin']\n",
    "\n",
    "# Extend baby_names with 'Rowen' and 'Sandeep'\n",
    "baby_names.extend(['Rowen','Sandeep'])\n",
    "\n",
    "# Print baby_names\n",
    "print(baby_names)\n",
    "\n",
    "# Find the position of 'Aliza': position\n",
    "position = baby_names.index('Aliza')\n",
    "\n",
    "# Remove 'Aliza' from baby_names\n",
    "baby_names.pop(position)\n",
    "\n",
    "# Print baby_names\n",
    "print(baby_names)"
   ]
  },
  {
   "cell_type": "code",
   "execution_count": 31,
   "metadata": {},
   "outputs": [],
   "source": [
    "import pandas as pd"
   ]
  },
  {
   "cell_type": "code",
   "execution_count": 28,
   "metadata": {},
   "outputs": [
    {
     "name": "stdout",
     "output_type": "stream",
     "text": [
      "The movie in question was nominated for 3 Oscar awards, the director is Richard Donner and there is no Box Office information.\n"
     ]
    }
   ],
   "source": [
    "import json\n",
    "with open(\"another.json\") as json_file:\n",
    "    json_data = json.load(json_file)\n",
    "    print((json_data['Director']))"
   ]
  },
  {
   "cell_type": "code",
   "execution_count": 35,
   "metadata": {},
   "outputs": [
    {
     "name": "stdout",
     "output_type": "stream",
     "text": [
      "   Ozone  Solar.R  Wind  Temp  Month  Day\n",
      "0   41.0    190.0   7.4    67      5    1\n",
      "1   36.0    118.0   8.0    72      5    2\n",
      "2   12.0    149.0  12.6    74      5    3\n",
      "3   18.0    313.0  11.5    62      5    4\n",
      "4    NaN      NaN  14.3    56      5    5\n",
      "   Month  Day variable  value\n",
      "0      5    1    Ozone   41.0\n",
      "1      5    2    Ozone   36.0\n",
      "2      5    3    Ozone   12.0\n",
      "3      5    4    Ozone   18.0\n",
      "4      5    5    Ozone    NaN\n"
     ]
    }
   ],
   "source": [
    "import pandas as pd\n",
    "import numpy as np\n",
    "airquality = pd.read_csv('airquality.csv')\n",
    "\n",
    "# Print the head of airquality\n",
    "print(airquality.head())\n",
    "\n",
    "# Melt airquality: airquality_melt\n",
    "airquality_melt = pd.melt(airquality, id_vars=['Month', 'Day'])\n",
    "\n",
    "# Print the head of airquality_melt\n",
    "print(airquality_melt.head())"
   ]
  },
  {
   "cell_type": "code",
   "execution_count": 36,
   "metadata": {},
   "outputs": [
    {
     "name": "stdout",
     "output_type": "stream",
     "text": [
      "   Ozone  Solar.R  Wind  Temp  Month  Day\n",
      "0   41.0    190.0   7.4    67      5    1\n",
      "1   36.0    118.0   8.0    72      5    2\n",
      "2   12.0    149.0  12.6    74      5    3\n",
      "3   18.0    313.0  11.5    62      5    4\n",
      "4    NaN      NaN  14.3    56      5    5\n",
      "   Month  Day measurement  reading\n",
      "0      5    1       Ozone     41.0\n",
      "1      5    2       Ozone     36.0\n",
      "2      5    3       Ozone     12.0\n",
      "3      5    4       Ozone     18.0\n",
      "4      5    5       Ozone      NaN\n"
     ]
    }
   ],
   "source": [
    "# Print the head of airquality\n",
    "print(airquality.head())\n",
    "\n",
    "# Melt airquality: airquality_melt\n",
    "airquality_melt = pd.melt(airquality, id_vars=['Month', 'Day'], var_name='measurement', value_name='reading')\n",
    "\n",
    "# Print the head of airquality_melt\n",
    "print(airquality_melt.head())"
   ]
  },
  {
   "cell_type": "code",
   "execution_count": 37,
   "metadata": {},
   "outputs": [
    {
     "name": "stdout",
     "output_type": "stream",
     "text": [
      "   Month  Day measurement  reading\n",
      "0      5    1       Ozone     41.0\n",
      "1      5    2       Ozone     36.0\n",
      "2      5    3       Ozone     12.0\n",
      "3      5    4       Ozone     18.0\n",
      "4      5    5       Ozone      NaN\n",
      "measurement  Ozone  Solar.R  Temp  Wind\n",
      "Month Day                              \n",
      "5     1       41.0    190.0  67.0   7.4\n",
      "      2       36.0    118.0  72.0   8.0\n",
      "      3       12.0    149.0  74.0  12.6\n",
      "      4       18.0    313.0  62.0  11.5\n",
      "      5        NaN      NaN  56.0  14.3\n"
     ]
    }
   ],
   "source": [
    "# Print the head of airquality_melt\n",
    "print(airquality_melt.head())\n",
    "\n",
    "# Pivot airquality_melt: airquality_pivot\n",
    "airquality_pivot = airquality_melt.pivot_table(index=['Month', 'Day'], columns='measurement', values='reading')\n",
    "\n",
    "# Print the head of airquality_pivot\n",
    "print(airquality_pivot.head())"
   ]
  },
  {
   "cell_type": "code",
   "execution_count": 38,
   "metadata": {},
   "outputs": [
    {
     "name": "stdout",
     "output_type": "stream",
     "text": [
      "MultiIndex(levels=[[5, 6, 7, 8, 9], [1, 2, 3, 4, 5, 6, 7, 8, 9, 10, 11, 12, 13, 14, 15, 16, 17, 18, 19, 20, 21, 22, 23, 24, 25, 26, 27, 28, 29, 30, 31]],\n",
      "           labels=[[0, 0, 0, 0, 0, 0, 0, 0, 0, 0, 0, 0, 0, 0, 0, 0, 0, 0, 0, 0, 0, 0, 0, 0, 0, 0, 0, 0, 0, 0, 0, 1, 1, 1, 1, 1, 1, 1, 1, 1, 1, 1, 1, 1, 1, 1, 1, 1, 1, 1, 1, 1, 1, 1, 1, 1, 1, 1, 1, 1, 1, 2, 2, 2, 2, 2, 2, 2, 2, 2, 2, 2, 2, 2, 2, 2, 2, 2, 2, 2, 2, 2, 2, 2, 2, 2, 2, 2, 2, 2, 2, 2, 3, 3, 3, 3, 3, 3, 3, 3, 3, 3, 3, 3, 3, 3, 3, 3, 3, 3, 3, 3, 3, 3, 3, 3, 3, 3, 3, 3, 3, 3, 3, 4, 4, 4, 4, 4, 4, 4, 4, 4, 4, 4, 4, 4, 4, 4, 4, 4, 4, 4, 4, 4, 4, 4, 4, 4, 4, 4, 4, 4, 4], [0, 1, 2, 3, 4, 5, 6, 7, 8, 9, 10, 11, 12, 13, 14, 15, 16, 17, 18, 19, 20, 21, 22, 23, 24, 25, 26, 27, 28, 29, 30, 0, 1, 2, 3, 4, 5, 6, 7, 8, 9, 10, 11, 12, 13, 14, 15, 16, 17, 18, 19, 20, 21, 22, 23, 24, 25, 26, 27, 28, 29, 0, 1, 2, 3, 4, 5, 6, 7, 8, 9, 10, 11, 12, 13, 14, 15, 16, 17, 18, 19, 20, 21, 22, 23, 24, 25, 26, 27, 28, 29, 30, 0, 1, 2, 3, 4, 5, 6, 7, 8, 9, 10, 11, 12, 13, 14, 15, 16, 17, 18, 19, 20, 21, 22, 23, 24, 25, 26, 27, 28, 29, 30, 0, 1, 2, 3, 4, 5, 6, 7, 8, 9, 10, 11, 12, 13, 14, 15, 16, 17, 18, 19, 20, 21, 22, 23, 24, 25, 26, 27, 28, 29]],\n",
      "           names=['Month', 'Day'])\n",
      "RangeIndex(start=0, stop=153, step=1)\n",
      "measurement  Month  Day  Ozone  Solar.R  Temp  Wind\n",
      "0                5    1   41.0    190.0  67.0   7.4\n",
      "1                5    2   36.0    118.0  72.0   8.0\n",
      "2                5    3   12.0    149.0  74.0  12.6\n",
      "3                5    4   18.0    313.0  62.0  11.5\n",
      "4                5    5    NaN      NaN  56.0  14.3\n"
     ]
    }
   ],
   "source": [
    "# Print the index of airquality_pivot\n",
    "print(airquality_pivot.index)\n",
    "\n",
    "# Reset the index of airquality_pivot: airquality_pivot\n",
    "airquality_pivot_reset = airquality_pivot.reset_index()\n",
    "\n",
    "# Print the new index of airquality_pivot_reset\n",
    "print(airquality_pivot_reset.index)\n",
    "\n",
    "# Print the head of airquality_pivot_reset\n",
    "print(airquality_pivot_reset.head())"
   ]
  },
  {
   "cell_type": "code",
   "execution_count": 39,
   "metadata": {},
   "outputs": [
    {
     "ename": "NameError",
     "evalue": "name 'airquality_dup' is not defined",
     "output_type": "error",
     "traceback": [
      "\u001b[1;31m---------------------------------------------------------------------------\u001b[0m",
      "\u001b[1;31mNameError\u001b[0m                                 Traceback (most recent call last)",
      "\u001b[1;32m<ipython-input-39-0c5be230b56e>\u001b[0m in \u001b[0;36m<module>\u001b[1;34m()\u001b[0m\n\u001b[0;32m      1\u001b[0m \u001b[1;31m# Pivot table the airquality_dup: airquality_pivot\u001b[0m\u001b[1;33m\u001b[0m\u001b[1;33m\u001b[0m\u001b[0m\n\u001b[1;32m----> 2\u001b[1;33m \u001b[0mairquality_pivot\u001b[0m \u001b[1;33m=\u001b[0m \u001b[0mairquality_dup\u001b[0m\u001b[1;33m.\u001b[0m\u001b[0mpivot_table\u001b[0m\u001b[1;33m(\u001b[0m\u001b[0mindex\u001b[0m\u001b[1;33m=\u001b[0m\u001b[1;33m[\u001b[0m\u001b[1;34m'Month'\u001b[0m\u001b[1;33m,\u001b[0m\u001b[1;34m'Day'\u001b[0m\u001b[1;33m]\u001b[0m\u001b[1;33m,\u001b[0m \u001b[0mcolumns\u001b[0m\u001b[1;33m=\u001b[0m\u001b[1;34m'measurement'\u001b[0m\u001b[1;33m,\u001b[0m \u001b[0mvalues\u001b[0m\u001b[1;33m=\u001b[0m\u001b[1;34m'reading'\u001b[0m\u001b[1;33m,\u001b[0m \u001b[0maggfunc\u001b[0m\u001b[1;33m=\u001b[0m\u001b[0mnp\u001b[0m\u001b[1;33m.\u001b[0m\u001b[0mmean\u001b[0m\u001b[1;33m)\u001b[0m\u001b[1;33m\u001b[0m\u001b[0m\n\u001b[0m\u001b[0;32m      3\u001b[0m \u001b[1;33m\u001b[0m\u001b[0m\n\u001b[0;32m      4\u001b[0m \u001b[1;31m# Print the head of airquality_pivot before reset_index\u001b[0m\u001b[1;33m\u001b[0m\u001b[1;33m\u001b[0m\u001b[0m\n\u001b[0;32m      5\u001b[0m \u001b[0mprint\u001b[0m\u001b[1;33m(\u001b[0m\u001b[0mairquality_pivot\u001b[0m\u001b[1;33m.\u001b[0m\u001b[0mhead\u001b[0m\u001b[1;33m(\u001b[0m\u001b[1;33m)\u001b[0m\u001b[1;33m)\u001b[0m\u001b[1;33m\u001b[0m\u001b[0m\n",
      "\u001b[1;31mNameError\u001b[0m: name 'airquality_dup' is not defined"
     ]
    }
   ],
   "source": [
    "# Pivot table the airquality_dup: airquality_pivot\n",
    "airquality_pivot = airquality_dup.pivot_table(index=['Month','Day'], columns='measurement', values='reading', aggfunc=np.mean)\n",
    "\n",
    "# Print the head of airquality_pivot before reset_index\n",
    "print(airquality_pivot.head())\n",
    "\n",
    "# Reset the index of airquality_pivot\n",
    "airquality_pivot = airquality_pivot.reset_index()\n",
    "\n",
    "# Print the head of airquality_pivot\n",
    "print(airquality_pivot.head())\n",
    "\n",
    "# Print the head of airquality\n",
    "print(airquality.head())\n"
   ]
  },
  {
   "cell_type": "code",
   "execution_count": 42,
   "metadata": {},
   "outputs": [
    {
     "name": "stdout",
     "output_type": "stream",
     "text": [
      "  country  year  m014  m1524  m2534  m3544  m4554  m5564   m65  mu  f014  \\\n",
      "0      AD  2000   0.0    0.0    1.0    0.0    0.0    0.0   0.0 NaN   NaN   \n",
      "1      AE  2000   2.0    4.0    4.0    6.0    5.0   12.0  10.0 NaN   3.0   \n",
      "2      AF  2000  52.0  228.0  183.0  149.0  129.0   94.0  80.0 NaN  93.0   \n",
      "3      AG  2000   0.0    0.0    0.0    0.0    0.0    0.0   1.0 NaN   1.0   \n",
      "4      AL  2000   2.0   19.0   21.0   14.0   24.0   19.0  16.0 NaN   3.0   \n",
      "\n",
      "   f1524  f2534  f3544  f4554  f5564   f65  fu  \n",
      "0    NaN    NaN    NaN    NaN    NaN   NaN NaN  \n",
      "1   16.0    1.0    3.0    0.0    0.0   4.0 NaN  \n",
      "2  414.0  565.0  339.0  205.0   99.0  36.0 NaN  \n",
      "3    1.0    1.0    0.0    0.0    0.0   0.0 NaN  \n",
      "4   11.0   10.0    8.0    8.0    5.0  11.0 NaN  \n",
      "     country  year variable   value gender\n",
      "0         AD  2000     m014     0.0      m\n",
      "1         AE  2000     m014     2.0      m\n",
      "2         AF  2000     m014    52.0      m\n",
      "3         AG  2000     m014     0.0      m\n",
      "4         AL  2000     m014     2.0      m\n",
      "5         AM  2000     m014     2.0      m\n",
      "6         AN  2000     m014     0.0      m\n",
      "7         AO  2000     m014   186.0      m\n",
      "8         AR  2000     m014    97.0      m\n",
      "9         AS  2000     m014     NaN      m\n",
      "10        AT  2000     m014     1.0      m\n",
      "11        AU  2000     m014     3.0      m\n",
      "12        AZ  2000     m014     0.0      m\n",
      "13        BA  2000     m014     4.0      m\n",
      "14        BB  2000     m014     0.0      m\n",
      "15        BD  2000     m014   256.0      m\n",
      "16        BE  2000     m014     3.0      m\n",
      "17        BF  2000     m014    12.0      m\n",
      "18        BG  2000     m014     0.0      m\n",
      "19        BH  2000     m014     0.0      m\n",
      "20        BI  2000     m014     NaN      m\n",
      "21        BJ  2000     m014    19.0      m\n",
      "22        BM  2000     m014     NaN      m\n",
      "23        BN  2000     m014     0.0      m\n",
      "24        BO  2000     m014   166.0      m\n",
      "25        BR  2000     m014  1894.0      m\n",
      "26        BS  2000     m014     1.0      m\n",
      "27        BT  2000     m014     6.0      m\n",
      "28        BW  2000     m014    25.0      m\n",
      "29        BY  2000     m014     NaN      m\n",
      "...      ...   ...      ...     ...    ...\n",
      "3186      SY  2000       fu     NaN      f\n",
      "3187      SZ  2000       fu     NaN      f\n",
      "3188      TC  2000       fu     NaN      f\n",
      "3189      TG  2000       fu     NaN      f\n",
      "3190      TH  2000       fu     NaN      f\n",
      "3191      TJ  2000       fu     NaN      f\n",
      "3192      TK  2000       fu     NaN      f\n",
      "3193      TM  2000       fu     NaN      f\n",
      "3194      TN  2000       fu     NaN      f\n",
      "3195      TO  2000       fu     NaN      f\n",
      "3196      TR  2000       fu     NaN      f\n",
      "3197      TT  2000       fu     NaN      f\n",
      "3198      TV  2000       fu     NaN      f\n",
      "3199      TZ  2000       fu     NaN      f\n",
      "3200      UA  2000       fu     NaN      f\n",
      "3201      UG  2000       fu     NaN      f\n",
      "3202      US  2000       fu     NaN      f\n",
      "3203      UY  2000       fu     NaN      f\n",
      "3204      UZ  2000       fu     NaN      f\n",
      "3205      VC  2000       fu     NaN      f\n",
      "3206      VE  2000       fu     NaN      f\n",
      "3207      VG  2000       fu     NaN      f\n",
      "3208      VN  2000       fu     NaN      f\n",
      "3209      VU  2000       fu     NaN      f\n",
      "3210      WS  2000       fu     NaN      f\n",
      "3211      YE  2000       fu     NaN      f\n",
      "3212      YU  2000       fu     NaN      f\n",
      "3213      ZA  2000       fu     NaN      f\n",
      "3214      ZM  2000       fu     NaN      f\n",
      "3215      ZW  2000       fu     NaN      f\n",
      "\n",
      "[3216 rows x 5 columns]\n",
      "     country  year variable   value gender age_group\n",
      "0         AD  2000     m014     0.0      m       014\n",
      "1         AE  2000     m014     2.0      m       014\n",
      "2         AF  2000     m014    52.0      m       014\n",
      "3         AG  2000     m014     0.0      m       014\n",
      "4         AL  2000     m014     2.0      m       014\n",
      "5         AM  2000     m014     2.0      m       014\n",
      "6         AN  2000     m014     0.0      m       014\n",
      "7         AO  2000     m014   186.0      m       014\n",
      "8         AR  2000     m014    97.0      m       014\n",
      "9         AS  2000     m014     NaN      m       014\n",
      "10        AT  2000     m014     1.0      m       014\n",
      "11        AU  2000     m014     3.0      m       014\n",
      "12        AZ  2000     m014     0.0      m       014\n",
      "13        BA  2000     m014     4.0      m       014\n",
      "14        BB  2000     m014     0.0      m       014\n",
      "15        BD  2000     m014   256.0      m       014\n",
      "16        BE  2000     m014     3.0      m       014\n",
      "17        BF  2000     m014    12.0      m       014\n",
      "18        BG  2000     m014     0.0      m       014\n",
      "19        BH  2000     m014     0.0      m       014\n",
      "20        BI  2000     m014     NaN      m       014\n",
      "21        BJ  2000     m014    19.0      m       014\n",
      "22        BM  2000     m014     NaN      m       014\n",
      "23        BN  2000     m014     0.0      m       014\n",
      "24        BO  2000     m014   166.0      m       014\n",
      "25        BR  2000     m014  1894.0      m       014\n",
      "26        BS  2000     m014     1.0      m       014\n",
      "27        BT  2000     m014     6.0      m       014\n",
      "28        BW  2000     m014    25.0      m       014\n",
      "29        BY  2000     m014     NaN      m       014\n",
      "...      ...   ...      ...     ...    ...       ...\n",
      "3186      SY  2000       fu     NaN      f         u\n",
      "3187      SZ  2000       fu     NaN      f         u\n",
      "3188      TC  2000       fu     NaN      f         u\n",
      "3189      TG  2000       fu     NaN      f         u\n",
      "3190      TH  2000       fu     NaN      f         u\n",
      "3191      TJ  2000       fu     NaN      f         u\n",
      "3192      TK  2000       fu     NaN      f         u\n",
      "3193      TM  2000       fu     NaN      f         u\n",
      "3194      TN  2000       fu     NaN      f         u\n",
      "3195      TO  2000       fu     NaN      f         u\n",
      "3196      TR  2000       fu     NaN      f         u\n",
      "3197      TT  2000       fu     NaN      f         u\n",
      "3198      TV  2000       fu     NaN      f         u\n",
      "3199      TZ  2000       fu     NaN      f         u\n",
      "3200      UA  2000       fu     NaN      f         u\n",
      "3201      UG  2000       fu     NaN      f         u\n",
      "3202      US  2000       fu     NaN      f         u\n",
      "3203      UY  2000       fu     NaN      f         u\n",
      "3204      UZ  2000       fu     NaN      f         u\n",
      "3205      VC  2000       fu     NaN      f         u\n",
      "3206      VE  2000       fu     NaN      f         u\n",
      "3207      VG  2000       fu     NaN      f         u\n",
      "3208      VN  2000       fu     NaN      f         u\n",
      "3209      VU  2000       fu     NaN      f         u\n",
      "3210      WS  2000       fu     NaN      f         u\n",
      "3211      YE  2000       fu     NaN      f         u\n",
      "3212      YU  2000       fu     NaN      f         u\n",
      "3213      ZA  2000       fu     NaN      f         u\n",
      "3214      ZM  2000       fu     NaN      f         u\n",
      "3215      ZW  2000       fu     NaN      f         u\n",
      "\n",
      "[3216 rows x 6 columns]\n"
     ]
    }
   ],
   "source": [
    "import pandas as pd\n",
    "import numpy as np\n",
    "tb = pd.read_csv('tb.csv')\n",
    "print(tb.head())\n",
    "tb_melt = pd.melt(frame=tb,id_vars=['country','year'])\n",
    "\n",
    "tb_melt['gender'] = tb_melt.variable.str[0]\n",
    "print(tb_melt)\n",
    "\n",
    "tb_melt['age_group'] = tb_melt.variable.str[1:]\n",
    "print(tb_melt)"
   ]
  },
  {
   "cell_type": "code",
   "execution_count": 78,
   "metadata": {},
   "outputs": [
    {
     "name": "stdout",
     "output_type": "stream",
     "text": [
      "(122, 18)\n",
      "------------------------------------------------------------------->\n",
      "(1952, 4)\n",
      "         Date  Day  type_country  counts\n",
      "0    1/5/2015  289  Cases_Guinea  2776.0\n",
      "1    1/4/2015  288  Cases_Guinea  2775.0\n",
      "2    1/3/2015  287  Cases_Guinea  2769.0\n",
      "3    1/2/2015  286  Cases_Guinea     NaN\n",
      "4  12/31/2014  284  Cases_Guinea  2730.0\n",
      "---------------------------------------------------------------------------------------->>\n",
      "(1952, 5)\n",
      "         Date  Day  type_country  counts        str_split\n",
      "0    1/5/2015  289  Cases_Guinea  2776.0  [Cases, Guinea]\n",
      "1    1/4/2015  288  Cases_Guinea  2775.0  [Cases, Guinea]\n",
      "2    1/3/2015  287  Cases_Guinea  2769.0  [Cases, Guinea]\n",
      "3    1/2/2015  286  Cases_Guinea     NaN  [Cases, Guinea]\n",
      "4  12/31/2014  284  Cases_Guinea  2730.0  [Cases, Guinea]\n",
      "---------------------------------------------------------------------------------------------------->>>\n",
      "(1952, 6)\n",
      "         Date  Day  type_country  counts        str_split   type\n",
      "0    1/5/2015  289  Cases_Guinea  2776.0  [Cases, Guinea]  Cases\n",
      "1    1/4/2015  288  Cases_Guinea  2775.0  [Cases, Guinea]  Cases\n",
      "2    1/3/2015  287  Cases_Guinea  2769.0  [Cases, Guinea]  Cases\n",
      "3    1/2/2015  286  Cases_Guinea     NaN  [Cases, Guinea]  Cases\n",
      "4  12/31/2014  284  Cases_Guinea  2730.0  [Cases, Guinea]  Cases\n",
      "------------------------------------------------------------------------------------------------------------------->>>>\n",
      "(1952, 7)\n",
      "          Date  Day  type_country  counts        str_split   type country\n",
      "0     1/5/2015  289  Cases_Guinea  2776.0  [Cases, Guinea]  Cases  Guinea\n",
      "1     1/4/2015  288  Cases_Guinea  2775.0  [Cases, Guinea]  Cases  Guinea\n",
      "2     1/3/2015  287  Cases_Guinea  2769.0  [Cases, Guinea]  Cases  Guinea\n",
      "3     1/2/2015  286  Cases_Guinea     NaN  [Cases, Guinea]  Cases  Guinea\n",
      "4   12/31/2014  284  Cases_Guinea  2730.0  [Cases, Guinea]  Cases  Guinea\n",
      "5   12/28/2014  281  Cases_Guinea  2706.0  [Cases, Guinea]  Cases  Guinea\n",
      "6   12/27/2014  280  Cases_Guinea  2695.0  [Cases, Guinea]  Cases  Guinea\n",
      "7   12/24/2014  277  Cases_Guinea  2630.0  [Cases, Guinea]  Cases  Guinea\n",
      "8   12/21/2014  273  Cases_Guinea  2597.0  [Cases, Guinea]  Cases  Guinea\n",
      "9   12/20/2014  272  Cases_Guinea  2571.0  [Cases, Guinea]  Cases  Guinea\n",
      "10  12/18/2014  271  Cases_Guinea     NaN  [Cases, Guinea]  Cases  Guinea\n",
      "11  12/14/2014  267  Cases_Guinea  2416.0  [Cases, Guinea]  Cases  Guinea\n",
      "12   12/9/2014  262  Cases_Guinea     NaN  [Cases, Guinea]  Cases  Guinea\n",
      "13   12/7/2014  260  Cases_Guinea  2292.0  [Cases, Guinea]  Cases  Guinea\n",
      "14   12/3/2014  256  Cases_Guinea     NaN  [Cases, Guinea]  Cases  Guinea\n",
      "15  11/30/2014  253  Cases_Guinea  2164.0  [Cases, Guinea]  Cases  Guinea\n",
      "16  11/28/2014  251  Cases_Guinea     NaN  [Cases, Guinea]  Cases  Guinea\n",
      "17  11/23/2014  246  Cases_Guinea  2134.0  [Cases, Guinea]  Cases  Guinea\n",
      "18  11/22/2014  245  Cases_Guinea     NaN  [Cases, Guinea]  Cases  Guinea\n",
      "19  11/18/2014  241  Cases_Guinea  2047.0  [Cases, Guinea]  Cases  Guinea\n",
      "20  11/16/2014  239  Cases_Guinea  1971.0  [Cases, Guinea]  Cases  Guinea\n",
      "21  11/15/2014  238  Cases_Guinea     NaN  [Cases, Guinea]  Cases  Guinea\n",
      "22  11/11/2014  234  Cases_Guinea  1919.0  [Cases, Guinea]  Cases  Guinea\n",
      "23  11/10/2014  233  Cases_Guinea     NaN  [Cases, Guinea]  Cases  Guinea\n",
      "24   11/9/2014  232  Cases_Guinea  1878.0  [Cases, Guinea]  Cases  Guinea\n",
      "25   11/8/2014  231  Cases_Guinea     NaN  [Cases, Guinea]  Cases  Guinea\n",
      "26   11/4/2014  227  Cases_Guinea     NaN  [Cases, Guinea]  Cases  Guinea\n",
      "27   11/3/2014  226  Cases_Guinea  1760.0  [Cases, Guinea]  Cases  Guinea\n",
      "28   11/2/2014  225  Cases_Guinea  1731.0  [Cases, Guinea]  Cases  Guinea\n",
      "29  10/31/2014  222  Cases_Guinea     NaN  [Cases, Guinea]  Cases  Guinea\n",
      "           Date  Day type_country  counts       str_split    type country\n",
      "1922  5/23/2014   62  Deaths_Mali     NaN  [Deaths, Mali]  Deaths    Mali\n",
      "1923  5/12/2014   51  Deaths_Mali     NaN  [Deaths, Mali]  Deaths    Mali\n",
      "1924  5/10/2014   49  Deaths_Mali     NaN  [Deaths, Mali]  Deaths    Mali\n",
      "1925   5/7/2014   46  Deaths_Mali     NaN  [Deaths, Mali]  Deaths    Mali\n",
      "1926   5/5/2014   44  Deaths_Mali     NaN  [Deaths, Mali]  Deaths    Mali\n",
      "1927   5/3/2014   42  Deaths_Mali     NaN  [Deaths, Mali]  Deaths    Mali\n",
      "1928   5/1/2014   40  Deaths_Mali     NaN  [Deaths, Mali]  Deaths    Mali\n",
      "1929  4/26/2014   35  Deaths_Mali     NaN  [Deaths, Mali]  Deaths    Mali\n",
      "1930  4/24/2014   33  Deaths_Mali     NaN  [Deaths, Mali]  Deaths    Mali\n",
      "1931  4/23/2014   32  Deaths_Mali     NaN  [Deaths, Mali]  Deaths    Mali\n",
      "1932  4/22/2014   31  Deaths_Mali     NaN  [Deaths, Mali]  Deaths    Mali\n",
      "1933  4/21/2014   30  Deaths_Mali     NaN  [Deaths, Mali]  Deaths    Mali\n",
      "1934  4/20/2014   29  Deaths_Mali     NaN  [Deaths, Mali]  Deaths    Mali\n",
      "1935  4/17/2014   26  Deaths_Mali     NaN  [Deaths, Mali]  Deaths    Mali\n",
      "1936  4/16/2014   25  Deaths_Mali     NaN  [Deaths, Mali]  Deaths    Mali\n",
      "1937  4/15/2014   24  Deaths_Mali     NaN  [Deaths, Mali]  Deaths    Mali\n",
      "1938  4/14/2014   23  Deaths_Mali     NaN  [Deaths, Mali]  Deaths    Mali\n",
      "1939  4/11/2014   20  Deaths_Mali     NaN  [Deaths, Mali]  Deaths    Mali\n",
      "1940   4/9/2014   18  Deaths_Mali     NaN  [Deaths, Mali]  Deaths    Mali\n",
      "1941   4/7/2014   16  Deaths_Mali     NaN  [Deaths, Mali]  Deaths    Mali\n",
      "1942   4/4/2014   13  Deaths_Mali     NaN  [Deaths, Mali]  Deaths    Mali\n",
      "1943   4/1/2014   10  Deaths_Mali     NaN  [Deaths, Mali]  Deaths    Mali\n",
      "1944  3/31/2014    9  Deaths_Mali     NaN  [Deaths, Mali]  Deaths    Mali\n",
      "1945  3/29/2014    7  Deaths_Mali     NaN  [Deaths, Mali]  Deaths    Mali\n",
      "1946  3/28/2014    6  Deaths_Mali     NaN  [Deaths, Mali]  Deaths    Mali\n",
      "1947  3/27/2014    5  Deaths_Mali     NaN  [Deaths, Mali]  Deaths    Mali\n",
      "1948  3/26/2014    4  Deaths_Mali     NaN  [Deaths, Mali]  Deaths    Mali\n",
      "1949  3/25/2014    3  Deaths_Mali     NaN  [Deaths, Mali]  Deaths    Mali\n",
      "1950  3/24/2014    2  Deaths_Mali     NaN  [Deaths, Mali]  Deaths    Mali\n",
      "1951  3/22/2014    0  Deaths_Mali     NaN  [Deaths, Mali]  Deaths    Mali\n"
     ]
    }
   ],
   "source": [
    "ebola = pd.read_csv('ebola.csv')\n",
    "print(ebola.shape)\n",
    "#print(ebola.head())\n",
    "\n",
    "ebola_melt = pd.melt(frame=ebola,id_vars=['Date','Day'],var_name='type_country',value_name='counts')\n",
    "print(\"------------------------------------------------------------------->\")\n",
    "print(ebola_melt.shape)\n",
    "print(ebola_melt.head())\n",
    "\n",
    "ebola_melt['str_split'] = ebola_melt.type_country.str.split('_')\n",
    "print('---------------------------------------------------------------------------------------->>')\n",
    "print(ebola_melt.shape)\n",
    "print(ebola_melt.head())\n",
    "\n",
    "ebola_melt['type'] = ebola_melt['str_split'].str.get(0)\n",
    "print(\"---------------------------------------------------------------------------------------------------->>>\")\n",
    "print(ebola_melt.shape)\n",
    "print(ebola_melt.head())\n",
    "\n",
    "ebola_melt['country'] = ebola_melt['str_split'].str.get(1)\n",
    "print(\"------------------------------------------------------------------------------------------------------------------->>>>\")\n",
    "print(ebola_melt.shape)\n",
    "print(ebola_melt.head(30))\n",
    "print(ebola_melt.tail(30))"
   ]
  },
  {
   "cell_type": "code",
   "execution_count": 80,
   "metadata": {},
   "outputs": [
    {
     "name": "stdout",
     "output_type": "stream",
     "text": [
      "   Unnamed: 0         Date/Time      Lat      Lon    Base\n",
      "0           0  4/1/2014 0:11:00  40.7690 -73.9549  B02512\n",
      "1           1  4/1/2014 0:17:00  40.7267 -74.0345  B02512\n",
      "2           2  4/1/2014 0:21:00  40.7316 -73.9873  B02512\n",
      "3           3  4/1/2014 0:28:00  40.7588 -73.9776  B02512\n",
      "4           4  4/1/2014 0:33:00  40.7594 -73.9722  B02512\n"
     ]
    }
   ],
   "source": [
    "uber_data = pd.read_csv('nyc_uber_2014.csv')\n",
    "print(uber_data.head())"
   ]
  },
  {
   "cell_type": "code",
   "execution_count": 82,
   "metadata": {},
   "outputs": [
    {
     "name": "stdout",
     "output_type": "stream",
     "text": [
      "     Unnamed: 0         Date/Time      Lat      Lon    Base\n",
      "0             0  4/1/2014 0:11:00  40.7690 -73.9549  B02512\n",
      "1             1  4/1/2014 0:17:00  40.7267 -74.0345  B02512\n",
      "2             2  4/1/2014 0:21:00  40.7316 -73.9873  B02512\n",
      "3             3  4/1/2014 0:28:00  40.7588 -73.9776  B02512\n",
      "4             4  4/1/2014 0:33:00  40.7594 -73.9722  B02512\n",
      "5             5  4/1/2014 0:33:00  40.7383 -74.0403  B02512\n",
      "6             6  4/1/2014 0:39:00  40.7223 -73.9887  B02512\n",
      "7             7  4/1/2014 0:45:00  40.7620 -73.9790  B02512\n",
      "8             8  4/1/2014 0:55:00  40.7524 -73.9960  B02512\n",
      "9             9  4/1/2014 1:01:00  40.7575 -73.9846  B02512\n",
      "10           10  4/1/2014 1:19:00  40.7256 -73.9869  B02512\n",
      "11           11  4/1/2014 1:48:00  40.7591 -73.9684  B02512\n",
      "12           12  4/1/2014 1:49:00  40.7271 -73.9803  B02512\n",
      "13           13  4/1/2014 2:11:00  40.6463 -73.7896  B02512\n",
      "14           14  4/1/2014 2:25:00  40.7564 -73.9167  B02512\n",
      "15           15  4/1/2014 2:31:00  40.7666 -73.9531  B02512\n",
      "16           16  4/1/2014 2:43:00  40.7580 -73.9761  B02512\n",
      "17           17  4/1/2014 3:22:00  40.7238 -73.9821  B02512\n",
      "18           18  4/1/2014 3:35:00  40.7531 -74.0039  B02512\n",
      "19           19  4/1/2014 3:35:00  40.7389 -74.0393  B02512\n",
      "20           20  4/1/2014 3:41:00  40.7619 -73.9715  B02512\n",
      "21           21  4/1/2014 4:11:00  40.7530 -74.0042  B02512\n",
      "22           22  4/1/2014 4:15:00  40.6561 -73.9531  B02512\n",
      "23           23  4/1/2014 4:19:00  40.7250 -73.9844  B02512\n",
      "24           24  4/1/2014 4:20:00  40.6950 -74.1783  B02512\n",
      "25           25  4/1/2014 4:26:00  40.9859 -74.1578  B02512\n",
      "26           26  4/1/2014 4:27:00  40.6879 -74.1814  B02512\n",
      "27           27  4/1/2014 4:38:00  40.6878 -74.1816  B02512\n",
      "28           28  4/1/2014 4:47:00  40.7234 -73.9974  B02512\n",
      "29           29  4/1/2014 4:49:00  40.7336 -73.9900  B02512\n",
      "..          ...               ...      ...      ...     ...\n",
      "267          69  6/1/2014 2:50:00  40.7190 -73.9888  B02512\n",
      "268          70  6/1/2014 2:51:00  40.6564 -73.6453  B02512\n",
      "269          71  6/1/2014 2:53:00  40.7261 -73.9918  B02512\n",
      "270          72  6/1/2014 2:54:00  40.7191 -73.9892  B02512\n",
      "271          73  6/1/2014 2:58:00  40.7286 -73.9954  B02512\n",
      "272          74  6/1/2014 3:10:00  40.7615 -73.9750  B02512\n",
      "273          75  6/1/2014 3:11:00  40.7278 -73.9991  B02512\n",
      "274          76  6/1/2014 3:14:00  40.7503 -73.9839  B02512\n",
      "275          77  6/1/2014 3:19:00  40.7389 -74.0081  B02512\n",
      "276          78  6/1/2014 3:23:00  40.7750 -73.9907  B02512\n",
      "277          79  6/1/2014 3:32:00  40.7054 -74.0072  B02512\n",
      "278          80  6/1/2014 3:35:00  40.7303 -74.0025  B02512\n",
      "279          81  6/1/2014 3:36:00  40.7347 -73.9924  B02512\n",
      "280          82  6/1/2014 4:03:00  40.7224 -73.9878  B02512\n",
      "281          83  6/1/2014 4:51:00  40.6982 -73.4620  B02512\n",
      "282          84  6/1/2014 4:54:00  40.6449 -73.7818  B02512\n",
      "283          85  6/1/2014 4:56:00  40.6450 -73.7820  B02512\n",
      "284          86  6/1/2014 5:07:00  40.7699 -73.9843  B02512\n",
      "285          87  6/1/2014 5:10:00  40.7372 -73.9967  B02512\n",
      "286          88  6/1/2014 5:14:00  40.6448 -73.7826  B02512\n",
      "287          89  6/1/2014 5:48:00  40.7228 -74.0019  B02512\n",
      "288          90  6/1/2014 6:19:00  40.7360 -73.9792  B02512\n",
      "289          91  6/1/2014 6:21:00  40.7536 -73.9915  B02512\n",
      "290          92  6/1/2014 6:24:00  40.7615 -73.9881  B02512\n",
      "291          93  6/1/2014 6:25:00  40.8525 -73.8281  B02512\n",
      "292          94  6/1/2014 6:27:00  40.7554 -73.9738  B02512\n",
      "293          95  6/1/2014 6:35:00  40.7543 -73.9817  B02512\n",
      "294          96  6/1/2014 6:37:00  40.7751 -73.9633  B02512\n",
      "295          97  6/1/2014 6:46:00  40.6952 -74.1784  B02512\n",
      "296          98  6/1/2014 6:51:00  40.7621 -73.9817  B02512\n",
      "\n",
      "[297 rows x 5 columns]\n"
     ]
    }
   ],
   "source": [
    "uber1 = uber_data[0:] is in ['Date' == '']\n",
    "print(uber1)"
   ]
  },
  {
   "cell_type": "code",
   "execution_count": 2,
   "metadata": {},
   "outputs": [
    {
     "name": "stdout",
     "output_type": "stream",
     "text": [
      "         Date  Day      variable   value\n",
      "0    1/5/2015  289  Cases_Guinea  2776.0\n",
      "1    1/4/2015  288  Cases_Guinea  2775.0\n",
      "2    1/3/2015  287  Cases_Guinea  2769.0\n",
      "3    1/2/2015  286  Cases_Guinea     NaN\n",
      "4  12/31/2014  284  Cases_Guinea  2730.0\n",
      "            Date  Day      variable   value  type_country\n",
      "0       1/5/2015  289  Cases_Guinea  2776.0  Cases_Guinea\n",
      "1       1/4/2015  288  Cases_Guinea  2775.0  Cases_Guinea\n",
      "2       1/3/2015  287  Cases_Guinea  2769.0  Cases_Guinea\n",
      "3       1/2/2015  286  Cases_Guinea     NaN  Cases_Guinea\n",
      "4     12/31/2014  284  Cases_Guinea  2730.0  Cases_Guinea\n",
      "5     12/28/2014  281  Cases_Guinea  2706.0  Cases_Guinea\n",
      "6     12/27/2014  280  Cases_Guinea  2695.0  Cases_Guinea\n",
      "7     12/24/2014  277  Cases_Guinea  2630.0  Cases_Guinea\n",
      "8     12/21/2014  273  Cases_Guinea  2597.0  Cases_Guinea\n",
      "9     12/20/2014  272  Cases_Guinea  2571.0  Cases_Guinea\n",
      "10    12/18/2014  271  Cases_Guinea     NaN  Cases_Guinea\n",
      "11    12/14/2014  267  Cases_Guinea  2416.0  Cases_Guinea\n",
      "12     12/9/2014  262  Cases_Guinea     NaN  Cases_Guinea\n",
      "13     12/7/2014  260  Cases_Guinea  2292.0  Cases_Guinea\n",
      "14     12/3/2014  256  Cases_Guinea     NaN  Cases_Guinea\n",
      "15    11/30/2014  253  Cases_Guinea  2164.0  Cases_Guinea\n",
      "16    11/28/2014  251  Cases_Guinea     NaN  Cases_Guinea\n",
      "17    11/23/2014  246  Cases_Guinea  2134.0  Cases_Guinea\n",
      "18    11/22/2014  245  Cases_Guinea     NaN  Cases_Guinea\n",
      "19    11/18/2014  241  Cases_Guinea  2047.0  Cases_Guinea\n",
      "20    11/16/2014  239  Cases_Guinea  1971.0  Cases_Guinea\n",
      "21    11/15/2014  238  Cases_Guinea     NaN  Cases_Guinea\n",
      "22    11/11/2014  234  Cases_Guinea  1919.0  Cases_Guinea\n",
      "23    11/10/2014  233  Cases_Guinea     NaN  Cases_Guinea\n",
      "24     11/9/2014  232  Cases_Guinea  1878.0  Cases_Guinea\n",
      "25     11/8/2014  231  Cases_Guinea     NaN  Cases_Guinea\n",
      "26     11/4/2014  227  Cases_Guinea     NaN  Cases_Guinea\n",
      "27     11/3/2014  226  Cases_Guinea  1760.0  Cases_Guinea\n",
      "28     11/2/2014  225  Cases_Guinea  1731.0  Cases_Guinea\n",
      "29    10/31/2014  222  Cases_Guinea     NaN  Cases_Guinea\n",
      "...          ...  ...           ...     ...           ...\n",
      "1922   5/23/2014   62   Deaths_Mali     NaN   Deaths_Mali\n",
      "1923   5/12/2014   51   Deaths_Mali     NaN   Deaths_Mali\n",
      "1924   5/10/2014   49   Deaths_Mali     NaN   Deaths_Mali\n",
      "1925    5/7/2014   46   Deaths_Mali     NaN   Deaths_Mali\n",
      "1926    5/5/2014   44   Deaths_Mali     NaN   Deaths_Mali\n",
      "1927    5/3/2014   42   Deaths_Mali     NaN   Deaths_Mali\n",
      "1928    5/1/2014   40   Deaths_Mali     NaN   Deaths_Mali\n",
      "1929   4/26/2014   35   Deaths_Mali     NaN   Deaths_Mali\n",
      "1930   4/24/2014   33   Deaths_Mali     NaN   Deaths_Mali\n",
      "1931   4/23/2014   32   Deaths_Mali     NaN   Deaths_Mali\n",
      "1932   4/22/2014   31   Deaths_Mali     NaN   Deaths_Mali\n",
      "1933   4/21/2014   30   Deaths_Mali     NaN   Deaths_Mali\n",
      "1934   4/20/2014   29   Deaths_Mali     NaN   Deaths_Mali\n",
      "1935   4/17/2014   26   Deaths_Mali     NaN   Deaths_Mali\n",
      "1936   4/16/2014   25   Deaths_Mali     NaN   Deaths_Mali\n",
      "1937   4/15/2014   24   Deaths_Mali     NaN   Deaths_Mali\n",
      "1938   4/14/2014   23   Deaths_Mali     NaN   Deaths_Mali\n",
      "1939   4/11/2014   20   Deaths_Mali     NaN   Deaths_Mali\n",
      "1940    4/9/2014   18   Deaths_Mali     NaN   Deaths_Mali\n",
      "1941    4/7/2014   16   Deaths_Mali     NaN   Deaths_Mali\n",
      "1942    4/4/2014   13   Deaths_Mali     NaN   Deaths_Mali\n",
      "1943    4/1/2014   10   Deaths_Mali     NaN   Deaths_Mali\n",
      "1944   3/31/2014    9   Deaths_Mali     NaN   Deaths_Mali\n",
      "1945   3/29/2014    7   Deaths_Mali     NaN   Deaths_Mali\n",
      "1946   3/28/2014    6   Deaths_Mali     NaN   Deaths_Mali\n",
      "1947   3/27/2014    5   Deaths_Mali     NaN   Deaths_Mali\n",
      "1948   3/26/2014    4   Deaths_Mali     NaN   Deaths_Mali\n",
      "1949   3/25/2014    3   Deaths_Mali     NaN   Deaths_Mali\n",
      "1950   3/24/2014    2   Deaths_Mali     NaN   Deaths_Mali\n",
      "1951   3/22/2014    0   Deaths_Mali     NaN   Deaths_Mali\n",
      "\n",
      "[1952 rows x 5 columns]\n"
     ]
    }
   ],
   "source": [
    "import pandas as pd\n",
    "ebola = pd.read_csv('ebola.csv')\n",
    "ebola_melt = pd.melt(frame=ebola,id_vars=['Date','Day'])\n",
    "print(ebola_melt.head())\n",
    "\n",
    "ebola_melt['type_country'] = ebola_melt.variable.str[0:]\n",
    "print(ebola_melt)\n",
    "# Concatenate ebola_melt and status_country column-wise: ebola_tidy\n",
    "#ebola_tidy = pd.concat([ebola_melt,type_country],axis=1)\n",
    "\n",
    "# Print the shape of ebola_tidy\n",
    "#print(ebola_tidy.shape)\n",
    "\n",
    "# Print the head of ebola_tidy\n",
    "#print(ebola_tidy.head())"
   ]
  },
  {
   "cell_type": "code",
   "execution_count": 3,
   "metadata": {},
   "outputs": [
    {
     "name": "stdout",
     "output_type": "stream",
     "text": [
      "         Date  Day  Cases_Guinea  Cases_Liberia  Cases_SierraLeone  \\\n",
      "0    1/5/2015  289        2776.0            NaN            10030.0   \n",
      "1    1/4/2015  288        2775.0            NaN             9780.0   \n",
      "2    1/3/2015  287        2769.0         8166.0             9722.0   \n",
      "3    1/2/2015  286           NaN         8157.0                NaN   \n",
      "4  12/31/2014  284        2730.0         8115.0             9633.0   \n",
      "\n",
      "   Cases_Nigeria  Cases_Senegal  Cases_UnitedStates  Cases_Spain  Cases_Mali  \\\n",
      "0            NaN            NaN                 NaN          NaN         NaN   \n",
      "1            NaN            NaN                 NaN          NaN         NaN   \n",
      "2            NaN            NaN                 NaN          NaN         NaN   \n",
      "3            NaN            NaN                 NaN          NaN         NaN   \n",
      "4            NaN            NaN                 NaN          NaN         NaN   \n",
      "\n",
      "   Deaths_Guinea  Deaths_Liberia  Deaths_SierraLeone  Deaths_Nigeria  \\\n",
      "0         1786.0             NaN              2977.0             NaN   \n",
      "1         1781.0             NaN              2943.0             NaN   \n",
      "2         1767.0          3496.0              2915.0             NaN   \n",
      "3            NaN          3496.0                 NaN             NaN   \n",
      "4         1739.0          3471.0              2827.0             NaN   \n",
      "\n",
      "   Deaths_Senegal  Deaths_UnitedStates  Deaths_Spain  Deaths_Mali  \n",
      "0             NaN                  NaN           NaN          NaN  \n",
      "1             NaN                  NaN           NaN          NaN  \n",
      "2             NaN                  NaN           NaN          NaN  \n",
      "3             NaN                  NaN           NaN          NaN  \n",
      "4             NaN                  NaN           NaN          NaN  \n"
     ]
    }
   ],
   "source": [
    "print(ebola.head())"
   ]
  },
  {
   "cell_type": "code",
   "execution_count": 4,
   "metadata": {},
   "outputs": [
    {
     "name": "stdout",
     "output_type": "stream",
     "text": [
      "Date                    object\n",
      "Day                      int64\n",
      "Cases_Guinea           float64\n",
      "Cases_Liberia          float64\n",
      "Cases_SierraLeone      float64\n",
      "Cases_Nigeria          float64\n",
      "Cases_Senegal          float64\n",
      "Cases_UnitedStates     float64\n",
      "Cases_Spain            float64\n",
      "Cases_Mali             float64\n",
      "Deaths_Guinea          float64\n",
      "Deaths_Liberia         float64\n",
      "Deaths_SierraLeone     float64\n",
      "Deaths_Nigeria         float64\n",
      "Deaths_Senegal         float64\n",
      "Deaths_UnitedStates    float64\n",
      "Deaths_Spain           float64\n",
      "Deaths_Mali            float64\n",
      "dtype: object\n"
     ]
    }
   ],
   "source": [
    "print(ebola.dtypes)"
   ]
  },
  {
   "cell_type": "code",
   "execution_count": 6,
   "metadata": {},
   "outputs": [
    {
     "name": "stdout",
     "output_type": "stream",
     "text": [
      "Date                    object\n",
      "Day                      int64\n",
      "Cases_Guinea           float64\n",
      "Cases_Liberia          float64\n",
      "Cases_SierraLeone      float64\n",
      "Cases_Nigeria          float64\n",
      "Cases_Senegal          float64\n",
      "Cases_UnitedStates     float64\n",
      "Cases_Spain            float64\n",
      "Cases_Mali             float64\n",
      "Deaths_Guinea          float64\n",
      "Deaths_Liberia         float64\n",
      "Deaths_SierraLeone     float64\n",
      "Deaths_Nigeria         float64\n",
      "Deaths_Senegal         float64\n",
      "Deaths_UnitedStates    float64\n",
      "Deaths_Spain           float64\n",
      "Deaths_Mali            float64\n",
      "dtype: object\n"
     ]
    }
   ],
   "source": [
    "ebola['Date'] = ebola['Cases_Guinea'].astype(str)\n",
    "print(ebola.dtypes)"
   ]
  },
  {
   "cell_type": "code",
   "execution_count": 8,
   "metadata": {},
   "outputs": [
    {
     "name": "stdout",
     "output_type": "stream",
     "text": [
      "   total_bill   tip     sex smoker  day    time  size\n",
      "0       16.99  1.01  Female     No  Sun  Dinner     2\n",
      "1       10.34  1.66    Male     No  Sun  Dinner     3\n",
      "2       21.01  3.50    Male     No  Sun  Dinner     3\n",
      "3       23.68  3.31    Male     No  Sun  Dinner     2\n",
      "4       24.59  3.61  Female     No  Sun  Dinner     4\n"
     ]
    }
   ],
   "source": [
    "tips_dataset = pd.read_csv('tips.csv')\n",
    "print(tips_dataset.head())"
   ]
  },
  {
   "cell_type": "code",
   "execution_count": 9,
   "metadata": {},
   "outputs": [
    {
     "name": "stdout",
     "output_type": "stream",
     "text": [
      "total_bill    float64\n",
      "tip           float64\n",
      "sex            object\n",
      "smoker         object\n",
      "day            object\n",
      "time           object\n",
      "size            int64\n",
      "dtype: object\n"
     ]
    }
   ],
   "source": [
    "print(tips_dataset.dtypes)"
   ]
  },
  {
   "cell_type": "code",
   "execution_count": 10,
   "metadata": {},
   "outputs": [
    {
     "name": "stdout",
     "output_type": "stream",
     "text": [
      "<class 'pandas.core.frame.DataFrame'>\n",
      "RangeIndex: 244 entries, 0 to 243\n",
      "Data columns (total 7 columns):\n",
      "total_bill    244 non-null float64\n",
      "tip           244 non-null float64\n",
      "sex           244 non-null object\n",
      "smoker        244 non-null object\n",
      "day           244 non-null object\n",
      "time          244 non-null object\n",
      "size          244 non-null int64\n",
      "dtypes: float64(2), int64(1), object(4)\n",
      "memory usage: 13.4+ KB\n"
     ]
    }
   ],
   "source": [
    "tips_dataset.info()"
   ]
  },
  {
   "cell_type": "code",
   "execution_count": 14,
   "metadata": {},
   "outputs": [
    {
     "name": "stdout",
     "output_type": "stream",
     "text": [
      "<class 'pandas.core.frame.DataFrame'>\n",
      "RangeIndex: 244 entries, 0 to 243\n",
      "Data columns (total 7 columns):\n",
      "total_bill    244 non-null float64\n",
      "tip           244 non-null float64\n",
      "sex           244 non-null category\n",
      "smoker        244 non-null object\n",
      "day           244 non-null object\n",
      "time          244 non-null object\n",
      "size          244 non-null int64\n",
      "dtypes: category(1), float64(2), int64(1), object(3)\n",
      "memory usage: 11.8+ KB\n",
      "None\n",
      "   total_bill   tip     sex smoker  day    time  size\n",
      "0       16.99  1.01  Female     No  Sun  Dinner     2\n",
      "1       10.34  1.66    Male     No  Sun  Dinner     3\n",
      "2       21.01  3.50    Male     No  Sun  Dinner     3\n",
      "3       23.68  3.31    Male     No  Sun  Dinner     2\n",
      "4       24.59  3.61  Female     No  Sun  Dinner     4\n"
     ]
    }
   ],
   "source": [
    "tips_dataset.sex = tips_dataset.sex.astype('category')\n",
    "print(tips_dataset.info())\n",
    "print(tips_dataset.head())"
   ]
  },
  {
   "cell_type": "code",
   "execution_count": 16,
   "metadata": {},
   "outputs": [
    {
     "name": "stdout",
     "output_type": "stream",
     "text": [
      "<class 'pandas.core.frame.DataFrame'>\n",
      "RangeIndex: 244 entries, 0 to 243\n",
      "Data columns (total 7 columns):\n",
      "total_bill    244 non-null float64\n",
      "tip           244 non-null float64\n",
      "sex           244 non-null category\n",
      "smoker        244 non-null category\n",
      "day           244 non-null object\n",
      "time          244 non-null object\n",
      "size          244 non-null int64\n",
      "dtypes: category(2), float64(2), int64(1), object(2)\n",
      "memory usage: 10.3+ KB\n"
     ]
    }
   ],
   "source": [
    "tips_dataset.smoker = tips_dataset.smoker.astype('category')\n",
    "tips_dataset.info()"
   ]
  },
  {
   "cell_type": "code",
   "execution_count": 17,
   "metadata": {},
   "outputs": [
    {
     "name": "stdout",
     "output_type": "stream",
     "text": [
      "   total_bill   tip     sex smoker  day    time  size\n",
      "0       16.99  1.01  Female     No  Sun  Dinner     2\n",
      "1       10.34  1.66    Male     No  Sun  Dinner     3\n",
      "2       21.01  3.50    Male     No  Sun  Dinner     3\n",
      "3       23.68  3.31    Male     No  Sun  Dinner     2\n",
      "4       24.59  3.61  Female     No  Sun  Dinner     4\n"
     ]
    }
   ],
   "source": [
    "print(tips_dataset.head())"
   ]
  },
  {
   "cell_type": "code",
   "execution_count": 20,
   "metadata": {},
   "outputs": [
    {
     "name": "stdout",
     "output_type": "stream",
     "text": [
      "<class 'pandas.core.frame.DataFrame'>\n",
      "RangeIndex: 244 entries, 0 to 243\n",
      "Data columns (total 7 columns):\n",
      "total_bill    244 non-null float64\n",
      "tip           244 non-null float64\n",
      "sex           244 non-null category\n",
      "smoker        244 non-null category\n",
      "day           244 non-null object\n",
      "time          244 non-null object\n",
      "size          244 non-null int64\n",
      "dtypes: category(2), float64(2), int64(1), object(2)\n",
      "memory usage: 10.3+ KB\n",
      "None\n"
     ]
    }
   ],
   "source": [
    "tips_dataset.total_bill = pd.to_numeric(tips_dataset['total_bill'],errors='coerce')\n",
    "print(tips_dataset.info())"
   ]
  },
  {
   "cell_type": "code",
   "execution_count": 21,
   "metadata": {},
   "outputs": [
    {
     "name": "stdout",
     "output_type": "stream",
     "text": [
      "   total_bill   tip     sex smoker  day    time  size\n",
      "0       16.99  1.01  Female     No  Sun  Dinner     2\n",
      "1       10.34  1.66    Male     No  Sun  Dinner     3\n",
      "2       21.01  3.50    Male     No  Sun  Dinner     3\n",
      "3       23.68  3.31    Male     No  Sun  Dinner     2\n",
      "4       24.59  3.61  Female     No  Sun  Dinner     4\n",
      "5       25.29  4.71    Male     No  Sun  Dinner     4\n",
      "6        8.77  2.00    Male     No  Sun  Dinner     2\n",
      "7       26.88  3.12    Male     No  Sun  Dinner     4\n",
      "8       15.04  1.96    Male     No  Sun  Dinner     2\n",
      "9       14.78  3.23    Male     No  Sun  Dinner     2\n",
      "--------------------------------->\n",
      "     total_bill   tip     sex smoker   day    time  size\n",
      "234       15.53  3.00    Male    Yes   Sat  Dinner     2\n",
      "235       10.07  1.25    Male     No   Sat  Dinner     2\n",
      "236       12.60  1.00    Male    Yes   Sat  Dinner     2\n",
      "237       32.83  1.17    Male    Yes   Sat  Dinner     2\n",
      "238       35.83  4.67  Female     No   Sat  Dinner     3\n",
      "239       29.03  5.92    Male     No   Sat  Dinner     3\n",
      "240       27.18  2.00  Female    Yes   Sat  Dinner     2\n",
      "241       22.67  2.00    Male    Yes   Sat  Dinner     2\n",
      "242       17.82  1.75    Male     No   Sat  Dinner     2\n",
      "243       18.78  3.00  Female     No  Thur  Dinner     2\n"
     ]
    }
   ],
   "source": [
    "print(tips_dataset.head(10))\n",
    "print('--------------------------------->')\n",
    "print(tips_dataset.tail(10))"
   ]
  },
  {
   "cell_type": "code",
   "execution_count": 22,
   "metadata": {},
   "outputs": [
    {
     "name": "stdout",
     "output_type": "stream",
     "text": [
      "     total_bill   tip     sex smoker   day    time  size\n",
      "0         16.99  1.01  Female     No   Sun  Dinner     2\n",
      "1         10.34  1.66    Male     No   Sun  Dinner     3\n",
      "2         21.01  3.50    Male     No   Sun  Dinner     3\n",
      "3         23.68  3.31    Male     No   Sun  Dinner     2\n",
      "4         24.59  3.61  Female     No   Sun  Dinner     4\n",
      "5         25.29  4.71    Male     No   Sun  Dinner     4\n",
      "6          8.77  2.00    Male     No   Sun  Dinner     2\n",
      "7         26.88  3.12    Male     No   Sun  Dinner     4\n",
      "8         15.04  1.96    Male     No   Sun  Dinner     2\n",
      "9         14.78  3.23    Male     No   Sun  Dinner     2\n",
      "10        10.27  1.71    Male     No   Sun  Dinner     2\n",
      "11        35.26  5.00  Female     No   Sun  Dinner     4\n",
      "12        15.42  1.57    Male     No   Sun  Dinner     2\n",
      "13        18.43  3.00    Male     No   Sun  Dinner     4\n",
      "14        14.83  3.02  Female     No   Sun  Dinner     2\n",
      "15        21.58  3.92    Male     No   Sun  Dinner     2\n",
      "16        10.33  1.67  Female     No   Sun  Dinner     3\n",
      "17        16.29  3.71    Male     No   Sun  Dinner     3\n",
      "18        16.97  3.50  Female     No   Sun  Dinner     3\n",
      "19        20.65  3.35    Male     No   Sat  Dinner     3\n",
      "20        17.92  4.08    Male     No   Sat  Dinner     2\n",
      "21        20.29  2.75  Female     No   Sat  Dinner     2\n",
      "22        15.77  2.23  Female     No   Sat  Dinner     2\n",
      "23        39.42  7.58    Male     No   Sat  Dinner     4\n",
      "24        19.82  3.18    Male     No   Sat  Dinner     2\n",
      "25        17.81  2.34    Male     No   Sat  Dinner     4\n",
      "26        13.37  2.00    Male     No   Sat  Dinner     2\n",
      "27        12.69  2.00    Male     No   Sat  Dinner     2\n",
      "28        21.70  4.30    Male     No   Sat  Dinner     2\n",
      "29        19.65  3.00  Female     No   Sat  Dinner     2\n",
      "..          ...   ...     ...    ...   ...     ...   ...\n",
      "214       28.17  6.50  Female    Yes   Sat  Dinner     3\n",
      "215       12.90  1.10  Female    Yes   Sat  Dinner     2\n",
      "216       28.15  3.00    Male    Yes   Sat  Dinner     5\n",
      "217       11.59  1.50    Male    Yes   Sat  Dinner     2\n",
      "218        7.74  1.44    Male    Yes   Sat  Dinner     2\n",
      "219       30.14  3.09  Female    Yes   Sat  Dinner     4\n",
      "220       12.16  2.20    Male    Yes   Fri   Lunch     2\n",
      "221       13.42  3.48  Female    Yes   Fri   Lunch     2\n",
      "222        8.58  1.92    Male    Yes   Fri   Lunch     1\n",
      "223       15.98  3.00  Female     No   Fri   Lunch     3\n",
      "224       13.42  1.58    Male    Yes   Fri   Lunch     2\n",
      "225       16.27  2.50  Female    Yes   Fri   Lunch     2\n",
      "226       10.09  2.00  Female    Yes   Fri   Lunch     2\n",
      "227       20.45  3.00    Male     No   Sat  Dinner     4\n",
      "228       13.28  2.72    Male     No   Sat  Dinner     2\n",
      "229       22.12  2.88  Female    Yes   Sat  Dinner     2\n",
      "230       24.01  2.00    Male    Yes   Sat  Dinner     4\n",
      "231       15.69  3.00    Male    Yes   Sat  Dinner     3\n",
      "232       11.61  3.39    Male     No   Sat  Dinner     2\n",
      "233       10.77  1.47    Male     No   Sat  Dinner     2\n",
      "234       15.53  3.00    Male    Yes   Sat  Dinner     2\n",
      "235       10.07  1.25    Male     No   Sat  Dinner     2\n",
      "236       12.60  1.00    Male    Yes   Sat  Dinner     2\n",
      "237       32.83  1.17    Male    Yes   Sat  Dinner     2\n",
      "238       35.83  4.67  Female     No   Sat  Dinner     3\n",
      "239       29.03  5.92    Male     No   Sat  Dinner     3\n",
      "240       27.18  2.00  Female    Yes   Sat  Dinner     2\n",
      "241       22.67  2.00    Male    Yes   Sat  Dinner     2\n",
      "242       17.82  1.75    Male     No   Sat  Dinner     2\n",
      "243       18.78  3.00  Female     No  Thur  Dinner     2\n",
      "\n",
      "[244 rows x 7 columns]\n"
     ]
    }
   ],
   "source": [
    "print(tips_dataset)"
   ]
  },
  {
   "cell_type": "code",
   "execution_count": 24,
   "metadata": {},
   "outputs": [
    {
     "name": "stdout",
     "output_type": "stream",
     "text": [
      "<class 'pandas.core.frame.DataFrame'>\n",
      "RangeIndex: 244 entries, 0 to 243\n",
      "Data columns (total 7 columns):\n",
      "total_bill    244 non-null float64\n",
      "tip           244 non-null float64\n",
      "sex           244 non-null category\n",
      "smoker        244 non-null category\n",
      "day           244 non-null object\n",
      "time          244 non-null object\n",
      "size          244 non-null int64\n",
      "dtypes: category(2), float64(2), int64(1), object(2)\n",
      "memory usage: 10.3+ KB\n",
      "None\n"
     ]
    }
   ],
   "source": [
    "tips_dataset['tip'] = pd.to_numeric(tips_dataset['tip'],errors='coerce')\n",
    "print(tips_dataset.info())"
   ]
  },
  {
   "cell_type": "code",
   "execution_count": 25,
   "metadata": {},
   "outputs": [],
   "source": [
    "import re"
   ]
  },
  {
   "cell_type": "code",
   "execution_count": 26,
   "metadata": {},
   "outputs": [
    {
     "name": "stdout",
     "output_type": "stream",
     "text": [
      "True\n",
      "False\n"
     ]
    }
   ],
   "source": [
    "# Import the regular expression module\n",
    "import re\n",
    "\n",
    "# Compile the pattern: prog\n",
    "prog = re.compile('\\d{3}-\\d{3}-\\d{4}')\n",
    "\n",
    "# See if the pattern matches\n",
    "result = prog.match('123-456-7890')\n",
    "print(bool(result))\n",
    "\n",
    "# See if the pattern matches\n",
    "result2 = prog.match('1123-456-7890')\n",
    "print(bool(result2))\n"
   ]
  },
  {
   "cell_type": "code",
   "execution_count": 42,
   "metadata": {},
   "outputs": [
    {
     "name": "stdout",
     "output_type": "stream",
     "text": [
      "<class 'list'>\n",
      "['10', '1']\n"
     ]
    }
   ],
   "source": [
    "# Import the regular expression module\n",
    "import re\n",
    "\n",
    "# Find the numeric values: matches\n",
    "matches = re.findall('\\d+', 'the recipe calls for 10 strawberries and 1 banana')\n",
    "\n",
    "# Print the matches\n",
    "print(type(matches))\n",
    "print(matches)"
   ]
  },
  {
   "cell_type": "code",
   "execution_count": 43,
   "metadata": {},
   "outputs": [
    {
     "name": "stdout",
     "output_type": "stream",
     "text": [
      "<class 'list'>\n",
      "['the', 'recipe', 'calls', 'for', '10', 'strawberries', 'and', '1', 'banana']\n"
     ]
    }
   ],
   "source": [
    "# Import the regular expression module\n",
    "import re\n",
    "\n",
    "# Find the numeric values: matches\n",
    "matches = re.findall('\\w+', 'the recipe calls for 10 strawberries and 1 banana')\n",
    "\n",
    "# Print the matches\n",
    "print(type(matches))\n",
    "print(matches)"
   ]
  },
  {
   "cell_type": "code",
   "execution_count": 45,
   "metadata": {},
   "outputs": [
    {
     "name": "stdout",
     "output_type": "stream",
     "text": [
      "<re.Match object; span=(0, 12), match='123-456-7890'>\n",
      "True\n",
      "True\n",
      "True\n"
     ]
    }
   ],
   "source": [
    "# Write the first pattern\n",
    "pattern1 = (re.match(pattern='\\d{3}-\\d{3}-\\d{4}', string='123-456-7890'))\n",
    "print(pattern1)\n",
    "\n",
    "pattern1 = bool(re.match(pattern='\\d{3}-\\d{3}-\\d{4}', string='123-456-7890'))\n",
    "print(pattern1)\n",
    "\n",
    "# Write the second pattern\n",
    "pattern2 = bool(re.match(pattern='\\$\\d*\\.\\d{2}', string='$123.45'))\n",
    "print(pattern2)\n",
    "\n",
    "# Write the third pattern\n",
    "pattern3 = bool(re.match(pattern='\\w+', string='Australia'))\n",
    "print(pattern3)"
   ]
  },
  {
   "cell_type": "code",
   "execution_count": 50,
   "metadata": {},
   "outputs": [
    {
     "name": "stdout",
     "output_type": "stream",
     "text": [
      "   total_bill   tip     sex smoker  day    time  size recode\n",
      "0       16.99  1.01  Female     No  Sun  Dinner     2      0\n",
      "1       10.34  1.66    Male     No  Sun  Dinner     3      1\n",
      "2       21.01  3.50    Male     No  Sun  Dinner     3      1\n",
      "3       23.68  3.31    Male     No  Sun  Dinner     2      1\n",
      "4       24.59  3.61  Female     No  Sun  Dinner     4      0\n"
     ]
    }
   ],
   "source": [
    "from numpy import NaN\n",
    "\n",
    "# Define recode_gender()\n",
    "def recode_gender(gender):\n",
    "\n",
    "    # Return 0 if gender is 'Female'\n",
    "    if gender == 'Male':\n",
    "        return 1\n",
    "    \n",
    "    # Return 1 if gender is 'Male'    \n",
    "    elif gender == 'Female':\n",
    "        return 0\n",
    "    \n",
    "    # Return np.nan    \n",
    "    else:\n",
    "        return np.nan\n",
    "\n",
    "# Apply the function to the sex column\n",
    "tips_dataset['recode'] = tips_dataset.sex.apply(recode_gender)\n",
    "\n",
    "# Print the first five rows of tips\n",
    "print(tips_dataset.head())\n"
   ]
  },
  {
   "cell_type": "code",
   "execution_count": 51,
   "metadata": {},
   "outputs": [
    {
     "ename": "AttributeError",
     "evalue": "'DataFrame' object has no attribute 'total_dollar'",
     "output_type": "error",
     "traceback": [
      "\u001b[1;31m---------------------------------------------------------------------------\u001b[0m",
      "\u001b[1;31mAttributeError\u001b[0m                            Traceback (most recent call last)",
      "\u001b[1;32m<ipython-input-51-a30ff9800029>\u001b[0m in \u001b[0;36m<module>\u001b[1;34m()\u001b[0m\n\u001b[0;32m      1\u001b[0m \u001b[1;31m# Write the lambda function using replace\u001b[0m\u001b[1;33m\u001b[0m\u001b[1;33m\u001b[0m\u001b[0m\n\u001b[1;32m----> 2\u001b[1;33m \u001b[0mtips_dataset\u001b[0m\u001b[1;33m[\u001b[0m\u001b[1;34m'total_dollar_replace'\u001b[0m\u001b[1;33m]\u001b[0m \u001b[1;33m=\u001b[0m \u001b[0mtips_dataset\u001b[0m\u001b[1;33m.\u001b[0m\u001b[0mtotal_dollar\u001b[0m\u001b[1;33m.\u001b[0m\u001b[0mapply\u001b[0m\u001b[1;33m(\u001b[0m\u001b[1;32mlambda\u001b[0m \u001b[0mx\u001b[0m\u001b[1;33m:\u001b[0m \u001b[0mx\u001b[0m\u001b[1;33m.\u001b[0m\u001b[0mreplace\u001b[0m\u001b[1;33m(\u001b[0m\u001b[1;34m'$'\u001b[0m\u001b[1;33m,\u001b[0m \u001b[1;34m''\u001b[0m\u001b[1;33m)\u001b[0m\u001b[1;33m)\u001b[0m\u001b[1;33m\u001b[0m\u001b[0m\n\u001b[0m\u001b[0;32m      3\u001b[0m \u001b[1;33m\u001b[0m\u001b[0m\n\u001b[0;32m      4\u001b[0m \u001b[1;31m# Write the lambda function using regular expressions\u001b[0m\u001b[1;33m\u001b[0m\u001b[1;33m\u001b[0m\u001b[0m\n\u001b[0;32m      5\u001b[0m \u001b[0mtips_dataset\u001b[0m\u001b[1;33m[\u001b[0m\u001b[1;34m'total_dollar_re'\u001b[0m\u001b[1;33m]\u001b[0m \u001b[1;33m=\u001b[0m \u001b[0mtips_dataset\u001b[0m\u001b[1;33m.\u001b[0m\u001b[0mtotal_dollar\u001b[0m\u001b[1;33m.\u001b[0m\u001b[0mapply\u001b[0m\u001b[1;33m(\u001b[0m\u001b[1;32mlambda\u001b[0m \u001b[0mx\u001b[0m\u001b[1;33m:\u001b[0m\u001b[0mre\u001b[0m\u001b[1;33m.\u001b[0m\u001b[0mfindall\u001b[0m\u001b[1;33m(\u001b[0m\u001b[1;34m'\\d+\\.\\d+'\u001b[0m\u001b[1;33m,\u001b[0m \u001b[0mx\u001b[0m\u001b[1;33m)\u001b[0m\u001b[1;33m[\u001b[0m\u001b[1;36m0\u001b[0m\u001b[1;33m]\u001b[0m\u001b[1;33m)\u001b[0m\u001b[1;33m\u001b[0m\u001b[0m\n",
      "\u001b[1;32mC:\\ProgramData\\Anaconda3\\lib\\site-packages\\pandas\\core\\generic.py\u001b[0m in \u001b[0;36m__getattr__\u001b[1;34m(self, name)\u001b[0m\n\u001b[0;32m   4374\u001b[0m             \u001b[1;32mif\u001b[0m \u001b[0mself\u001b[0m\u001b[1;33m.\u001b[0m\u001b[0m_info_axis\u001b[0m\u001b[1;33m.\u001b[0m\u001b[0m_can_hold_identifiers_and_holds_name\u001b[0m\u001b[1;33m(\u001b[0m\u001b[0mname\u001b[0m\u001b[1;33m)\u001b[0m\u001b[1;33m:\u001b[0m\u001b[1;33m\u001b[0m\u001b[0m\n\u001b[0;32m   4375\u001b[0m                 \u001b[1;32mreturn\u001b[0m \u001b[0mself\u001b[0m\u001b[1;33m[\u001b[0m\u001b[0mname\u001b[0m\u001b[1;33m]\u001b[0m\u001b[1;33m\u001b[0m\u001b[0m\n\u001b[1;32m-> 4376\u001b[1;33m             \u001b[1;32mreturn\u001b[0m \u001b[0mobject\u001b[0m\u001b[1;33m.\u001b[0m\u001b[0m__getattribute__\u001b[0m\u001b[1;33m(\u001b[0m\u001b[0mself\u001b[0m\u001b[1;33m,\u001b[0m \u001b[0mname\u001b[0m\u001b[1;33m)\u001b[0m\u001b[1;33m\u001b[0m\u001b[0m\n\u001b[0m\u001b[0;32m   4377\u001b[0m \u001b[1;33m\u001b[0m\u001b[0m\n\u001b[0;32m   4378\u001b[0m     \u001b[1;32mdef\u001b[0m \u001b[0m__setattr__\u001b[0m\u001b[1;33m(\u001b[0m\u001b[0mself\u001b[0m\u001b[1;33m,\u001b[0m \u001b[0mname\u001b[0m\u001b[1;33m,\u001b[0m \u001b[0mvalue\u001b[0m\u001b[1;33m)\u001b[0m\u001b[1;33m:\u001b[0m\u001b[1;33m\u001b[0m\u001b[0m\n",
      "\u001b[1;31mAttributeError\u001b[0m: 'DataFrame' object has no attribute 'total_dollar'"
     ]
    }
   ],
   "source": [
    "# Write the lambda function using replace\n",
    "tips_dataset['total_dollar_replace'] = tips_dataset.total_dollar.apply(lambda x: x.replace('$', ''))\n",
    "\n",
    "# Write the lambda function using regular expressions\n",
    "tips_dataset['total_dollar_re'] = tips_dataset.total_dollar.apply(lambda x:re.findall('\\d+\\.\\d+', x)[0])\n",
    "\n",
    "# Print the head of tips\n",
    "print(tips_dataset.head())"
   ]
  },
  {
   "cell_type": "code",
   "execution_count": 55,
   "metadata": {},
   "outputs": [
    {
     "name": "stdout",
     "output_type": "stream",
     "text": [
      "   total_bill   tip     sex smoker  day    time  size recode\n",
      "0       16.99  1.01  Female     No  Sun  Dinner     2      0\n",
      "1       10.34  1.66    Male     No  Sun  Dinner     3      1\n",
      "2       21.01  3.50    Male     No  Sun  Dinner     3      1\n",
      "3       23.68  3.31    Male     No  Sun  Dinner     2      1\n",
      "4       24.59  3.61  Female     No  Sun  Dinner     4      0\n",
      "<class 'pandas.core.frame.DataFrame'>\n",
      "RangeIndex: 244 entries, 0 to 243\n",
      "Data columns (total 8 columns):\n",
      "total_bill    244 non-null float64\n",
      "tip           244 non-null float64\n",
      "sex           244 non-null category\n",
      "smoker        244 non-null category\n",
      "day           244 non-null object\n",
      "time          244 non-null object\n",
      "size          244 non-null int64\n",
      "recode        244 non-null category\n",
      "dtypes: category(3), float64(2), int64(1), object(2)\n",
      "memory usage: 10.6+ KB\n"
     ]
    }
   ],
   "source": [
    "print(tips_dataset.head())\n",
    "tips_dataset.info()"
   ]
  },
  {
   "cell_type": "code",
   "execution_count": 56,
   "metadata": {},
   "outputs": [
    {
     "name": "stdout",
     "output_type": "stream",
     "text": [
      "<class 'pandas.core.frame.DataFrame'>\n",
      "Int64Index: 243 entries, 0 to 243\n",
      "Data columns (total 8 columns):\n",
      "total_bill    243 non-null float64\n",
      "tip           243 non-null float64\n",
      "sex           243 non-null category\n",
      "smoker        243 non-null category\n",
      "day           243 non-null object\n",
      "time          243 non-null object\n",
      "size          243 non-null int64\n",
      "recode        243 non-null category\n",
      "dtypes: category(3), float64(2), int64(1), object(2)\n",
      "memory usage: 12.4+ KB\n",
      "None\n",
      "   total_bill   tip     sex smoker  day    time  size recode\n",
      "0       16.99  1.01  Female     No  Sun  Dinner     2      0\n",
      "1       10.34  1.66    Male     No  Sun  Dinner     3      1\n",
      "2       21.01  3.50    Male     No  Sun  Dinner     3      1\n",
      "3       23.68  3.31    Male     No  Sun  Dinner     2      1\n",
      "4       24.59  3.61  Female     No  Sun  Dinner     4      0\n"
     ]
    }
   ],
   "source": [
    "tips_dataset_no_duplicates = tips_dataset.drop_duplicates()\n",
    "print(tips_dataset_no_duplicates.info())\n",
    "print(tips_dataset_no_duplicates.head())"
   ]
  },
  {
   "cell_type": "code",
   "execution_count": 57,
   "metadata": {},
   "outputs": [],
   "source": [
    "airquality = pd.read_csv('airquality.csv')"
   ]
  },
  {
   "cell_type": "code",
   "execution_count": 58,
   "metadata": {},
   "outputs": [
    {
     "name": "stdout",
     "output_type": "stream",
     "text": [
      "   Ozone  Solar.R  Wind  Temp  Month  Day\n",
      "0   41.0    190.0   7.4    67      5    1\n",
      "1   36.0    118.0   8.0    72      5    2\n",
      "2   12.0    149.0  12.6    74      5    3\n",
      "3   18.0    313.0  11.5    62      5    4\n",
      "4    NaN      NaN  14.3    56      5    5\n"
     ]
    }
   ],
   "source": [
    "print(airquality.head())"
   ]
  },
  {
   "cell_type": "code",
   "execution_count": 59,
   "metadata": {},
   "outputs": [
    {
     "name": "stdout",
     "output_type": "stream",
     "text": [
      "<class 'pandas.core.frame.DataFrame'>\n",
      "RangeIndex: 153 entries, 0 to 152\n",
      "Data columns (total 6 columns):\n",
      "Ozone      116 non-null float64\n",
      "Solar.R    146 non-null float64\n",
      "Wind       153 non-null float64\n",
      "Temp       153 non-null int64\n",
      "Month      153 non-null int64\n",
      "Day        153 non-null int64\n",
      "dtypes: float64(3), int64(3)\n",
      "memory usage: 7.2 KB\n",
      "None\n"
     ]
    }
   ],
   "source": [
    "print(airquality.info())"
   ]
  },
  {
   "cell_type": "code",
   "execution_count": 62,
   "metadata": {},
   "outputs": [
    {
     "name": "stdout",
     "output_type": "stream",
     "text": [
      "   Ozone  Solar.R  Wind  Temp  Month  Day\n",
      "0   41.0    190.0   7.4    67      5    1\n",
      "1   36.0    118.0   8.0    72      5    2\n",
      "2   12.0    149.0  12.6    74      5    3\n",
      "3   18.0    313.0  11.5    62      5    4\n",
      "4    NaN      NaN  14.3    56      5    5\n",
      "<class 'pandas.core.frame.DataFrame'>\n",
      "Int64Index: 153 entries, 0 to 152\n",
      "Data columns (total 6 columns):\n",
      "Ozone      116 non-null float64\n",
      "Solar.R    146 non-null float64\n",
      "Wind       153 non-null float64\n",
      "Temp       153 non-null int64\n",
      "Month      153 non-null int64\n",
      "Day        153 non-null int64\n",
      "dtypes: float64(3), int64(3)\n",
      "memory usage: 8.4 KB\n",
      "None\n"
     ]
    }
   ],
   "source": [
    "airquality_no_quality = airquality.drop_duplicates()\n",
    "print(airquality_no_quality.head())\n",
    "print(airquality_no_quality.info())"
   ]
  },
  {
   "cell_type": "code",
   "execution_count": 63,
   "metadata": {},
   "outputs": [],
   "source": [
    "oz_mean = airquality['Ozone'].mean()"
   ]
  },
  {
   "cell_type": "code",
   "execution_count": 66,
   "metadata": {},
   "outputs": [
    {
     "name": "stdout",
     "output_type": "stream",
     "text": [
      "<class 'pandas.core.frame.DataFrame'>\n",
      "RangeIndex: 153 entries, 0 to 152\n",
      "Data columns (total 6 columns):\n",
      "Ozone      153 non-null float64\n",
      "Solar.R    146 non-null float64\n",
      "Wind       153 non-null float64\n",
      "Temp       153 non-null int64\n",
      "Month      153 non-null int64\n",
      "Day        153 non-null int64\n",
      "dtypes: float64(3), int64(3)\n",
      "memory usage: 7.2 KB\n",
      "None\n",
      "      Ozone  Solar.R  Wind  Temp  Month  Day\n",
      "0  41.00000    190.0   7.4    67      5    1\n",
      "1  36.00000    118.0   8.0    72      5    2\n",
      "2  12.00000    149.0  12.6    74      5    3\n",
      "3  18.00000    313.0  11.5    62      5    4\n",
      "4  42.12931      NaN  14.3    56      5    5\n"
     ]
    }
   ],
   "source": [
    "airquality['Ozone'] = airquality['Ozone'].fillna(oz_mean)\n",
    "print(airquality.info())\n",
    "print(airquality.head())"
   ]
  },
  {
   "cell_type": "code",
   "execution_count": 1,
   "metadata": {},
   "outputs": [
    {
     "ename": "ModuleNotFoundError",
     "evalue": "No module named 'tensorflow'",
     "output_type": "error",
     "traceback": [
      "\u001b[1;31m---------------------------------------------------------------------------\u001b[0m",
      "\u001b[1;31mModuleNotFoundError\u001b[0m                       Traceback (most recent call last)",
      "\u001b[1;32m<ipython-input-1-64156d691fe5>\u001b[0m in \u001b[0;36m<module>\u001b[1;34m()\u001b[0m\n\u001b[1;32m----> 1\u001b[1;33m \u001b[1;32mimport\u001b[0m \u001b[0mtensorflow\u001b[0m \u001b[1;32mas\u001b[0m \u001b[0mtf\u001b[0m\u001b[1;33m\u001b[0m\u001b[0m\n\u001b[0m",
      "\u001b[1;31mModuleNotFoundError\u001b[0m: No module named 'tensorflow'"
     ]
    }
   ],
   "source": []
  }
 ],
 "metadata": {
  "kernelspec": {
   "display_name": "Python 3",
   "language": "python",
   "name": "python3"
  },
  "language_info": {
   "codemirror_mode": {
    "name": "ipython",
    "version": 3
   },
   "file_extension": ".py",
   "mimetype": "text/x-python",
   "name": "python",
   "nbconvert_exporter": "python",
   "pygments_lexer": "ipython3",
   "version": "3.7.0"
  }
 },
 "nbformat": 4,
 "nbformat_minor": 2
}
