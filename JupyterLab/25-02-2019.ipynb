{
 "cells": [
  {
   "cell_type": "code",
   "execution_count": 1,
   "metadata": {},
   "outputs": [],
   "source": [
    "from sqlalchemy import create_engine"
   ]
  },
  {
   "cell_type": "code",
   "execution_count": 10,
   "metadata": {},
   "outputs": [],
   "source": [
    "engine = create_engine('sqlite:///census_nyc.sqlite')\n",
    "connection = engine.connect()"
   ]
  },
  {
   "cell_type": "code",
   "execution_count": 12,
   "metadata": {},
   "outputs": [
    {
     "name": "stdout",
     "output_type": "stream",
     "text": [
      "[]\n"
     ]
    }
   ],
   "source": [
    "print(engine.table_names())"
   ]
  },
  {
   "cell_type": "code",
   "execution_count": 3,
   "metadata": {},
   "outputs": [
    {
     "name": "stdout",
     "output_type": "stream",
     "text": [
      "2\n",
      "0\n"
     ]
    },
    {
     "data": {
      "text/plain": [
       "['Paris, France',\n",
       " 'Shanghai, China',\n",
       " 'Los Angeles, USA',\n",
       " 'So Paulo, Brazil',\n",
       " 'Cairo, Egypt',\n",
       " 'Hyderabad, India']"
      ]
     },
     "execution_count": 3,
     "metadata": {},
     "output_type": "execute_result"
    }
   ],
   "source": [
    "destinations = [\"Paris, France\",\n",
    "\"Shanghai, China\",\n",
    "\"Los Angeles, USA\",\n",
    "\"So Paulo, Brazil\",\n",
    "\"Cairo, Egypt\"]\n",
    "\n",
    "test_traveler = ['Erin Wilkes', 'Shanghai, China', ['historical site', 'art']]\n",
    "\n",
    "def get_destination_index(destination):\n",
    "  destination_index = destinations.index(destination)\n",
    "  return destination_index\n",
    "print(get_destination_index(\"Los Angeles, USA\"))\n",
    "print(get_destination_index(\"Paris, France\"))\n",
    "# print(get_destination_index(\"Hyderabad, India\"))\n",
    "destinations.append(\"Hyderabad, India\")\n",
    "#print(get_destination_index(\"Hyderabad, India\"))\n",
    "destinations"
   ]
  }
 ],
 "metadata": {
  "kernelspec": {
   "display_name": "Python 3",
   "language": "python",
   "name": "python3"
  },
  "language_info": {
   "codemirror_mode": {
    "name": "ipython",
    "version": 3
   },
   "file_extension": ".py",
   "mimetype": "text/x-python",
   "name": "python",
   "nbconvert_exporter": "python",
   "pygments_lexer": "ipython3",
   "version": "3.7.0"
  }
 },
 "nbformat": 4,
 "nbformat_minor": 2
}
