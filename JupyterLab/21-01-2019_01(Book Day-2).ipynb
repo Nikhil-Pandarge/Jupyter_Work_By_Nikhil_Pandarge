{
 "cells": [
  {
   "cell_type": "markdown",
   "metadata": {},
   "source": [
    "- ### First Day Of work as DataSciencester:"
   ]
  },
  {
   "cell_type": "markdown",
   "metadata": {},
   "source": [
    "> #### You are on first day of work and your VP or team leader gives you info related to other member in terns of <u>user</u> and <u>friendship</u> as follows:"
   ]
  },
  {
   "cell_type": "code",
   "execution_count": 15,
   "metadata": {
    "collapsed": true
   },
   "outputs": [
    {
     "ename": "SyntaxError",
     "evalue": "invalid syntax (<ipython-input-15-99efe306c86c>, line 30)",
     "output_type": "error",
     "traceback": [
      "\u001b[1;36m  File \u001b[1;32m\"<ipython-input-15-99efe306c86c>\"\u001b[1;36m, line \u001b[1;32m30\u001b[0m\n\u001b[1;33m    sorted(num_friends_by_id,key=lambda(user_id, number_of_friends): number_of_friends,reverse=True)\u001b[0m\n\u001b[1;37m                                       ^\u001b[0m\n\u001b[1;31mSyntaxError\u001b[0m\u001b[1;31m:\u001b[0m invalid syntax\n"
     ]
    }
   ],
   "source": [
    "users = [{'id':0,'name':'Pradip'},\n",
    "        {'id':1,'name':'Prasad'},\n",
    "        {'id':2,'name':'Aditya'},\n",
    "        {'id':3,'name':'Nikhil'},\n",
    "        {'id':4,'name':'Vivek'},\n",
    "        {'id':5,'name':'Sanjana'}]\n",
    "friendship = [(0,1),(1,2),(2,3),(3,4),(4,5),(5,1)]\n",
    "\n",
    "# now we have to list of users that has frinds with each other so that first create empty list\n",
    "for user in users:\n",
    "    user['friends']=[]\n",
    "    \n",
    "for i,j in friendship:\n",
    "    users[i]['friends'].append(users[j]) #add i as a friend of j\n",
    "    users[j]['friends'].append(users[i]) #add j as a friend of i\n",
    "    \n",
    "# First we find the total number of connections, by summing up the lengths of all the friends lists:\n",
    "def number_of_friends(user):\n",
    "    return len(user['friends']) # length of friend_ids list\n",
    "\n",
    "total_number_connections = sum(number_of_friends(user) for user in users) # find out total numbers of connections\n",
    "\n",
    "number_of_users = len(users) # number of users\n",
    "\n",
    "avg_users =total_number_connections/number_of_users # predict the avg of users per connection\n",
    "\n",
    "# numbers of friends by id and users\n",
    "numbers_friends_by_id = [(user['id'],number_of_friends(user)) for user in users]\n",
    "\n",
    "sorted(num_friends_by_id,key=lambda(user_id, number_of_friends): number_of_friends,reverse=True)\n",
    "\n",
    "def friends_of_friend_ids_bad(user):\n",
    "    # \"foaf\" is short for \"friend of a friend\"\n",
    "    return [foaf[\"id\"]\n",
    "            for friend in user[\"friends\"] # for each of user's friends\n",
    "            for foaf in friend[\"friends\"]] # get each of _their_ friends\n",
    "\n",
    "print [friend[\"id\"] for friend in users[0][\"friends\"]] # [1, 2]\n",
    "print [friend[\"id\"] for friend in users[1][\"friends\"]] # [0, 2, 3]\n",
    "print [friend[\"id\"] for friend in users[2][\"friends\"]] # [0, 1, 3]"
   ]
  },
  {
   "cell_type": "markdown",
   "metadata": {},
   "source": [
    "- ------------------------------------------------------\n",
    "- ### Whitspace Formatting:\n"
   ]
  },
  {
   "cell_type": "code",
   "execution_count": 19,
   "metadata": {},
   "outputs": [
    {
     "name": "stdout",
     "output_type": "stream",
     "text": [
      "1 1\n",
      "2 0\n",
      "3 1\n",
      "------\n",
      "2 9\n",
      "3 10\n",
      "------\n",
      "2 8\n",
      "3 9\n",
      "------\n",
      "2 7\n",
      "3 8\n",
      "------\n",
      "2 6\n",
      "3 7\n",
      "------\n",
      "4 1\n",
      "1 2\n",
      "2 0\n",
      "3 2\n",
      "------\n",
      "2 9\n",
      "3 11\n",
      "------\n",
      "2 8\n",
      "3 10\n",
      "------\n",
      "2 7\n",
      "3 9\n",
      "------\n",
      "2 6\n",
      "3 8\n",
      "------\n",
      "4 2\n",
      "1 3\n",
      "2 0\n",
      "3 3\n",
      "------\n",
      "2 9\n",
      "3 12\n",
      "------\n",
      "2 8\n",
      "3 11\n",
      "------\n",
      "2 7\n",
      "3 10\n",
      "------\n",
      "2 6\n",
      "3 9\n",
      "------\n",
      "4 3\n",
      "1 4\n",
      "2 0\n",
      "3 4\n",
      "------\n",
      "2 9\n",
      "3 13\n",
      "------\n",
      "2 8\n",
      "3 12\n",
      "------\n",
      "2 7\n",
      "3 11\n",
      "------\n",
      "2 6\n",
      "3 10\n",
      "------\n",
      "4 4\n",
      "1 5\n",
      "2 0\n",
      "3 5\n",
      "------\n",
      "2 9\n",
      "3 14\n",
      "------\n",
      "2 8\n",
      "3 13\n",
      "------\n",
      "2 7\n",
      "3 12\n",
      "------\n",
      "2 6\n",
      "3 11\n",
      "------\n",
      "4 5\n",
      "done looping\n"
     ]
    }
   ],
   "source": [
    "for i in [1,2,3,4,5]: # first run this 'for loop'\n",
    "    \n",
    "    print('1',i) # take output from this and print i\n",
    "    \n",
    "    for j in [0,9,8,7,6]:\n",
    "        print('2',j)  # upto end this block\n",
    "        print('3',i+j)\n",
    "        print('------')\n",
    "    print('4',i)\n",
    "print(\"done looping\")"
   ]
  },
  {
   "cell_type": "code",
   "execution_count": 20,
   "metadata": {},
   "outputs": [
    {
     "data": {
      "text/plain": [
       "55"
      ]
     },
     "execution_count": 20,
     "metadata": {},
     "output_type": "execute_result"
    }
   ],
   "source": [
    "long_winded_computation = (1+2+3+4+5+6+7+8+9+10)\n",
    "long_winded_computation"
   ]
  }
 ],
 "metadata": {
  "kernelspec": {
   "display_name": "Python 3",
   "language": "python",
   "name": "python3"
  },
  "language_info": {
   "codemirror_mode": {
    "name": "ipython",
    "version": 3
   },
   "file_extension": ".py",
   "mimetype": "text/x-python",
   "name": "python",
   "nbconvert_exporter": "python",
   "pygments_lexer": "ipython3",
   "version": "3.7.0"
  }
 },
 "nbformat": 4,
 "nbformat_minor": 2
}
